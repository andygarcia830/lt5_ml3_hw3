{
 "cells": [
  {
   "cell_type": "markdown",
   "metadata": {},
   "source": [
    "### ML3 HW3\n",
    "#### LT5\n",
    "Borromeo, Chloe<br>\n",
    "Castanares, Michael<br>\n",
    "Garcia, Fernando Jude<br>\n",
    "Tan, Allan"
   ]
  },
  {
   "cell_type": "markdown",
   "metadata": {},
   "source": [
    "Assignment Instructions<br>\n",
    "Done by LT<br>\n",
    "Total: 12 points<br>\n",
    "Submit: Python Notebook (.ipynb)<br>\n",
    "Task (4pts each method)<br>\n",
    "Hourly Energy Consumption of Pennsylvania-New Jersey-Maryland Interconnection (PJM) West Region<br>\n",
    "\n",
    "Using the PJM West Region: 2001-2018 (PJMW) estimated hourly energy consumption data from PJM in Megawatts: https://www.kaggle.com/datasets/robikscube/hourly-energy-consumption/data. Forecast the total daily consumption one month in advance. Compare the MAE and MAPE accuracy of the best:<br><br>\n",
    "ARIMA<br>\n",
    "LSTM<br>\n",
    "GRU<br>"
   ]
  },
  {
   "cell_type": "markdown",
   "metadata": {},
   "source": [
    "### Load the data"
   ]
  },
  {
   "cell_type": "code",
   "execution_count": 2,
   "metadata": {},
   "outputs": [],
   "source": [
    "import pandas as pd"
   ]
  },
  {
   "cell_type": "code",
   "execution_count": 3,
   "metadata": {},
   "outputs": [],
   "source": [
    "file = 'data/PJMW_hourly.csv'"
   ]
  },
  {
   "cell_type": "code",
   "execution_count": 12,
   "metadata": {},
   "outputs": [
    {
     "data": {
      "text/html": [
       "<div>\n",
       "<style scoped>\n",
       "    .dataframe tbody tr th:only-of-type {\n",
       "        vertical-align: middle;\n",
       "    }\n",
       "\n",
       "    .dataframe tbody tr th {\n",
       "        vertical-align: top;\n",
       "    }\n",
       "\n",
       "    .dataframe thead th {\n",
       "        text-align: right;\n",
       "    }\n",
       "</style>\n",
       "<table border=\"1\" class=\"dataframe\">\n",
       "  <thead>\n",
       "    <tr style=\"text-align: right;\">\n",
       "      <th></th>\n",
       "      <th>Datetime</th>\n",
       "      <th>PJMW_MW</th>\n",
       "    </tr>\n",
       "  </thead>\n",
       "  <tbody>\n",
       "    <tr>\n",
       "      <th>0</th>\n",
       "      <td>2002-12-31 01:00:00</td>\n",
       "      <td>5077.0</td>\n",
       "    </tr>\n",
       "    <tr>\n",
       "      <th>1</th>\n",
       "      <td>2002-12-31 02:00:00</td>\n",
       "      <td>4939.0</td>\n",
       "    </tr>\n",
       "    <tr>\n",
       "      <th>2</th>\n",
       "      <td>2002-12-31 03:00:00</td>\n",
       "      <td>4885.0</td>\n",
       "    </tr>\n",
       "    <tr>\n",
       "      <th>3</th>\n",
       "      <td>2002-12-31 04:00:00</td>\n",
       "      <td>4857.0</td>\n",
       "    </tr>\n",
       "    <tr>\n",
       "      <th>4</th>\n",
       "      <td>2002-12-31 05:00:00</td>\n",
       "      <td>4930.0</td>\n",
       "    </tr>\n",
       "  </tbody>\n",
       "</table>\n",
       "</div>"
      ],
      "text/plain": [
       "              Datetime  PJMW_MW\n",
       "0  2002-12-31 01:00:00   5077.0\n",
       "1  2002-12-31 02:00:00   4939.0\n",
       "2  2002-12-31 03:00:00   4885.0\n",
       "3  2002-12-31 04:00:00   4857.0\n",
       "4  2002-12-31 05:00:00   4930.0"
      ]
     },
     "execution_count": 12,
     "metadata": {},
     "output_type": "execute_result"
    }
   ],
   "source": [
    "df = pd.read_csv(file)\n",
    "df.head()"
   ]
  },
  {
   "cell_type": "code",
   "execution_count": 13,
   "metadata": {},
   "outputs": [
    {
     "data": {
      "text/html": [
       "<div>\n",
       "<style scoped>\n",
       "    .dataframe tbody tr th:only-of-type {\n",
       "        vertical-align: middle;\n",
       "    }\n",
       "\n",
       "    .dataframe tbody tr th {\n",
       "        vertical-align: top;\n",
       "    }\n",
       "\n",
       "    .dataframe thead th {\n",
       "        text-align: right;\n",
       "    }\n",
       "</style>\n",
       "<table border=\"1\" class=\"dataframe\">\n",
       "  <thead>\n",
       "    <tr style=\"text-align: right;\">\n",
       "      <th></th>\n",
       "      <th>PJMW_MW</th>\n",
       "    </tr>\n",
       "  </thead>\n",
       "  <tbody>\n",
       "    <tr>\n",
       "      <th>count</th>\n",
       "      <td>143206.000000</td>\n",
       "    </tr>\n",
       "    <tr>\n",
       "      <th>mean</th>\n",
       "      <td>5602.375089</td>\n",
       "    </tr>\n",
       "    <tr>\n",
       "      <th>std</th>\n",
       "      <td>979.142872</td>\n",
       "    </tr>\n",
       "    <tr>\n",
       "      <th>min</th>\n",
       "      <td>487.000000</td>\n",
       "    </tr>\n",
       "    <tr>\n",
       "      <th>25%</th>\n",
       "      <td>4907.000000</td>\n",
       "    </tr>\n",
       "    <tr>\n",
       "      <th>50%</th>\n",
       "      <td>5530.000000</td>\n",
       "    </tr>\n",
       "    <tr>\n",
       "      <th>75%</th>\n",
       "      <td>6252.000000</td>\n",
       "    </tr>\n",
       "    <tr>\n",
       "      <th>max</th>\n",
       "      <td>9594.000000</td>\n",
       "    </tr>\n",
       "  </tbody>\n",
       "</table>\n",
       "</div>"
      ],
      "text/plain": [
       "             PJMW_MW\n",
       "count  143206.000000\n",
       "mean     5602.375089\n",
       "std       979.142872\n",
       "min       487.000000\n",
       "25%      4907.000000\n",
       "50%      5530.000000\n",
       "75%      6252.000000\n",
       "max      9594.000000"
      ]
     },
     "execution_count": 13,
     "metadata": {},
     "output_type": "execute_result"
    }
   ],
   "source": [
    "df.describe()"
   ]
  },
  {
   "cell_type": "markdown",
   "metadata": {},
   "source": [
    "Resample to get daily consumption"
   ]
  },
  {
   "cell_type": "code",
   "execution_count": null,
   "metadata": {},
   "outputs": [
    {
     "name": "stdout",
     "output_type": "stream",
     "text": [
      "             PJMW_MW\n",
      "Datetime            \n",
      "2002-04-01  121237.0\n",
      "2002-04-02  127450.0\n",
      "2002-04-03  127822.0\n",
      "2002-04-04  136099.0\n",
      "2002-04-05  136467.0\n",
      "...              ...\n",
      "2018-07-29  127052.0\n",
      "2018-07-30  131825.0\n",
      "2018-08-01  143033.0\n",
      "2018-08-02  139321.0\n",
      "2018-08-03    5489.0\n",
      "\n",
      "[5403 rows x 1 columns]\n",
      "             PJMW_MW\n",
      "Datetime            \n",
      "2002-04-01  121237.0\n",
      "2002-04-02  127450.0\n",
      "2002-04-03  127822.0\n",
      "2002-04-04  136099.0\n",
      "2002-04-05  136467.0\n",
      "...              ...\n",
      "2018-07-28  131659.0\n",
      "2018-07-29  127052.0\n",
      "2018-07-30  131825.0\n",
      "2018-08-01  143033.0\n",
      "2018-08-02  139321.0\n",
      "\n",
      "[5402 rows x 1 columns]\n"
     ]
    }
   ],
   "source": [
    "\n",
    "df.index = pd.to_datetime(df['Datetime'])\n",
    "df_daily = df.resample('D').sum('PJMW_MW')\n",
    "\n",
    "# print(df_daily)\n",
    "\n",
    "# Stabilize seasonality\n",
    "# standardize to 30 days\n",
    "# Comment the succeeding parts out if not needed and simply use df_daily[:-1]\n",
    "\n",
    "day_31_list = []\n",
    "for item in df_daily.index:\n",
    "    # print(item)\n",
    "    if str(item).split(' ')[0].endswith('31'):\n",
    "        day_31_list.append(item)\n",
    "df_daily_30 = df_daily.loc[~df_daily.index.isin(day_31_list)]\n",
    "# print(df_daily_30)\n",
    "\n",
    "\n",
    "# Remove February because it only has 28/29 days?\n",
    "feb_list = []\n",
    "for item in df_daily_30.index:\n",
    "    # print(item)\n",
    "    if '-02-' in (str(item).split(' ')[0]):\n",
    "        feb_list.append(item)\n",
    "\n",
    "df_daily_30 = df_daily_30.loc[~df_daily_30.index.isin(feb_list)]\n",
    "\n",
    "# # Remove Aug 3 2018 because it does not have a complete day's worth of data?\n",
    "print(df_daily_30)\n",
    "\n",
    "df_daily_30 = df_daily_30[:-1]\n",
    "\n",
    "print(df_daily_30)\n"
   ]
  },
  {
   "cell_type": "markdown",
   "metadata": {},
   "source": [
    "### 1. ARIMA"
   ]
  },
  {
   "cell_type": "code",
   "execution_count": 112,
   "metadata": {},
   "outputs": [],
   "source": [
    "import warnings\n",
    "warnings.filterwarnings(\"ignore\")\n",
    "\n",
    "import pandas as pd\n",
    "import numpy as np\n",
    "import matplotlib.pyplot as plt\n",
    "%matplotlib inline\n"
   ]
  },
  {
   "cell_type": "code",
   "execution_count": 113,
   "metadata": {},
   "outputs": [
    {
     "data": {
      "image/png": "[encoded data removed]",
      "text/plain": [
       "<Figure size 640x480 with 1 Axes>"
      ]
     },
     "metadata": {},
     "output_type": "display_data"
    }
   ],
   "source": [
    "from matplotlib import pyplot\n",
    "%matplotlib inline\n",
    "df_daily_30.plot()\n",
    "pyplot.show()"
   ]
  },
  {
   "cell_type": "markdown",
   "metadata": {},
   "source": [
    "The data needs to be stationary for ARIMA to work. Let's check that."
   ]
  },
  {
   "cell_type": "code",
   "execution_count": null,
   "metadata": {},
   "outputs": [
    {
     "name": "stdout",
     "output_type": "stream",
     "text": [
      "Channels:\n",
      " - defaults\n",
      " - conda-forge\n",
      " - nvidia\n",
      " - pytorch\n",
      "Platform: linux-64\n",
      "Collecting package metadata (repodata.json): done\n",
      "Solving environment: done\n",
      "\n",
      "## Package Plan ##\n",
      "\n",
      "  environment location: /home/andy/miniconda3/envs/gpu\n",
      "\n",
      "  added / updated specs:\n",
      "    - statsmodels\n",
      "\n",
      "\n",
      "The following packages will be downloaded:\n",
      "\n",
      "    package                    |            build\n",
      "    ---------------------------|-----------------\n",
      "    certifi-2025.1.31          |  py312h06a4308_0         162 KB\n",
      "    patsy-1.0.1                |  py312h06a4308_0         356 KB\n",
      "    statsmodels-0.14.4         |  py312h5eee18b_0        12.1 MB\n",
      "    ------------------------------------------------------------\n",
      "                                           Total:        12.6 MB\n",
      "\n",
      "The following NEW packages will be INSTALLED:\n",
      "\n",
      "  bottleneck         pkgs/main/linux-64::bottleneck-1.4.2-py312ha883a20_0 \n",
      "  numexpr            pkgs/main/linux-64::numexpr-2.10.1-py312h3c60e43_0 \n",
      "  pandas             pkgs/main/linux-64::pandas-2.2.3-py312h6a678d5_0 \n",
      "  patsy              pkgs/main/linux-64::patsy-1.0.1-py312h06a4308_0 \n",
      "  python-tzdata      pkgs/main/noarch::python-tzdata-2023.3-pyhd3eb1b0_0 \n",
      "  pytz               pkgs/main/linux-64::pytz-2024.1-py312h06a4308_0 \n",
      "  statsmodels        pkgs/main/linux-64::statsmodels-0.14.4-py312h5eee18b_0 \n",
      "\n",
      "The following packages will be UPDATED:\n",
      "\n",
      "  certifi                        2024.12.14-py312h06a4308_0 --> 2025.1.31-py312h06a4308_0 \n",
      "\n",
      "\n",
      "\n",
      "Downloading and Extracting Packages:\n",
      "statsmodels-0.14.4   | 12.1 MB   |                                       |   0% \n",
      "patsy-1.0.1          | 356 KB    |                                       |   0% \u001b[A\n",
      "\n",
      "certifi-2025.1.31    | 162 KB    |                                       |   0% \u001b[A\u001b[A\n",
      "statsmodels-0.14.4   | 12.1 MB   |                                       |   0% \u001b[A\n",
      "\n",
      "certifi-2025.1.31    | 162 KB    | ###6                                  |  10% \u001b[A\u001b[A\n",
      "statsmodels-0.14.4   | 12.1 MB   | 7                                     |   2% \u001b[A\n",
      "\n",
      "certifi-2025.1.31    | 162 KB    | #########################5            |  69% \u001b[A\u001b[A\n",
      "patsy-1.0.1          | 356 KB    | ##################################### | 100% \u001b[A\n",
      "\n",
      "                                                                                \u001b[A\u001b[A\n",
      "                                                                                \u001b[A\n",
      "\n",
      "                                                                                \u001b[A\u001b[A\n",
      "Preparing transaction: done\n",
      "Verifying transaction: done\n",
      "Executing transaction: done\n"
     ]
    }
   ],
   "source": [
    "# ! conda install statsmodels -y"
   ]
  },
  {
   "cell_type": "code",
   "execution_count": 114,
   "metadata": {},
   "outputs": [
    {
     "name": "stdout",
     "output_type": "stream",
     "text": [
      "ADF Statistic: -8.167066\n",
      "p-value: 0.000000\n",
      "Critical Values:\n",
      "\t1%: -3.432\n",
      "\t5%: -2.862\n",
      "\t10%: -2.567\n"
     ]
    }
   ],
   "source": [
    "from statsmodels.tsa.stattools import adfuller\n",
    "\n",
    "series = df_daily_30['PJMW_MW']\n",
    "# Perform the ADF test to check stationarity\n",
    "result = adfuller(series)\n",
    "print('ADF Statistic: %f' % result[0])\n",
    "print('p-value: %f' % result[1])\n",
    "print('Critical Values:')\n",
    "for key, value in result[4].items():\n",
    "    print('\\t%s: %.3f' % (key, value))"
   ]
  },
  {
   "cell_type": "markdown",
   "metadata": {},
   "source": [
    "The results show that the test statistic value -8.167066 is smaller than the critical value at 1% of -3.432. This suggests the process has no unit root, and in turn that **the time series is stationary or does not have time-dependent structure**."
   ]
  },
  {
   "cell_type": "code",
   "execution_count": 115,
   "metadata": {},
   "outputs": [],
   "source": [
    "from sklearn.metrics import mean_squared_error\n",
    "from math import sqrt\n",
    "from statsmodels.tsa.arima.model import ARIMA\n",
    "from tqdm import tqdm \n",
    "import timeit\n",
    "\n",
    "# Create a differenced series\n",
    "def difference(dataset, interval=1):\n",
    "    diff = np.diff(dataset, n=interval)\n",
    "    return diff\n",
    "\n",
    "# Invert differenced value\n",
    "def inverse_difference(history, yhat, interval=1):\n",
    "   return yhat + history[-interval]\n",
    "\n",
    "# create a differenced series\n",
    "def difference(dataset, interval=1):\n",
    "\tdiff = list()\n",
    "\tfor i in range(interval, len(dataset)):\n",
    "\t\tvalue = dataset[i] - dataset[i - interval]\n",
    "\t\tdiff.append(value)\n",
    "\treturn diff\n",
    "\n",
    "# Evaluate an ARIMA model for a given order (p,d,q) and return RMSE\n",
    "def evaluate_arima_model(X, arima_order):\n",
    "    # Prepare training dataset\n",
    "    #X = X.astype('float32')\n",
    "    days_in_a_month = 30  # Define the number of hours in a day\n",
    "    train_size = int(len(X) - days_in_a_month)  # Use 1 month validation\n",
    "    train, test = X[0:train_size], X[train_size:]\n",
    "    history = [x for x in train]\n",
    "    #history = list(train)\n",
    "    days_in_a_month = 30  # Define the number of hours in a day\n",
    "\n",
    "    # Make predictions\n",
    "    predictions = list()\n",
    "    for t in tqdm(range(len(test))):\n",
    "        # Difference data\n",
    "        diff = difference(history, days_in_a_month)\n",
    "        model = ARIMA(diff, order=arima_order)\n",
    "        model_fit = model.fit()\n",
    "        forecast = model_fit.get_forecast(steps=1)\n",
    "        yhat = forecast.predicted_mean[0]\n",
    "        yhat = inverse_difference(history, yhat, days_in_a_month)\n",
    "        predictions.append(yhat)\n",
    "        obs = test[t]\n",
    "        history.append(obs)\n",
    "\n",
    "    # Calculate out-of-sample error (RMSE)\n",
    "    mse = mean_squared_error(test, predictions)\n",
    "    rmse = sqrt(mse)\n",
    "    #print(test)\n",
    "    #print(predictions)\n",
    "    return rmse\n"
   ]
  },
  {
   "cell_type": "markdown",
   "metadata": {},
   "source": [
    "Take the last 3 years of the data and get a baseline RMSE"
   ]
  },
  {
   "cell_type": "code",
   "execution_count": 116,
   "metadata": {},
   "outputs": [
    {
     "name": "stderr",
     "output_type": "stream",
     "text": [
      "100%|██████████| 30/30 [00:12<00:00,  2.32it/s]"
     ]
    },
    {
     "name": "stdout",
     "output_type": "stream",
     "text": [
      "RMSE=13079.995987376476 Execution Time: 12.93157099200107\n"
     ]
    },
    {
     "name": "stderr",
     "output_type": "stream",
     "text": [
      "\n"
     ]
    }
   ],
   "source": [
    "# X = series.values[:3*365]\n",
    "X = series.values\n",
    "start = timeit.default_timer()\n",
    "rmse = evaluate_arima_model(X, (0, 0, 1))\n",
    "exec_time = timeit.default_timer() - start\n",
    "print(f'RMSE={rmse} Execution Time: {exec_time}')\n"
   ]
  },
  {
   "cell_type": "markdown",
   "metadata": {},
   "source": [
    "Do GridSearch to find the optimal values of p,d and q"
   ]
  },
  {
   "cell_type": "code",
   "execution_count": 118,
   "metadata": {},
   "outputs": [
    {
     "name": "stderr",
     "output_type": "stream",
     "text": [
      "100%|██████████| 30/30 [00:03<00:00,  8.14it/s]\n"
     ]
    },
    {
     "name": "stdout",
     "output_type": "stream",
     "text": [
      "Order (0, 0, 0), RMSE: 20840.481136540486\n"
     ]
    },
    {
     "name": "stderr",
     "output_type": "stream",
     "text": [
      "100%|██████████| 30/30 [00:10<00:00,  2.84it/s]\n"
     ]
    },
    {
     "name": "stdout",
     "output_type": "stream",
     "text": [
      "Order (0, 0, 1), RMSE: 13079.995987376476\n"
     ]
    },
    {
     "name": "stderr",
     "output_type": "stream",
     "text": [
      "100%|██████████| 30/30 [00:08<00:00,  3.34it/s]\n"
     ]
    },
    {
     "name": "stdout",
     "output_type": "stream",
     "text": [
      "Order (0, 0, 2), RMSE: 12976.960479577787\n"
     ]
    },
    {
     "name": "stderr",
     "output_type": "stream",
     "text": [
      "100%|██████████| 30/30 [00:11<00:00,  2.57it/s]\n"
     ]
    },
    {
     "name": "stdout",
     "output_type": "stream",
     "text": [
      "Order (0, 0, 3), RMSE: 12928.90792008214\n"
     ]
    },
    {
     "name": "stderr",
     "output_type": "stream",
     "text": [
      "100%|██████████| 30/30 [00:01<00:00, 22.33it/s]\n"
     ]
    },
    {
     "name": "stdout",
     "output_type": "stream",
     "text": [
      "Order (0, 1, 0), RMSE: 15526.999977458621\n"
     ]
    },
    {
     "name": "stderr",
     "output_type": "stream",
     "text": [
      "100%|██████████| 30/30 [00:04<00:00,  6.36it/s]\n"
     ]
    },
    {
     "name": "stdout",
     "output_type": "stream",
     "text": [
      "Order (0, 1, 1), RMSE: 14654.822793796215\n"
     ]
    },
    {
     "name": "stderr",
     "output_type": "stream",
     "text": [
      "100%|██████████| 30/30 [00:08<00:00,  3.41it/s]\n"
     ]
    },
    {
     "name": "stdout",
     "output_type": "stream",
     "text": [
      "Order (0, 1, 2), RMSE: 12443.951637709357\n"
     ]
    },
    {
     "name": "stderr",
     "output_type": "stream",
     "text": [
      "100%|██████████| 30/30 [00:12<00:00,  2.44it/s]\n"
     ]
    },
    {
     "name": "stdout",
     "output_type": "stream",
     "text": [
      "Order (0, 1, 3), RMSE: 12751.142491841232\n"
     ]
    },
    {
     "name": "stderr",
     "output_type": "stream",
     "text": [
      "100%|██████████| 30/30 [00:04<00:00,  7.06it/s]\n"
     ]
    },
    {
     "name": "stdout",
     "output_type": "stream",
     "text": [
      "Order (1, 0, 0), RMSE: 14357.084038357203\n"
     ]
    },
    {
     "name": "stderr",
     "output_type": "stream",
     "text": [
      "100%|██████████| 30/30 [00:09<00:00,  3.17it/s]\n"
     ]
    },
    {
     "name": "stdout",
     "output_type": "stream",
     "text": [
      "Order (1, 0, 1), RMSE: 12521.681371358109\n"
     ]
    },
    {
     "name": "stderr",
     "output_type": "stream",
     "text": [
      "100%|██████████| 30/30 [00:17<00:00,  1.76it/s]\n"
     ]
    },
    {
     "name": "stdout",
     "output_type": "stream",
     "text": [
      "Order (1, 0, 2), RMSE: 12752.048685677682\n"
     ]
    },
    {
     "name": "stderr",
     "output_type": "stream",
     "text": [
      "100%|██████████| 30/30 [00:28<00:00,  1.05it/s]\n"
     ]
    },
    {
     "name": "stdout",
     "output_type": "stream",
     "text": [
      "Order (1, 0, 3), RMSE: 12549.691679881505\n"
     ]
    },
    {
     "name": "stderr",
     "output_type": "stream",
     "text": [
      "100%|██████████| 30/30 [00:02<00:00, 14.61it/s]\n"
     ]
    },
    {
     "name": "stdout",
     "output_type": "stream",
     "text": [
      "Order (1, 1, 0), RMSE: 15455.720707662673\n"
     ]
    },
    {
     "name": "stderr",
     "output_type": "stream",
     "text": [
      "100%|██████████| 30/30 [00:09<00:00,  3.05it/s]\n"
     ]
    },
    {
     "name": "stdout",
     "output_type": "stream",
     "text": [
      "Order (1, 1, 1), RMSE: 14014.887698628454\n"
     ]
    },
    {
     "name": "stderr",
     "output_type": "stream",
     "text": [
      "100%|██████████| 30/30 [00:17<00:00,  1.72it/s]\n"
     ]
    },
    {
     "name": "stdout",
     "output_type": "stream",
     "text": [
      "Order (1, 1, 2), RMSE: 12463.831997941308\n"
     ]
    },
    {
     "name": "stderr",
     "output_type": "stream",
     "text": [
      "100%|██████████| 30/30 [00:25<00:00,  1.19it/s]\n"
     ]
    },
    {
     "name": "stdout",
     "output_type": "stream",
     "text": [
      "Order (1, 1, 3), RMSE: 12765.122951941748\n"
     ]
    },
    {
     "name": "stderr",
     "output_type": "stream",
     "text": [
      "100%|██████████| 30/30 [00:05<00:00,  5.80it/s]\n"
     ]
    },
    {
     "name": "stdout",
     "output_type": "stream",
     "text": [
      "Order (2, 0, 0), RMSE: 13688.936295974116\n"
     ]
    },
    {
     "name": "stderr",
     "output_type": "stream",
     "text": [
      "100%|██████████| 30/30 [00:14<00:00,  2.10it/s]\n"
     ]
    },
    {
     "name": "stdout",
     "output_type": "stream",
     "text": [
      "Order (2, 0, 1), RMSE: 12688.920211736984\n"
     ]
    },
    {
     "name": "stderr",
     "output_type": "stream",
     "text": [
      "100%|██████████| 30/30 [00:33<00:00,  1.10s/it]\n"
     ]
    },
    {
     "name": "stdout",
     "output_type": "stream",
     "text": [
      "Order (2, 0, 2), RMSE: 12742.600748086752\n"
     ]
    },
    {
     "name": "stderr",
     "output_type": "stream",
     "text": [
      "100%|██████████| 30/30 [00:46<00:00,  1.54s/it]\n"
     ]
    },
    {
     "name": "stdout",
     "output_type": "stream",
     "text": [
      "Order (2, 0, 3), RMSE: 12562.369051718599\n"
     ]
    },
    {
     "name": "stderr",
     "output_type": "stream",
     "text": [
      "100%|██████████| 30/30 [00:04<00:00,  6.46it/s]\n"
     ]
    },
    {
     "name": "stdout",
     "output_type": "stream",
     "text": [
      "Order (2, 1, 0), RMSE: 13173.453379485616\n"
     ]
    },
    {
     "name": "stderr",
     "output_type": "stream",
     "text": [
      "100%|██████████| 30/30 [00:13<00:00,  2.18it/s]\n"
     ]
    },
    {
     "name": "stdout",
     "output_type": "stream",
     "text": [
      "Order (2, 1, 1), RMSE: 13398.869060445893\n"
     ]
    },
    {
     "name": "stderr",
     "output_type": "stream",
     "text": [
      "100%|██████████| 30/30 [01:13<00:00,  2.45s/it]\n"
     ]
    },
    {
     "name": "stdout",
     "output_type": "stream",
     "text": [
      "Order (2, 1, 2), RMSE: 14729.248795409285\n"
     ]
    },
    {
     "name": "stderr",
     "output_type": "stream",
     "text": [
      " 60%|██████    | 18/30 [01:13<00:49,  4.11s/it]\n"
     ]
    },
    {
     "name": "stdout",
     "output_type": "stream",
     "text": [
      "Error trying to converge Order (2, 1, 3)\n"
     ]
    },
    {
     "name": "stderr",
     "output_type": "stream",
     "text": [
      "100%|██████████| 30/30 [00:06<00:00,  4.86it/s]\n"
     ]
    },
    {
     "name": "stdout",
     "output_type": "stream",
     "text": [
      "Order (3, 0, 0), RMSE: 12725.545170485631\n"
     ]
    },
    {
     "name": "stderr",
     "output_type": "stream",
     "text": [
      "100%|██████████| 30/30 [00:50<00:00,  1.69s/it]\n"
     ]
    },
    {
     "name": "stdout",
     "output_type": "stream",
     "text": [
      "Order (3, 0, 1), RMSE: 13189.462890703442\n"
     ]
    },
    {
     "name": "stderr",
     "output_type": "stream",
     "text": [
      "100%|██████████| 30/30 [00:46<00:00,  1.56s/it]\n"
     ]
    },
    {
     "name": "stdout",
     "output_type": "stream",
     "text": [
      "Order (3, 0, 2), RMSE: 12553.318513437203\n"
     ]
    },
    {
     "name": "stderr",
     "output_type": "stream",
     "text": [
      "100%|██████████| 30/30 [01:21<00:00,  2.72s/it]\n"
     ]
    },
    {
     "name": "stdout",
     "output_type": "stream",
     "text": [
      "Order (3, 0, 3), RMSE: 14173.069031730365\n"
     ]
    },
    {
     "name": "stderr",
     "output_type": "stream",
     "text": [
      "100%|██████████| 30/30 [00:06<00:00,  4.70it/s]\n"
     ]
    },
    {
     "name": "stdout",
     "output_type": "stream",
     "text": [
      "Order (3, 1, 0), RMSE: 14278.232336680121\n"
     ]
    },
    {
     "name": "stderr",
     "output_type": "stream",
     "text": [
      "100%|██████████| 30/30 [00:28<00:00,  1.05it/s]\n"
     ]
    },
    {
     "name": "stdout",
     "output_type": "stream",
     "text": [
      "Order (3, 1, 1), RMSE: 13610.09416186489\n"
     ]
    },
    {
     "name": "stderr",
     "output_type": "stream",
     "text": [
      "100%|██████████| 30/30 [01:31<00:00,  3.05s/it]\n"
     ]
    },
    {
     "name": "stdout",
     "output_type": "stream",
     "text": [
      "Order (3, 1, 2), RMSE: 13032.617318861698\n"
     ]
    },
    {
     "name": "stderr",
     "output_type": "stream",
     "text": [
      "100%|██████████| 30/30 [02:15<00:00,  4.51s/it]"
     ]
    },
    {
     "name": "stdout",
     "output_type": "stream",
     "text": [
      "Order (3, 1, 3), RMSE: 15052.990275752847\n",
      "\n",
      "Best Order: (0, 1, 2), Lowest RMSE: 12443.951637709357, Execution Time: 887.3905452010004\n"
     ]
    },
    {
     "name": "stderr",
     "output_type": "stream",
     "text": [
      "\n"
     ]
    }
   ],
   "source": [
    "from itertools import product\n",
    "\n",
    "# Define ranges for p, d, q\n",
    "p_range = range(0, 4)\n",
    "d_range = range(0, 2)\n",
    "q_range = range(0, 4)\n",
    "\n",
    "# Initialize a dictionary to store the results\n",
    "results = {}\n",
    "start = timeit.default_timer()\n",
    "# Iterate over all combinations of p, d, q\n",
    "for p, d, q in product(p_range, d_range, q_range):\n",
    "    order = (p, d, q)\n",
    "    # Evaluate the ARIMA model for the current (p, d, q) order\n",
    "    try:\n",
    "        rmse = evaluate_arima_model(X, order)\n",
    "        # Store the result in the dictionary\n",
    "        results[order] = rmse\n",
    "        print(f\"Order {order}, RMSE: {rmse}\")\n",
    "    except:\n",
    "        print(f\"Error trying to converge Order {order}\")\n",
    "\n",
    "# Find the (p, d, q) combination with the lowest RMSE\n",
    "best_order = min(results, key=results.get)\n",
    "best_rmse = results[best_order]\n",
    "exec_time = timeit.default_timer() - start\n",
    "# Print the best (p, d, q) combination and the corresponding RMSE\n",
    "print(f\"\\nBest Order: {best_order}, Lowest RMSE: {best_rmse}, Execution Time: {exec_time}\")"
   ]
  }
 ],
 "metadata": {
  "kernelspec": {
   "display_name": "gpu",
   "language": "python",
   "name": "python3"
  },
  "language_info": {
   "codemirror_mode": {
    "name": "ipython",
    "version": 3
   },
   "file_extension": ".py",
   "mimetype": "text/x-python",
   "name": "python",
   "nbconvert_exporter": "python",
   "pygments_lexer": "ipython3",
   "version": "3.12.8"
  }
 },
 "nbformat": 4,
 "nbformat_minor": 2
}
