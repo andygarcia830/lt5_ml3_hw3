{
 "cells": [
  {
   "cell_type": "markdown",
   "metadata": {},
   "source": [
    "### ML3 HW3\n",
    "#### LT5\n",
    "Borromeo, Chloe<br>\n",
    "Castanares, Michael Lawrence<br>\n",
    "Garcia, Fernando Jude<br>\n",
    "Tan, Allan"
   ]
  },
  {
   "cell_type": "markdown",
   "metadata": {},
   "source": [
    "Assignment Instructions<br>\n",
    "Done by LT<br>\n",
    "Total: 12 points<br>\n",
    "Submit: Python Notebook (.ipynb)<br>\n",
    "Task (4pts each method)<br>\n",
    "Hourly Energy Consumption of Pennsylvania-New Jersey-Maryland Interconnection (PJM) West Region<br>\n",
    "\n",
    "Using the PJM West Region: 2001-2018 (PJMW) estimated hourly energy consumption data from PJM in Megawatts: https://www.kaggle.com/datasets/robikscube/hourly-energy-consumption/data. Forecast the total daily consumption one month in advance. Compare the MAE and MAPE accuracy of the best:<br><br>\n",
    "ARIMA<br>\n",
    "LSTM<br>\n",
    "GRU<br>"
   ]
  },
  {
   "cell_type": "markdown",
   "metadata": {},
   "source": [
    "### Load the data"
   ]
  },
  {
   "cell_type": "code",
   "execution_count": 2,
   "metadata": {},
   "outputs": [],
   "source": [
    "import pandas as pd"
   ]
  },
  {
   "cell_type": "code",
   "execution_count": 3,
   "metadata": {},
   "outputs": [],
   "source": [
    "file = 'data/PJMW_hourly.csv'"
   ]
  },
  {
   "cell_type": "code",
   "execution_count": 4,
   "metadata": {},
   "outputs": [
    {
     "data": {
      "text/html": [
       "<div>\n",
       "<style scoped>\n",
       "    .dataframe tbody tr th:only-of-type {\n",
       "        vertical-align: middle;\n",
       "    }\n",
       "\n",
       "    .dataframe tbody tr th {\n",
       "        vertical-align: top;\n",
       "    }\n",
       "\n",
       "    .dataframe thead th {\n",
       "        text-align: right;\n",
       "    }\n",
       "</style>\n",
       "<table border=\"1\" class=\"dataframe\">\n",
       "  <thead>\n",
       "    <tr style=\"text-align: right;\">\n",
       "      <th></th>\n",
       "      <th>Datetime</th>\n",
       "      <th>PJMW_MW</th>\n",
       "    </tr>\n",
       "  </thead>\n",
       "  <tbody>\n",
       "    <tr>\n",
       "      <th>0</th>\n",
       "      <td>2002-12-31 01:00:00</td>\n",
       "      <td>5077.0</td>\n",
       "    </tr>\n",
       "    <tr>\n",
       "      <th>1</th>\n",
       "      <td>2002-12-31 02:00:00</td>\n",
       "      <td>4939.0</td>\n",
       "    </tr>\n",
       "    <tr>\n",
       "      <th>2</th>\n",
       "      <td>2002-12-31 03:00:00</td>\n",
       "      <td>4885.0</td>\n",
       "    </tr>\n",
       "    <tr>\n",
       "      <th>3</th>\n",
       "      <td>2002-12-31 04:00:00</td>\n",
       "      <td>4857.0</td>\n",
       "    </tr>\n",
       "    <tr>\n",
       "      <th>4</th>\n",
       "      <td>2002-12-31 05:00:00</td>\n",
       "      <td>4930.0</td>\n",
       "    </tr>\n",
       "  </tbody>\n",
       "</table>\n",
       "</div>"
      ],
      "text/plain": [
       "              Datetime  PJMW_MW\n",
       "0  2002-12-31 01:00:00   5077.0\n",
       "1  2002-12-31 02:00:00   4939.0\n",
       "2  2002-12-31 03:00:00   4885.0\n",
       "3  2002-12-31 04:00:00   4857.0\n",
       "4  2002-12-31 05:00:00   4930.0"
      ]
     },
     "execution_count": 4,
     "metadata": {},
     "output_type": "execute_result"
    }
   ],
   "source": [
    "df = pd.read_csv(file)\n",
    "df.head()"
   ]
  },
  {
   "cell_type": "code",
   "execution_count": 5,
   "metadata": {},
   "outputs": [
    {
     "data": {
      "text/html": [
       "<div>\n",
       "<style scoped>\n",
       "    .dataframe tbody tr th:only-of-type {\n",
       "        vertical-align: middle;\n",
       "    }\n",
       "\n",
       "    .dataframe tbody tr th {\n",
       "        vertical-align: top;\n",
       "    }\n",
       "\n",
       "    .dataframe thead th {\n",
       "        text-align: right;\n",
       "    }\n",
       "</style>\n",
       "<table border=\"1\" class=\"dataframe\">\n",
       "  <thead>\n",
       "    <tr style=\"text-align: right;\">\n",
       "      <th></th>\n",
       "      <th>PJMW_MW</th>\n",
       "    </tr>\n",
       "  </thead>\n",
       "  <tbody>\n",
       "    <tr>\n",
       "      <th>count</th>\n",
       "      <td>143206.000000</td>\n",
       "    </tr>\n",
       "    <tr>\n",
       "      <th>mean</th>\n",
       "      <td>5602.375089</td>\n",
       "    </tr>\n",
       "    <tr>\n",
       "      <th>std</th>\n",
       "      <td>979.142872</td>\n",
       "    </tr>\n",
       "    <tr>\n",
       "      <th>min</th>\n",
       "      <td>487.000000</td>\n",
       "    </tr>\n",
       "    <tr>\n",
       "      <th>25%</th>\n",
       "      <td>4907.000000</td>\n",
       "    </tr>\n",
       "    <tr>\n",
       "      <th>50%</th>\n",
       "      <td>5530.000000</td>\n",
       "    </tr>\n",
       "    <tr>\n",
       "      <th>75%</th>\n",
       "      <td>6252.000000</td>\n",
       "    </tr>\n",
       "    <tr>\n",
       "      <th>max</th>\n",
       "      <td>9594.000000</td>\n",
       "    </tr>\n",
       "  </tbody>\n",
       "</table>\n",
       "</div>"
      ],
      "text/plain": [
       "             PJMW_MW\n",
       "count  143206.000000\n",
       "mean     5602.375089\n",
       "std       979.142872\n",
       "min       487.000000\n",
       "25%      4907.000000\n",
       "50%      5530.000000\n",
       "75%      6252.000000\n",
       "max      9594.000000"
      ]
     },
     "execution_count": 5,
     "metadata": {},
     "output_type": "execute_result"
    }
   ],
   "source": [
    "df.describe()"
   ]
  },
  {
   "cell_type": "markdown",
   "metadata": {},
   "source": [
    "Resample to get daily consumption"
   ]
  },
  {
   "cell_type": "code",
   "execution_count": 56,
   "metadata": {},
   "outputs": [],
   "source": [
    "\n",
    "df.index = pd.to_datetime(df['Datetime'])\n",
    "df_daily = df.resample('D').sum('PJMW_MW')\n",
    "\n",
    "\n",
    "# # # Remove Aug 3 2018 because it does not have a complete day's worth of data\n",
    "\n",
    "df_daily = df_daily[:-1]"
   ]
  },
  {
   "cell_type": "code",
   "execution_count": 7,
   "metadata": {},
   "outputs": [
    {
     "data": {
      "text/html": [
       "<div>\n",
       "<style scoped>\n",
       "    .dataframe tbody tr th:only-of-type {\n",
       "        vertical-align: middle;\n",
       "    }\n",
       "\n",
       "    .dataframe tbody tr th {\n",
       "        vertical-align: top;\n",
       "    }\n",
       "\n",
       "    .dataframe thead th {\n",
       "        text-align: right;\n",
       "    }\n",
       "</style>\n",
       "<table border=\"1\" class=\"dataframe\">\n",
       "  <thead>\n",
       "    <tr style=\"text-align: right;\">\n",
       "      <th></th>\n",
       "      <th>PJMW_MW</th>\n",
       "    </tr>\n",
       "  </thead>\n",
       "  <tbody>\n",
       "    <tr>\n",
       "      <th>count</th>\n",
       "      <td>5968.000000</td>\n",
       "    </tr>\n",
       "    <tr>\n",
       "      <th>mean</th>\n",
       "      <td>134431.675268</td>\n",
       "    </tr>\n",
       "    <tr>\n",
       "      <th>std</th>\n",
       "      <td>17722.294237</td>\n",
       "    </tr>\n",
       "    <tr>\n",
       "      <th>min</th>\n",
       "      <td>72433.000000</td>\n",
       "    </tr>\n",
       "    <tr>\n",
       "      <th>25%</th>\n",
       "      <td>121031.750000</td>\n",
       "    </tr>\n",
       "    <tr>\n",
       "      <th>50%</th>\n",
       "      <td>132522.500000</td>\n",
       "    </tr>\n",
       "    <tr>\n",
       "      <th>75%</th>\n",
       "      <td>146056.500000</td>\n",
       "    </tr>\n",
       "    <tr>\n",
       "      <th>max</th>\n",
       "      <td>211070.000000</td>\n",
       "    </tr>\n",
       "  </tbody>\n",
       "</table>\n",
       "</div>"
      ],
      "text/plain": [
       "             PJMW_MW\n",
       "count    5968.000000\n",
       "mean   134431.675268\n",
       "std     17722.294237\n",
       "min     72433.000000\n",
       "25%    121031.750000\n",
       "50%    132522.500000\n",
       "75%    146056.500000\n",
       "max    211070.000000"
      ]
     },
     "execution_count": 7,
     "metadata": {},
     "output_type": "execute_result"
    }
   ],
   "source": [
    "df_daily.describe()"
   ]
  },
  {
   "cell_type": "markdown",
   "metadata": {},
   "source": [
    "### 1. ARIMA"
   ]
  },
  {
   "cell_type": "code",
   "execution_count": 8,
   "metadata": {},
   "outputs": [],
   "source": [
    "import warnings\n",
    "warnings.filterwarnings(\"ignore\")\n",
    "\n",
    "import pandas as pd\n",
    "import numpy as np\n",
    "import matplotlib.pyplot as plt\n",
    "%matplotlib inline\n"
   ]
  },
  {
   "cell_type": "code",
   "execution_count": 9,
   "metadata": {},
   "outputs": [
    {
     "data": {
      "image/png": "[encoded data removed]",
      "text/plain": [
       "<Figure size 640x480 with 1 Axes>"
      ]
     },
     "metadata": {},
     "output_type": "display_data"
    }
   ],
   "source": [
    "from matplotlib import pyplot\n",
    "%matplotlib inline\n",
    "df_daily.plot()\n",
    "pyplot.show()"
   ]
  },
  {
   "cell_type": "markdown",
   "metadata": {},
   "source": [
    "The data needs to be stationary for ARIMA to work. Let's check that."
   ]
  },
  {
   "cell_type": "code",
   "execution_count": 10,
   "metadata": {},
   "outputs": [],
   "source": [
    "# ! conda install statsmodels -y"
   ]
  },
  {
   "cell_type": "code",
   "execution_count": 11,
   "metadata": {},
   "outputs": [
    {
     "name": "stdout",
     "output_type": "stream",
     "text": [
      "ADF Statistic: -7.264578\n",
      "p-value: 0.000000\n",
      "Critical Values:\n",
      "\t1%: -3.431\n",
      "\t5%: -2.862\n",
      "\t10%: -2.567\n"
     ]
    }
   ],
   "source": [
    "from statsmodels.tsa.stattools import adfuller\n",
    "\n",
    "series = df_daily['PJMW_MW']\n",
    "# Perform the ADF test to check stationarity\n",
    "result = adfuller(series)\n",
    "print('ADF Statistic: %f' % result[0])\n",
    "print('p-value: %f' % result[1])\n",
    "print('Critical Values:')\n",
    "for key, value in result[4].items():\n",
    "    print('\\t%s: %.3f' % (key, value))"
   ]
  },
  {
   "cell_type": "markdown",
   "metadata": {},
   "source": [
    "The results show that the test statistic value -7.264578 is smaller than the critical value at 1% of -3.431. This suggests the process has no unit root, and in turn that **the time series is stationary or does not have time-dependent structure**."
   ]
  },
  {
   "cell_type": "code",
   "execution_count": 12,
   "metadata": {},
   "outputs": [],
   "source": [
    "# ! conda install scikit-learn -y"
   ]
  },
  {
   "cell_type": "code",
   "execution_count": 13,
   "metadata": {},
   "outputs": [],
   "source": [
    "from sklearn.metrics import mean_squared_error\n",
    "from math import sqrt\n",
    "from statsmodels.tsa.arima.model import ARIMA\n",
    "from tqdm import tqdm \n",
    "import timeit\n",
    "from sklearn.metrics import mean_absolute_percentage_error\n",
    "from sklearn.metrics import mean_absolute_error\n",
    "\n",
    "# Create a differenced series\n",
    "def difference(dataset, interval=1):\n",
    "    diff = np.diff(dataset, n=interval)\n",
    "    return diff\n",
    "\n",
    "# Invert differenced value\n",
    "def inverse_difference(history, yhat, interval=1):\n",
    "   return yhat + history[-interval]\n",
    "\n",
    "# create a differenced series\n",
    "def difference(dataset, interval=1):\n",
    "\tdiff = list()\n",
    "\tfor i in range(interval, len(dataset)):\n",
    "\t\tvalue = dataset[i] - dataset[i - interval]\n",
    "\t\tdiff.append(value)\n",
    "\treturn diff\n",
    "\n",
    "# Evaluate an ARIMA model for a given order (p,d,q) and return RMSE\n",
    "def evaluate_arima_model(X, arima_order):\n",
    "    # Prepare training dataset\n",
    "    #X = X.astype('float32')\n",
    "    days_in_a_month = 30  # Define the number of days in a month\n",
    "    train_size = int(len(X) - days_in_a_month)  # Use 1 month validation\n",
    "    train, test = X[0:train_size], X[train_size:]\n",
    "    history = [x for x in train]\n",
    "    #history = list(train)\n",
    "\n",
    "\n",
    "    # Make predictions\n",
    "    predictions = list()\n",
    "    for t in tqdm(range(len(test))):\n",
    "        # Difference data\n",
    "        diff = difference(history, days_in_a_month)\n",
    "        model = ARIMA(diff, order=arima_order)\n",
    "        model_fit = model.fit()\n",
    "        forecast = model_fit.get_forecast(steps=1)\n",
    "        yhat = forecast.predicted_mean[0]\n",
    "        yhat = inverse_difference(history, yhat, days_in_a_month)\n",
    "        predictions.append(yhat)\n",
    "        obs = test[t]\n",
    "        history.append(obs)\n",
    "\n",
    "    # Calculate out-of-sample error (MAE)\n",
    "    mae = mean_absolute_error(test, predictions)\n",
    "    return mae\n"
   ]
  },
  {
   "cell_type": "code",
   "execution_count": 14,
   "metadata": {},
   "outputs": [
    {
     "name": "stderr",
     "output_type": "stream",
     "text": [
      "100%|██████████| 30/30 [00:08<00:00,  3.44it/s]"
     ]
    },
    {
     "name": "stdout",
     "output_type": "stream",
     "text": [
      "MAE=10424.651074160976 Execution Time: 8.717013604997192\n"
     ]
    },
    {
     "name": "stderr",
     "output_type": "stream",
     "text": [
      "\n"
     ]
    }
   ],
   "source": [
    "X = series.values\n",
    "start = timeit.default_timer()\n",
    "mar = evaluate_arima_model(X, (0, 0, 1))\n",
    "exec_time = timeit.default_timer() - start\n",
    "print(f'MAE={mar} Execution Time: {exec_time}')\n"
   ]
  },
  {
   "cell_type": "markdown",
   "metadata": {},
   "source": [
    "Do GridSearch to find the optimal values of p,d and q"
   ]
  },
  {
   "cell_type": "code",
   "execution_count": 15,
   "metadata": {},
   "outputs": [
    {
     "name": "stderr",
     "output_type": "stream",
     "text": [
      "100%|██████████| 30/30 [00:01<00:00, 20.95it/s]\n"
     ]
    },
    {
     "name": "stdout",
     "output_type": "stream",
     "text": [
      "Order (0, 0, 0), MAE: 17598.907950293655\n"
     ]
    },
    {
     "name": "stderr",
     "output_type": "stream",
     "text": [
      "100%|██████████| 30/30 [00:07<00:00,  3.90it/s]\n"
     ]
    },
    {
     "name": "stdout",
     "output_type": "stream",
     "text": [
      "Order (0, 0, 1), MAE: 10424.651074160976\n"
     ]
    },
    {
     "name": "stderr",
     "output_type": "stream",
     "text": [
      "100%|██████████| 30/30 [00:31<00:00,  1.03s/it]\n"
     ]
    },
    {
     "name": "stdout",
     "output_type": "stream",
     "text": [
      "Order (0, 0, 2), MAE: 9625.625723790323\n"
     ]
    },
    {
     "name": "stderr",
     "output_type": "stream",
     "text": [
      "100%|██████████| 30/30 [00:15<00:00,  1.94it/s]\n"
     ]
    },
    {
     "name": "stdout",
     "output_type": "stream",
     "text": [
      "Order (0, 0, 3), MAE: 9585.596543090682\n"
     ]
    },
    {
     "name": "stderr",
     "output_type": "stream",
     "text": [
      "100%|██████████| 30/30 [00:25<00:00,  1.19it/s]\n"
     ]
    },
    {
     "name": "stdout",
     "output_type": "stream",
     "text": [
      "Order (0, 0, 4), MAE: 8897.637914831234\n"
     ]
    },
    {
     "name": "stderr",
     "output_type": "stream",
     "text": [
      "100%|██████████| 30/30 [00:28<00:00,  1.05it/s]\n"
     ]
    },
    {
     "name": "stdout",
     "output_type": "stream",
     "text": [
      "Order (0, 0, 5), MAE: 8934.78485969566\n"
     ]
    },
    {
     "name": "stderr",
     "output_type": "stream",
     "text": [
      "100%|██████████| 30/30 [00:04<00:00,  7.14it/s]\n"
     ]
    },
    {
     "name": "stdout",
     "output_type": "stream",
     "text": [
      "Order (1, 0, 0), MAE: 10334.838408652991\n"
     ]
    },
    {
     "name": "stderr",
     "output_type": "stream",
     "text": [
      "100%|██████████| 30/30 [00:10<00:00,  2.90it/s]\n"
     ]
    },
    {
     "name": "stdout",
     "output_type": "stream",
     "text": [
      "Order (1, 0, 1), MAE: 9070.25080983792\n"
     ]
    },
    {
     "name": "stderr",
     "output_type": "stream",
     "text": [
      "100%|██████████| 30/30 [00:19<00:00,  1.57it/s]\n"
     ]
    },
    {
     "name": "stdout",
     "output_type": "stream",
     "text": [
      "Order (1, 0, 2), MAE: 9041.101670015703\n"
     ]
    },
    {
     "name": "stderr",
     "output_type": "stream",
     "text": [
      "100%|██████████| 30/30 [00:36<00:00,  1.20s/it]\n"
     ]
    },
    {
     "name": "stdout",
     "output_type": "stream",
     "text": [
      "Order (1, 0, 3), MAE: 9001.971890460445\n"
     ]
    },
    {
     "name": "stderr",
     "output_type": "stream",
     "text": [
      "100%|██████████| 30/30 [00:45<00:00,  1.50s/it]\n"
     ]
    },
    {
     "name": "stdout",
     "output_type": "stream",
     "text": [
      "Order (1, 0, 4), MAE: 8973.3738157551\n"
     ]
    },
    {
     "name": "stderr",
     "output_type": "stream",
     "text": [
      "100%|██████████| 30/30 [01:02<00:00,  2.07s/it]\n"
     ]
    },
    {
     "name": "stdout",
     "output_type": "stream",
     "text": [
      "Order (1, 0, 5), MAE: 9225.577130929052\n"
     ]
    },
    {
     "name": "stderr",
     "output_type": "stream",
     "text": [
      "100%|██████████| 30/30 [00:05<00:00,  5.93it/s]\n"
     ]
    },
    {
     "name": "stdout",
     "output_type": "stream",
     "text": [
      "Order (2, 0, 0), MAE: 10295.519031642416\n"
     ]
    },
    {
     "name": "stderr",
     "output_type": "stream",
     "text": [
      "100%|██████████| 30/30 [00:16<00:00,  1.81it/s]\n"
     ]
    },
    {
     "name": "stdout",
     "output_type": "stream",
     "text": [
      "Order (2, 0, 1), MAE: 9076.007531218487\n"
     ]
    },
    {
     "name": "stderr",
     "output_type": "stream",
     "text": [
      "100%|██████████| 30/30 [00:32<00:00,  1.08s/it]\n"
     ]
    },
    {
     "name": "stdout",
     "output_type": "stream",
     "text": [
      "Order (2, 0, 2), MAE: 9087.719347375996\n"
     ]
    },
    {
     "name": "stderr",
     "output_type": "stream",
     "text": [
      "100%|██████████| 30/30 [00:40<00:00,  1.34s/it]\n"
     ]
    },
    {
     "name": "stdout",
     "output_type": "stream",
     "text": [
      "Order (2, 0, 3), MAE: 8968.575385477905\n"
     ]
    },
    {
     "name": "stderr",
     "output_type": "stream",
     "text": [
      "  0%|          | 0/30 [00:00<?, ?it/s]/home/andy/miniconda3/envs/gpu2/lib/python3.12/site-packages/statsmodels/base/model.py:607: ConvergenceWarning: Maximum Likelihood optimization failed to converge. Check mle_retvals\n",
      "  warnings.warn(\"Maximum Likelihood optimization failed to \"\n",
      "  3%|▎         | 1/30 [00:04<02:04,  4.31s/it]/home/andy/miniconda3/envs/gpu2/lib/python3.12/site-packages/statsmodels/base/model.py:607: ConvergenceWarning: Maximum Likelihood optimization failed to converge. Check mle_retvals\n",
      "  warnings.warn(\"Maximum Likelihood optimization failed to \"\n",
      "  7%|▋         | 2/30 [00:08<01:57,  4.19s/it]/home/andy/miniconda3/envs/gpu2/lib/python3.12/site-packages/statsmodels/base/model.py:607: ConvergenceWarning: Maximum Likelihood optimization failed to converge. Check mle_retvals\n",
      "  warnings.warn(\"Maximum Likelihood optimization failed to \"\n",
      " 10%|█         | 3/30 [00:12<01:51,  4.11s/it]/home/andy/miniconda3/envs/gpu2/lib/python3.12/site-packages/statsmodels/base/model.py:607: ConvergenceWarning: Maximum Likelihood optimization failed to converge. Check mle_retvals\n",
      "  warnings.warn(\"Maximum Likelihood optimization failed to \"\n",
      " 13%|█▎        | 4/30 [00:16<01:44,  4.01s/it]/home/andy/miniconda3/envs/gpu2/lib/python3.12/site-packages/statsmodels/base/model.py:607: ConvergenceWarning: Maximum Likelihood optimization failed to converge. Check mle_retvals\n",
      "  warnings.warn(\"Maximum Likelihood optimization failed to \"\n",
      " 17%|█▋        | 5/30 [00:20<01:42,  4.11s/it]/home/andy/miniconda3/envs/gpu2/lib/python3.12/site-packages/statsmodels/base/model.py:607: ConvergenceWarning: Maximum Likelihood optimization failed to converge. Check mle_retvals\n",
      "  warnings.warn(\"Maximum Likelihood optimization failed to \"\n",
      " 20%|██        | 6/30 [00:24<01:37,  4.05s/it]/home/andy/miniconda3/envs/gpu2/lib/python3.12/site-packages/statsmodels/base/model.py:607: ConvergenceWarning: Maximum Likelihood optimization failed to converge. Check mle_retvals\n",
      "  warnings.warn(\"Maximum Likelihood optimization failed to \"\n",
      " 23%|██▎       | 7/30 [00:28<01:32,  4.02s/it]/home/andy/miniconda3/envs/gpu2/lib/python3.12/site-packages/statsmodels/base/model.py:607: ConvergenceWarning: Maximum Likelihood optimization failed to converge. Check mle_retvals\n",
      "  warnings.warn(\"Maximum Likelihood optimization failed to \"\n",
      " 27%|██▋       | 8/30 [00:32<01:28,  4.00s/it]/home/andy/miniconda3/envs/gpu2/lib/python3.12/site-packages/statsmodels/base/model.py:607: ConvergenceWarning: Maximum Likelihood optimization failed to converge. Check mle_retvals\n",
      "  warnings.warn(\"Maximum Likelihood optimization failed to \"\n",
      " 30%|███       | 9/30 [00:36<01:24,  4.03s/it]/home/andy/miniconda3/envs/gpu2/lib/python3.12/site-packages/statsmodels/base/model.py:607: ConvergenceWarning: Maximum Likelihood optimization failed to converge. Check mle_retvals\n",
      "  warnings.warn(\"Maximum Likelihood optimization failed to \"\n",
      " 33%|███▎      | 10/30 [00:40<01:20,  4.03s/it]/home/andy/miniconda3/envs/gpu2/lib/python3.12/site-packages/statsmodels/base/model.py:607: ConvergenceWarning: Maximum Likelihood optimization failed to converge. Check mle_retvals\n",
      "  warnings.warn(\"Maximum Likelihood optimization failed to \"\n",
      " 37%|███▋      | 11/30 [00:44<01:17,  4.06s/it]/home/andy/miniconda3/envs/gpu2/lib/python3.12/site-packages/statsmodels/base/model.py:607: ConvergenceWarning: Maximum Likelihood optimization failed to converge. Check mle_retvals\n",
      "  warnings.warn(\"Maximum Likelihood optimization failed to \"\n",
      " 40%|████      | 12/30 [00:48<01:14,  4.13s/it]/home/andy/miniconda3/envs/gpu2/lib/python3.12/site-packages/statsmodels/base/model.py:607: ConvergenceWarning: Maximum Likelihood optimization failed to converge. Check mle_retvals\n",
      "  warnings.warn(\"Maximum Likelihood optimization failed to \"\n",
      " 43%|████▎     | 13/30 [00:53<01:10,  4.15s/it]/home/andy/miniconda3/envs/gpu2/lib/python3.12/site-packages/statsmodels/base/model.py:607: ConvergenceWarning: Maximum Likelihood optimization failed to converge. Check mle_retvals\n",
      "  warnings.warn(\"Maximum Likelihood optimization failed to \"\n",
      " 47%|████▋     | 14/30 [00:57<01:06,  4.16s/it]/home/andy/miniconda3/envs/gpu2/lib/python3.12/site-packages/statsmodels/base/model.py:607: ConvergenceWarning: Maximum Likelihood optimization failed to converge. Check mle_retvals\n",
      "  warnings.warn(\"Maximum Likelihood optimization failed to \"\n",
      " 50%|█████     | 15/30 [01:01<01:02,  4.14s/it]/home/andy/miniconda3/envs/gpu2/lib/python3.12/site-packages/statsmodels/base/model.py:607: ConvergenceWarning: Maximum Likelihood optimization failed to converge. Check mle_retvals\n",
      "  warnings.warn(\"Maximum Likelihood optimization failed to \"\n",
      " 53%|█████▎    | 16/30 [01:05<00:58,  4.18s/it]/home/andy/miniconda3/envs/gpu2/lib/python3.12/site-packages/statsmodels/base/model.py:607: ConvergenceWarning: Maximum Likelihood optimization failed to converge. Check mle_retvals\n",
      "  warnings.warn(\"Maximum Likelihood optimization failed to \"\n",
      " 57%|█████▋    | 17/30 [01:10<00:55,  4.23s/it]/home/andy/miniconda3/envs/gpu2/lib/python3.12/site-packages/statsmodels/base/model.py:607: ConvergenceWarning: Maximum Likelihood optimization failed to converge. Check mle_retvals\n",
      "  warnings.warn(\"Maximum Likelihood optimization failed to \"\n",
      " 60%|██████    | 18/30 [01:14<00:51,  4.28s/it]/home/andy/miniconda3/envs/gpu2/lib/python3.12/site-packages/statsmodels/base/model.py:607: ConvergenceWarning: Maximum Likelihood optimization failed to converge. Check mle_retvals\n",
      "  warnings.warn(\"Maximum Likelihood optimization failed to \"\n",
      " 63%|██████▎   | 19/30 [01:18<00:46,  4.27s/it]/home/andy/miniconda3/envs/gpu2/lib/python3.12/site-packages/statsmodels/base/model.py:607: ConvergenceWarning: Maximum Likelihood optimization failed to converge. Check mle_retvals\n",
      "  warnings.warn(\"Maximum Likelihood optimization failed to \"\n",
      " 67%|██████▋   | 20/30 [01:22<00:42,  4.26s/it]/home/andy/miniconda3/envs/gpu2/lib/python3.12/site-packages/statsmodels/base/model.py:607: ConvergenceWarning: Maximum Likelihood optimization failed to converge. Check mle_retvals\n",
      "  warnings.warn(\"Maximum Likelihood optimization failed to \"\n",
      " 70%|███████   | 21/30 [01:27<00:38,  4.29s/it]/home/andy/miniconda3/envs/gpu2/lib/python3.12/site-packages/statsmodels/base/model.py:607: ConvergenceWarning: Maximum Likelihood optimization failed to converge. Check mle_retvals\n",
      "  warnings.warn(\"Maximum Likelihood optimization failed to \"\n",
      " 73%|███████▎  | 22/30 [01:31<00:34,  4.26s/it]/home/andy/miniconda3/envs/gpu2/lib/python3.12/site-packages/statsmodels/base/model.py:607: ConvergenceWarning: Maximum Likelihood optimization failed to converge. Check mle_retvals\n",
      "  warnings.warn(\"Maximum Likelihood optimization failed to \"\n",
      " 77%|███████▋  | 23/30 [01:35<00:29,  4.19s/it]/home/andy/miniconda3/envs/gpu2/lib/python3.12/site-packages/statsmodels/base/model.py:607: ConvergenceWarning: Maximum Likelihood optimization failed to converge. Check mle_retvals\n",
      "  warnings.warn(\"Maximum Likelihood optimization failed to \"\n",
      " 80%|████████  | 24/30 [01:39<00:24,  4.15s/it]/home/andy/miniconda3/envs/gpu2/lib/python3.12/site-packages/statsmodels/base/model.py:607: ConvergenceWarning: Maximum Likelihood optimization failed to converge. Check mle_retvals\n",
      "  warnings.warn(\"Maximum Likelihood optimization failed to \"\n",
      " 83%|████████▎ | 25/30 [01:43<00:20,  4.09s/it]/home/andy/miniconda3/envs/gpu2/lib/python3.12/site-packages/statsmodels/base/model.py:607: ConvergenceWarning: Maximum Likelihood optimization failed to converge. Check mle_retvals\n",
      "  warnings.warn(\"Maximum Likelihood optimization failed to \"\n",
      " 87%|████████▋ | 26/30 [01:47<00:16,  4.10s/it]/home/andy/miniconda3/envs/gpu2/lib/python3.12/site-packages/statsmodels/base/model.py:607: ConvergenceWarning: Maximum Likelihood optimization failed to converge. Check mle_retvals\n",
      "  warnings.warn(\"Maximum Likelihood optimization failed to \"\n",
      " 90%|█████████ | 27/30 [01:51<00:12,  4.07s/it]/home/andy/miniconda3/envs/gpu2/lib/python3.12/site-packages/statsmodels/base/model.py:607: ConvergenceWarning: Maximum Likelihood optimization failed to converge. Check mle_retvals\n",
      "  warnings.warn(\"Maximum Likelihood optimization failed to \"\n",
      " 93%|█████████▎| 28/30 [01:55<00:08,  4.07s/it]/home/andy/miniconda3/envs/gpu2/lib/python3.12/site-packages/statsmodels/base/model.py:607: ConvergenceWarning: Maximum Likelihood optimization failed to converge. Check mle_retvals\n",
      "  warnings.warn(\"Maximum Likelihood optimization failed to \"\n",
      " 97%|█████████▋| 29/30 [01:59<00:04,  4.11s/it]/home/andy/miniconda3/envs/gpu2/lib/python3.12/site-packages/statsmodels/base/model.py:607: ConvergenceWarning: Maximum Likelihood optimization failed to converge. Check mle_retvals\n",
      "  warnings.warn(\"Maximum Likelihood optimization failed to \"\n",
      "100%|██████████| 30/30 [02:04<00:00,  4.14s/it]\n"
     ]
    },
    {
     "name": "stdout",
     "output_type": "stream",
     "text": [
      "Order (2, 0, 4), MAE: 8992.884249130952\n"
     ]
    },
    {
     "name": "stderr",
     "output_type": "stream",
     "text": [
      "100%|██████████| 30/30 [01:21<00:00,  2.73s/it]\n"
     ]
    },
    {
     "name": "stdout",
     "output_type": "stream",
     "text": [
      "Order (2, 0, 5), MAE: 9223.871763251636\n"
     ]
    },
    {
     "name": "stderr",
     "output_type": "stream",
     "text": [
      "100%|██████████| 30/30 [00:06<00:00,  4.42it/s]\n"
     ]
    },
    {
     "name": "stdout",
     "output_type": "stream",
     "text": [
      "Order (3, 0, 0), MAE: 9351.821697809206\n"
     ]
    },
    {
     "name": "stderr",
     "output_type": "stream",
     "text": [
      "100%|██████████| 30/30 [00:19<00:00,  1.57it/s]\n"
     ]
    },
    {
     "name": "stdout",
     "output_type": "stream",
     "text": [
      "Order (3, 0, 1), MAE: 8827.395121479298\n"
     ]
    },
    {
     "name": "stderr",
     "output_type": "stream",
     "text": [
      "100%|██████████| 30/30 [00:53<00:00,  1.80s/it]\n"
     ]
    },
    {
     "name": "stdout",
     "output_type": "stream",
     "text": [
      "Order (3, 0, 2), MAE: 9606.867407377165\n"
     ]
    },
    {
     "name": "stderr",
     "output_type": "stream",
     "text": [
      "  0%|          | 0/30 [00:00<?, ?it/s]/home/andy/miniconda3/envs/gpu2/lib/python3.12/site-packages/statsmodels/base/model.py:607: ConvergenceWarning: Maximum Likelihood optimization failed to converge. Check mle_retvals\n",
      "  warnings.warn(\"Maximum Likelihood optimization failed to \"\n",
      "  7%|▋         | 2/30 [00:08<01:54,  4.08s/it]/home/andy/miniconda3/envs/gpu2/lib/python3.12/site-packages/statsmodels/base/model.py:607: ConvergenceWarning: Maximum Likelihood optimization failed to converge. Check mle_retvals\n",
      "  warnings.warn(\"Maximum Likelihood optimization failed to \"\n",
      " 10%|█         | 3/30 [00:12<01:48,  4.02s/it]/home/andy/miniconda3/envs/gpu2/lib/python3.12/site-packages/statsmodels/base/model.py:607: ConvergenceWarning: Maximum Likelihood optimization failed to converge. Check mle_retvals\n",
      "  warnings.warn(\"Maximum Likelihood optimization failed to \"\n",
      " 13%|█▎        | 4/30 [00:15<01:41,  3.92s/it]/home/andy/miniconda3/envs/gpu2/lib/python3.12/site-packages/statsmodels/base/model.py:607: ConvergenceWarning: Maximum Likelihood optimization failed to converge. Check mle_retvals\n",
      "  warnings.warn(\"Maximum Likelihood optimization failed to \"\n",
      " 23%|██▎       | 7/30 [00:26<01:25,  3.71s/it]/home/andy/miniconda3/envs/gpu2/lib/python3.12/site-packages/statsmodels/base/model.py:607: ConvergenceWarning: Maximum Likelihood optimization failed to converge. Check mle_retvals\n",
      "  warnings.warn(\"Maximum Likelihood optimization failed to \"\n",
      " 27%|██▋       | 8/30 [00:30<01:22,  3.76s/it]/home/andy/miniconda3/envs/gpu2/lib/python3.12/site-packages/statsmodels/base/model.py:607: ConvergenceWarning: Maximum Likelihood optimization failed to converge. Check mle_retvals\n",
      "  warnings.warn(\"Maximum Likelihood optimization failed to \"\n",
      " 33%|███▎      | 10/30 [00:38<01:18,  3.91s/it]/home/andy/miniconda3/envs/gpu2/lib/python3.12/site-packages/statsmodels/base/model.py:607: ConvergenceWarning: Maximum Likelihood optimization failed to converge. Check mle_retvals\n",
      "  warnings.warn(\"Maximum Likelihood optimization failed to \"\n",
      " 37%|███▋      | 11/30 [00:42<01:14,  3.91s/it]/home/andy/miniconda3/envs/gpu2/lib/python3.12/site-packages/statsmodels/base/model.py:607: ConvergenceWarning: Maximum Likelihood optimization failed to converge. Check mle_retvals\n",
      "  warnings.warn(\"Maximum Likelihood optimization failed to \"\n",
      " 40%|████      | 12/30 [00:46<01:10,  3.90s/it]/home/andy/miniconda3/envs/gpu2/lib/python3.12/site-packages/statsmodels/base/model.py:607: ConvergenceWarning: Maximum Likelihood optimization failed to converge. Check mle_retvals\n",
      "  warnings.warn(\"Maximum Likelihood optimization failed to \"\n",
      " 43%|████▎     | 13/30 [00:50<01:05,  3.88s/it]/home/andy/miniconda3/envs/gpu2/lib/python3.12/site-packages/statsmodels/base/model.py:607: ConvergenceWarning: Maximum Likelihood optimization failed to converge. Check mle_retvals\n",
      "  warnings.warn(\"Maximum Likelihood optimization failed to \"\n",
      " 47%|████▋     | 14/30 [00:54<01:02,  3.89s/it]/home/andy/miniconda3/envs/gpu2/lib/python3.12/site-packages/statsmodels/base/model.py:607: ConvergenceWarning: Maximum Likelihood optimization failed to converge. Check mle_retvals\n",
      "  warnings.warn(\"Maximum Likelihood optimization failed to \"\n",
      " 50%|█████     | 15/30 [00:58<01:00,  4.04s/it]/home/andy/miniconda3/envs/gpu2/lib/python3.12/site-packages/statsmodels/base/model.py:607: ConvergenceWarning: Maximum Likelihood optimization failed to converge. Check mle_retvals\n",
      "  warnings.warn(\"Maximum Likelihood optimization failed to \"\n",
      " 53%|█████▎    | 16/30 [01:02<00:57,  4.08s/it]/home/andy/miniconda3/envs/gpu2/lib/python3.12/site-packages/statsmodels/base/model.py:607: ConvergenceWarning: Maximum Likelihood optimization failed to converge. Check mle_retvals\n",
      "  warnings.warn(\"Maximum Likelihood optimization failed to \"\n",
      " 57%|█████▋    | 17/30 [01:07<00:53,  4.15s/it]/home/andy/miniconda3/envs/gpu2/lib/python3.12/site-packages/statsmodels/base/model.py:607: ConvergenceWarning: Maximum Likelihood optimization failed to converge. Check mle_retvals\n",
      "  warnings.warn(\"Maximum Likelihood optimization failed to \"\n",
      " 60%|██████    | 18/30 [01:11<00:51,  4.30s/it]/home/andy/miniconda3/envs/gpu2/lib/python3.12/site-packages/statsmodels/base/model.py:607: ConvergenceWarning: Maximum Likelihood optimization failed to converge. Check mle_retvals\n",
      "  warnings.warn(\"Maximum Likelihood optimization failed to \"\n",
      " 63%|██████▎   | 19/30 [01:16<00:48,  4.38s/it]/home/andy/miniconda3/envs/gpu2/lib/python3.12/site-packages/statsmodels/base/model.py:607: ConvergenceWarning: Maximum Likelihood optimization failed to converge. Check mle_retvals\n",
      "  warnings.warn(\"Maximum Likelihood optimization failed to \"\n",
      " 67%|██████▋   | 20/30 [01:20<00:43,  4.36s/it]/home/andy/miniconda3/envs/gpu2/lib/python3.12/site-packages/statsmodels/base/model.py:607: ConvergenceWarning: Maximum Likelihood optimization failed to converge. Check mle_retvals\n",
      "  warnings.warn(\"Maximum Likelihood optimization failed to \"\n",
      " 70%|███████   | 21/30 [01:25<00:39,  4.41s/it]/home/andy/miniconda3/envs/gpu2/lib/python3.12/site-packages/statsmodels/base/model.py:607: ConvergenceWarning: Maximum Likelihood optimization failed to converge. Check mle_retvals\n",
      "  warnings.warn(\"Maximum Likelihood optimization failed to \"\n",
      " 77%|███████▋  | 23/30 [01:33<00:30,  4.30s/it]/home/andy/miniconda3/envs/gpu2/lib/python3.12/site-packages/statsmodels/base/model.py:607: ConvergenceWarning: Maximum Likelihood optimization failed to converge. Check mle_retvals\n",
      "  warnings.warn(\"Maximum Likelihood optimization failed to \"\n",
      " 80%|████████  | 24/30 [01:38<00:26,  4.46s/it]/home/andy/miniconda3/envs/gpu2/lib/python3.12/site-packages/statsmodels/base/model.py:607: ConvergenceWarning: Maximum Likelihood optimization failed to converge. Check mle_retvals\n",
      "  warnings.warn(\"Maximum Likelihood optimization failed to \"\n",
      " 83%|████████▎ | 25/30 [01:43<00:22,  4.53s/it]/home/andy/miniconda3/envs/gpu2/lib/python3.12/site-packages/statsmodels/base/model.py:607: ConvergenceWarning: Maximum Likelihood optimization failed to converge. Check mle_retvals\n",
      "  warnings.warn(\"Maximum Likelihood optimization failed to \"\n",
      " 87%|████████▋ | 26/30 [01:47<00:18,  4.50s/it]/home/andy/miniconda3/envs/gpu2/lib/python3.12/site-packages/statsmodels/base/model.py:607: ConvergenceWarning: Maximum Likelihood optimization failed to converge. Check mle_retvals\n",
      "  warnings.warn(\"Maximum Likelihood optimization failed to \"\n",
      " 90%|█████████ | 27/30 [01:52<00:13,  4.53s/it]/home/andy/miniconda3/envs/gpu2/lib/python3.12/site-packages/statsmodels/base/model.py:607: ConvergenceWarning: Maximum Likelihood optimization failed to converge. Check mle_retvals\n",
      "  warnings.warn(\"Maximum Likelihood optimization failed to \"\n",
      " 93%|█████████▎| 28/30 [01:56<00:09,  4.50s/it]/home/andy/miniconda3/envs/gpu2/lib/python3.12/site-packages/statsmodels/base/model.py:607: ConvergenceWarning: Maximum Likelihood optimization failed to converge. Check mle_retvals\n",
      "  warnings.warn(\"Maximum Likelihood optimization failed to \"\n",
      " 97%|█████████▋| 29/30 [02:01<00:04,  4.60s/it]/home/andy/miniconda3/envs/gpu2/lib/python3.12/site-packages/statsmodels/base/model.py:607: ConvergenceWarning: Maximum Likelihood optimization failed to converge. Check mle_retvals\n",
      "  warnings.warn(\"Maximum Likelihood optimization failed to \"\n",
      "100%|██████████| 30/30 [02:06<00:00,  4.21s/it]\n"
     ]
    },
    {
     "name": "stdout",
     "output_type": "stream",
     "text": [
      "Order (3, 0, 3), MAE: 9529.579325789511\n"
     ]
    },
    {
     "name": "stderr",
     "output_type": "stream",
     "text": [
      "  0%|          | 0/30 [00:00<?, ?it/s]/home/andy/miniconda3/envs/gpu2/lib/python3.12/site-packages/statsmodels/base/model.py:607: ConvergenceWarning: Maximum Likelihood optimization failed to converge. Check mle_retvals\n",
      "  warnings.warn(\"Maximum Likelihood optimization failed to \"\n",
      "  3%|▎         | 1/30 [00:05<02:35,  5.36s/it]/home/andy/miniconda3/envs/gpu2/lib/python3.12/site-packages/statsmodels/base/model.py:607: ConvergenceWarning: Maximum Likelihood optimization failed to converge. Check mle_retvals\n",
      "  warnings.warn(\"Maximum Likelihood optimization failed to \"\n",
      "  7%|▋         | 2/30 [00:10<02:23,  5.12s/it]/home/andy/miniconda3/envs/gpu2/lib/python3.12/site-packages/statsmodels/base/model.py:607: ConvergenceWarning: Maximum Likelihood optimization failed to converge. Check mle_retvals\n",
      "  warnings.warn(\"Maximum Likelihood optimization failed to \"\n",
      " 10%|█         | 3/30 [00:15<02:17,  5.09s/it]/home/andy/miniconda3/envs/gpu2/lib/python3.12/site-packages/statsmodels/base/model.py:607: ConvergenceWarning: Maximum Likelihood optimization failed to converge. Check mle_retvals\n",
      "  warnings.warn(\"Maximum Likelihood optimization failed to \"\n",
      " 13%|█▎        | 4/30 [00:20<02:13,  5.14s/it]/home/andy/miniconda3/envs/gpu2/lib/python3.12/site-packages/statsmodels/base/model.py:607: ConvergenceWarning: Maximum Likelihood optimization failed to converge. Check mle_retvals\n",
      "  warnings.warn(\"Maximum Likelihood optimization failed to \"\n",
      " 17%|█▋        | 5/30 [00:26<02:12,  5.30s/it]/home/andy/miniconda3/envs/gpu2/lib/python3.12/site-packages/statsmodels/base/model.py:607: ConvergenceWarning: Maximum Likelihood optimization failed to converge. Check mle_retvals\n",
      "  warnings.warn(\"Maximum Likelihood optimization failed to \"\n",
      " 20%|██        | 6/30 [00:31<02:09,  5.40s/it]/home/andy/miniconda3/envs/gpu2/lib/python3.12/site-packages/statsmodels/base/model.py:607: ConvergenceWarning: Maximum Likelihood optimization failed to converge. Check mle_retvals\n",
      "  warnings.warn(\"Maximum Likelihood optimization failed to \"\n",
      " 23%|██▎       | 7/30 [00:37<02:03,  5.37s/it]/home/andy/miniconda3/envs/gpu2/lib/python3.12/site-packages/statsmodels/base/model.py:607: ConvergenceWarning: Maximum Likelihood optimization failed to converge. Check mle_retvals\n",
      "  warnings.warn(\"Maximum Likelihood optimization failed to \"\n",
      " 27%|██▋       | 8/30 [00:42<02:00,  5.49s/it]/home/andy/miniconda3/envs/gpu2/lib/python3.12/site-packages/statsmodels/base/model.py:607: ConvergenceWarning: Maximum Likelihood optimization failed to converge. Check mle_retvals\n",
      "  warnings.warn(\"Maximum Likelihood optimization failed to \"\n",
      " 30%|███       | 9/30 [00:48<01:53,  5.40s/it]/home/andy/miniconda3/envs/gpu2/lib/python3.12/site-packages/statsmodels/base/model.py:607: ConvergenceWarning: Maximum Likelihood optimization failed to converge. Check mle_retvals\n",
      "  warnings.warn(\"Maximum Likelihood optimization failed to \"\n",
      " 33%|███▎      | 10/30 [00:53<01:48,  5.41s/it]/home/andy/miniconda3/envs/gpu2/lib/python3.12/site-packages/statsmodels/base/model.py:607: ConvergenceWarning: Maximum Likelihood optimization failed to converge. Check mle_retvals\n",
      "  warnings.warn(\"Maximum Likelihood optimization failed to \"\n",
      " 37%|███▋      | 11/30 [00:59<01:45,  5.55s/it]/home/andy/miniconda3/envs/gpu2/lib/python3.12/site-packages/statsmodels/base/model.py:607: ConvergenceWarning: Maximum Likelihood optimization failed to converge. Check mle_retvals\n",
      "  warnings.warn(\"Maximum Likelihood optimization failed to \"\n",
      " 40%|████      | 12/30 [01:04<01:39,  5.54s/it]/home/andy/miniconda3/envs/gpu2/lib/python3.12/site-packages/statsmodels/base/model.py:607: ConvergenceWarning: Maximum Likelihood optimization failed to converge. Check mle_retvals\n",
      "  warnings.warn(\"Maximum Likelihood optimization failed to \"\n",
      " 43%|████▎     | 13/30 [01:09<01:30,  5.34s/it]/home/andy/miniconda3/envs/gpu2/lib/python3.12/site-packages/statsmodels/base/model.py:607: ConvergenceWarning: Maximum Likelihood optimization failed to converge. Check mle_retvals\n",
      "  warnings.warn(\"Maximum Likelihood optimization failed to \"\n",
      " 47%|████▋     | 14/30 [01:14<01:24,  5.29s/it]/home/andy/miniconda3/envs/gpu2/lib/python3.12/site-packages/statsmodels/base/model.py:607: ConvergenceWarning: Maximum Likelihood optimization failed to converge. Check mle_retvals\n",
      "  warnings.warn(\"Maximum Likelihood optimization failed to \"\n",
      " 50%|█████     | 15/30 [01:20<01:18,  5.25s/it]/home/andy/miniconda3/envs/gpu2/lib/python3.12/site-packages/statsmodels/base/model.py:607: ConvergenceWarning: Maximum Likelihood optimization failed to converge. Check mle_retvals\n",
      "  warnings.warn(\"Maximum Likelihood optimization failed to \"\n",
      " 53%|█████▎    | 16/30 [01:24<01:11,  5.10s/it]/home/andy/miniconda3/envs/gpu2/lib/python3.12/site-packages/statsmodels/base/model.py:607: ConvergenceWarning: Maximum Likelihood optimization failed to converge. Check mle_retvals\n",
      "  warnings.warn(\"Maximum Likelihood optimization failed to \"\n",
      " 57%|█████▋    | 17/30 [01:30<01:08,  5.24s/it]/home/andy/miniconda3/envs/gpu2/lib/python3.12/site-packages/statsmodels/base/model.py:607: ConvergenceWarning: Maximum Likelihood optimization failed to converge. Check mle_retvals\n",
      "  warnings.warn(\"Maximum Likelihood optimization failed to \"\n",
      " 60%|██████    | 18/30 [01:35<01:03,  5.28s/it]/home/andy/miniconda3/envs/gpu2/lib/python3.12/site-packages/statsmodels/base/model.py:607: ConvergenceWarning: Maximum Likelihood optimization failed to converge. Check mle_retvals\n",
      "  warnings.warn(\"Maximum Likelihood optimization failed to \"\n",
      " 63%|██████▎   | 19/30 [01:41<01:00,  5.47s/it]/home/andy/miniconda3/envs/gpu2/lib/python3.12/site-packages/statsmodels/base/model.py:607: ConvergenceWarning: Maximum Likelihood optimization failed to converge. Check mle_retvals\n",
      "  warnings.warn(\"Maximum Likelihood optimization failed to \"\n",
      " 67%|██████▋   | 20/30 [01:47<00:54,  5.46s/it]/home/andy/miniconda3/envs/gpu2/lib/python3.12/site-packages/statsmodels/base/model.py:607: ConvergenceWarning: Maximum Likelihood optimization failed to converge. Check mle_retvals\n",
      "  warnings.warn(\"Maximum Likelihood optimization failed to \"\n",
      " 70%|███████   | 21/30 [01:52<00:49,  5.47s/it]/home/andy/miniconda3/envs/gpu2/lib/python3.12/site-packages/statsmodels/base/model.py:607: ConvergenceWarning: Maximum Likelihood optimization failed to converge. Check mle_retvals\n",
      "  warnings.warn(\"Maximum Likelihood optimization failed to \"\n",
      " 73%|███████▎  | 22/30 [01:58<00:45,  5.66s/it]/home/andy/miniconda3/envs/gpu2/lib/python3.12/site-packages/statsmodels/base/model.py:607: ConvergenceWarning: Maximum Likelihood optimization failed to converge. Check mle_retvals\n",
      "  warnings.warn(\"Maximum Likelihood optimization failed to \"\n",
      " 77%|███████▋  | 23/30 [02:03<00:38,  5.55s/it]/home/andy/miniconda3/envs/gpu2/lib/python3.12/site-packages/statsmodels/base/model.py:607: ConvergenceWarning: Maximum Likelihood optimization failed to converge. Check mle_retvals\n",
      "  warnings.warn(\"Maximum Likelihood optimization failed to \"\n",
      " 80%|████████  | 24/30 [02:09<00:33,  5.51s/it]/home/andy/miniconda3/envs/gpu2/lib/python3.12/site-packages/statsmodels/base/model.py:607: ConvergenceWarning: Maximum Likelihood optimization failed to converge. Check mle_retvals\n",
      "  warnings.warn(\"Maximum Likelihood optimization failed to \"\n",
      " 83%|████████▎ | 25/30 [02:14<00:27,  5.52s/it]/home/andy/miniconda3/envs/gpu2/lib/python3.12/site-packages/statsmodels/base/model.py:607: ConvergenceWarning: Maximum Likelihood optimization failed to converge. Check mle_retvals\n",
      "  warnings.warn(\"Maximum Likelihood optimization failed to \"\n",
      " 87%|████████▋ | 26/30 [02:20<00:21,  5.43s/it]/home/andy/miniconda3/envs/gpu2/lib/python3.12/site-packages/statsmodels/base/model.py:607: ConvergenceWarning: Maximum Likelihood optimization failed to converge. Check mle_retvals\n",
      "  warnings.warn(\"Maximum Likelihood optimization failed to \"\n",
      " 90%|█████████ | 27/30 [02:25<00:16,  5.37s/it]/home/andy/miniconda3/envs/gpu2/lib/python3.12/site-packages/statsmodels/base/model.py:607: ConvergenceWarning: Maximum Likelihood optimization failed to converge. Check mle_retvals\n",
      "  warnings.warn(\"Maximum Likelihood optimization failed to \"\n",
      " 93%|█████████▎| 28/30 [02:30<00:10,  5.43s/it]/home/andy/miniconda3/envs/gpu2/lib/python3.12/site-packages/statsmodels/base/model.py:607: ConvergenceWarning: Maximum Likelihood optimization failed to converge. Check mle_retvals\n",
      "  warnings.warn(\"Maximum Likelihood optimization failed to \"\n",
      " 97%|█████████▋| 29/30 [02:36<00:05,  5.42s/it]/home/andy/miniconda3/envs/gpu2/lib/python3.12/site-packages/statsmodels/base/model.py:607: ConvergenceWarning: Maximum Likelihood optimization failed to converge. Check mle_retvals\n",
      "  warnings.warn(\"Maximum Likelihood optimization failed to \"\n",
      "100%|██████████| 30/30 [02:42<00:00,  5.42s/it]\n"
     ]
    },
    {
     "name": "stdout",
     "output_type": "stream",
     "text": [
      "Order (3, 0, 4), MAE: 8819.607864454594\n"
     ]
    },
    {
     "name": "stderr",
     "output_type": "stream",
     "text": [
      " 13%|█▎        | 4/30 [00:31<03:28,  8.04s/it]/home/andy/miniconda3/envs/gpu2/lib/python3.12/site-packages/statsmodels/base/model.py:607: ConvergenceWarning: Maximum Likelihood optimization failed to converge. Check mle_retvals\n",
      "  warnings.warn(\"Maximum Likelihood optimization failed to \"\n",
      " 20%|██        | 6/30 [00:45<03:01,  7.55s/it]/home/andy/miniconda3/envs/gpu2/lib/python3.12/site-packages/statsmodels/base/model.py:607: ConvergenceWarning: Maximum Likelihood optimization failed to converge. Check mle_retvals\n",
      "  warnings.warn(\"Maximum Likelihood optimization failed to \"\n",
      " 23%|██▎       | 7/30 [00:52<02:47,  7.29s/it]/home/andy/miniconda3/envs/gpu2/lib/python3.12/site-packages/statsmodels/base/model.py:607: ConvergenceWarning: Maximum Likelihood optimization failed to converge. Check mle_retvals\n",
      "  warnings.warn(\"Maximum Likelihood optimization failed to \"\n",
      " 27%|██▋       | 8/30 [00:58<02:33,  6.98s/it]/home/andy/miniconda3/envs/gpu2/lib/python3.12/site-packages/statsmodels/base/model.py:607: ConvergenceWarning: Maximum Likelihood optimization failed to converge. Check mle_retvals\n",
      "  warnings.warn(\"Maximum Likelihood optimization failed to \"\n",
      " 30%|███       | 9/30 [01:05<02:26,  6.96s/it]/home/andy/miniconda3/envs/gpu2/lib/python3.12/site-packages/statsmodels/base/model.py:607: ConvergenceWarning: Maximum Likelihood optimization failed to converge. Check mle_retvals\n",
      "  warnings.warn(\"Maximum Likelihood optimization failed to \"\n",
      " 40%|████      | 12/30 [01:26<02:09,  7.21s/it]/home/andy/miniconda3/envs/gpu2/lib/python3.12/site-packages/statsmodels/base/model.py:607: ConvergenceWarning: Maximum Likelihood optimization failed to converge. Check mle_retvals\n",
      "  warnings.warn(\"Maximum Likelihood optimization failed to \"\n",
      " 43%|████▎     | 13/30 [01:33<01:58,  6.98s/it]/home/andy/miniconda3/envs/gpu2/lib/python3.12/site-packages/statsmodels/base/model.py:607: ConvergenceWarning: Maximum Likelihood optimization failed to converge. Check mle_retvals\n",
      "  warnings.warn(\"Maximum Likelihood optimization failed to \"\n",
      " 53%|█████▎    | 16/30 [02:00<01:52,  8.01s/it]/home/andy/miniconda3/envs/gpu2/lib/python3.12/site-packages/statsmodels/base/model.py:607: ConvergenceWarning: Maximum Likelihood optimization failed to converge. Check mle_retvals\n",
      "  warnings.warn(\"Maximum Likelihood optimization failed to \"\n",
      " 57%|█████▋    | 17/30 [02:06<01:39,  7.67s/it]/home/andy/miniconda3/envs/gpu2/lib/python3.12/site-packages/statsmodels/base/model.py:607: ConvergenceWarning: Maximum Likelihood optimization failed to converge. Check mle_retvals\n",
      "  warnings.warn(\"Maximum Likelihood optimization failed to \"\n",
      " 60%|██████    | 18/30 [02:13<01:28,  7.40s/it]/home/andy/miniconda3/envs/gpu2/lib/python3.12/site-packages/statsmodels/base/model.py:607: ConvergenceWarning: Maximum Likelihood optimization failed to converge. Check mle_retvals\n",
      "  warnings.warn(\"Maximum Likelihood optimization failed to \"\n",
      " 63%|██████▎   | 19/30 [02:20<01:20,  7.30s/it]/home/andy/miniconda3/envs/gpu2/lib/python3.12/site-packages/statsmodels/base/model.py:607: ConvergenceWarning: Maximum Likelihood optimization failed to converge. Check mle_retvals\n",
      "  warnings.warn(\"Maximum Likelihood optimization failed to \"\n",
      " 67%|██████▋   | 20/30 [02:29<01:17,  7.72s/it]/home/andy/miniconda3/envs/gpu2/lib/python3.12/site-packages/statsmodels/base/model.py:607: ConvergenceWarning: Maximum Likelihood optimization failed to converge. Check mle_retvals\n",
      "  warnings.warn(\"Maximum Likelihood optimization failed to \"\n",
      " 70%|███████   | 21/30 [02:35<01:05,  7.33s/it]/home/andy/miniconda3/envs/gpu2/lib/python3.12/site-packages/statsmodels/base/model.py:607: ConvergenceWarning: Maximum Likelihood optimization failed to converge. Check mle_retvals\n",
      "  warnings.warn(\"Maximum Likelihood optimization failed to \"\n",
      " 80%|████████  | 24/30 [02:55<00:41,  6.91s/it]/home/andy/miniconda3/envs/gpu2/lib/python3.12/site-packages/statsmodels/base/model.py:607: ConvergenceWarning: Maximum Likelihood optimization failed to converge. Check mle_retvals\n",
      "  warnings.warn(\"Maximum Likelihood optimization failed to \"\n",
      " 87%|████████▋ | 26/30 [03:08<00:26,  6.62s/it]/home/andy/miniconda3/envs/gpu2/lib/python3.12/site-packages/statsmodels/base/model.py:607: ConvergenceWarning: Maximum Likelihood optimization failed to converge. Check mle_retvals\n",
      "  warnings.warn(\"Maximum Likelihood optimization failed to \"\n",
      " 90%|█████████ | 27/30 [03:14<00:19,  6.49s/it]/home/andy/miniconda3/envs/gpu2/lib/python3.12/site-packages/statsmodels/base/model.py:607: ConvergenceWarning: Maximum Likelihood optimization failed to converge. Check mle_retvals\n",
      "  warnings.warn(\"Maximum Likelihood optimization failed to \"\n",
      " 93%|█████████▎| 28/30 [03:21<00:13,  6.62s/it]/home/andy/miniconda3/envs/gpu2/lib/python3.12/site-packages/statsmodels/base/model.py:607: ConvergenceWarning: Maximum Likelihood optimization failed to converge. Check mle_retvals\n",
      "  warnings.warn(\"Maximum Likelihood optimization failed to \"\n",
      " 97%|█████████▋| 29/30 [03:28<00:06,  6.57s/it]/home/andy/miniconda3/envs/gpu2/lib/python3.12/site-packages/statsmodels/base/model.py:607: ConvergenceWarning: Maximum Likelihood optimization failed to converge. Check mle_retvals\n",
      "  warnings.warn(\"Maximum Likelihood optimization failed to \"\n",
      "100%|██████████| 30/30 [03:35<00:00,  7.18s/it]\n"
     ]
    },
    {
     "name": "stdout",
     "output_type": "stream",
     "text": [
      "Order (3, 0, 5), MAE: 9282.320895163399\n"
     ]
    },
    {
     "name": "stderr",
     "output_type": "stream",
     "text": [
      "100%|██████████| 30/30 [00:08<00:00,  3.58it/s]\n"
     ]
    },
    {
     "name": "stdout",
     "output_type": "stream",
     "text": [
      "Order (4, 0, 0), MAE: 8866.708363781783\n"
     ]
    },
    {
     "name": "stderr",
     "output_type": "stream",
     "text": [
      "100%|██████████| 30/30 [00:40<00:00,  1.36s/it]\n"
     ]
    },
    {
     "name": "stdout",
     "output_type": "stream",
     "text": [
      "Order (4, 0, 1), MAE: 8697.733765846935\n"
     ]
    },
    {
     "name": "stderr",
     "output_type": "stream",
     "text": [
      "  0%|          | 0/30 [00:00<?, ?it/s]/home/andy/miniconda3/envs/gpu2/lib/python3.12/site-packages/statsmodels/base/model.py:607: ConvergenceWarning: Maximum Likelihood optimization failed to converge. Check mle_retvals\n",
      "  warnings.warn(\"Maximum Likelihood optimization failed to \"\n",
      "  3%|▎         | 1/30 [00:04<02:02,  4.22s/it]/home/andy/miniconda3/envs/gpu2/lib/python3.12/site-packages/statsmodels/base/model.py:607: ConvergenceWarning: Maximum Likelihood optimization failed to converge. Check mle_retvals\n",
      "  warnings.warn(\"Maximum Likelihood optimization failed to \"\n",
      "  7%|▋         | 2/30 [00:08<01:58,  4.22s/it]/home/andy/miniconda3/envs/gpu2/lib/python3.12/site-packages/statsmodels/base/model.py:607: ConvergenceWarning: Maximum Likelihood optimization failed to converge. Check mle_retvals\n",
      "  warnings.warn(\"Maximum Likelihood optimization failed to \"\n",
      " 10%|█         | 3/30 [00:12<01:53,  4.22s/it]/home/andy/miniconda3/envs/gpu2/lib/python3.12/site-packages/statsmodels/base/model.py:607: ConvergenceWarning: Maximum Likelihood optimization failed to converge. Check mle_retvals\n",
      "  warnings.warn(\"Maximum Likelihood optimization failed to \"\n",
      " 13%|█▎        | 4/30 [00:17<01:51,  4.28s/it]/home/andy/miniconda3/envs/gpu2/lib/python3.12/site-packages/statsmodels/base/model.py:607: ConvergenceWarning: Maximum Likelihood optimization failed to converge. Check mle_retvals\n",
      "  warnings.warn(\"Maximum Likelihood optimization failed to \"\n",
      " 17%|█▋        | 5/30 [00:21<01:45,  4.21s/it]/home/andy/miniconda3/envs/gpu2/lib/python3.12/site-packages/statsmodels/base/model.py:607: ConvergenceWarning: Maximum Likelihood optimization failed to converge. Check mle_retvals\n",
      "  warnings.warn(\"Maximum Likelihood optimization failed to \"\n",
      " 20%|██        | 6/30 [00:25<01:41,  4.25s/it]/home/andy/miniconda3/envs/gpu2/lib/python3.12/site-packages/statsmodels/base/model.py:607: ConvergenceWarning: Maximum Likelihood optimization failed to converge. Check mle_retvals\n",
      "  warnings.warn(\"Maximum Likelihood optimization failed to \"\n",
      " 23%|██▎       | 7/30 [00:29<01:36,  4.19s/it]/home/andy/miniconda3/envs/gpu2/lib/python3.12/site-packages/statsmodels/base/model.py:607: ConvergenceWarning: Maximum Likelihood optimization failed to converge. Check mle_retvals\n",
      "  warnings.warn(\"Maximum Likelihood optimization failed to \"\n",
      " 27%|██▋       | 8/30 [00:33<01:33,  4.25s/it]/home/andy/miniconda3/envs/gpu2/lib/python3.12/site-packages/statsmodels/base/model.py:607: ConvergenceWarning: Maximum Likelihood optimization failed to converge. Check mle_retvals\n",
      "  warnings.warn(\"Maximum Likelihood optimization failed to \"\n",
      " 30%|███       | 9/30 [00:38<01:28,  4.23s/it]/home/andy/miniconda3/envs/gpu2/lib/python3.12/site-packages/statsmodels/base/model.py:607: ConvergenceWarning: Maximum Likelihood optimization failed to converge. Check mle_retvals\n",
      "  warnings.warn(\"Maximum Likelihood optimization failed to \"\n",
      " 33%|███▎      | 10/30 [00:42<01:23,  4.19s/it]/home/andy/miniconda3/envs/gpu2/lib/python3.12/site-packages/statsmodels/base/model.py:607: ConvergenceWarning: Maximum Likelihood optimization failed to converge. Check mle_retvals\n",
      "  warnings.warn(\"Maximum Likelihood optimization failed to \"\n",
      " 37%|███▋      | 11/30 [00:46<01:18,  4.15s/it]/home/andy/miniconda3/envs/gpu2/lib/python3.12/site-packages/statsmodels/base/model.py:607: ConvergenceWarning: Maximum Likelihood optimization failed to converge. Check mle_retvals\n",
      "  warnings.warn(\"Maximum Likelihood optimization failed to \"\n",
      " 40%|████      | 12/30 [00:50<01:15,  4.19s/it]/home/andy/miniconda3/envs/gpu2/lib/python3.12/site-packages/statsmodels/base/model.py:607: ConvergenceWarning: Maximum Likelihood optimization failed to converge. Check mle_retvals\n",
      "  warnings.warn(\"Maximum Likelihood optimization failed to \"\n",
      " 43%|████▎     | 13/30 [00:54<01:11,  4.18s/it]/home/andy/miniconda3/envs/gpu2/lib/python3.12/site-packages/statsmodels/base/model.py:607: ConvergenceWarning: Maximum Likelihood optimization failed to converge. Check mle_retvals\n",
      "  warnings.warn(\"Maximum Likelihood optimization failed to \"\n",
      " 47%|████▋     | 14/30 [00:58<01:05,  4.12s/it]/home/andy/miniconda3/envs/gpu2/lib/python3.12/site-packages/statsmodels/base/model.py:607: ConvergenceWarning: Maximum Likelihood optimization failed to converge. Check mle_retvals\n",
      "  warnings.warn(\"Maximum Likelihood optimization failed to \"\n",
      " 50%|█████     | 15/30 [01:02<01:01,  4.11s/it]/home/andy/miniconda3/envs/gpu2/lib/python3.12/site-packages/statsmodels/base/model.py:607: ConvergenceWarning: Maximum Likelihood optimization failed to converge. Check mle_retvals\n",
      "  warnings.warn(\"Maximum Likelihood optimization failed to \"\n",
      " 53%|█████▎    | 16/30 [01:07<00:58,  4.16s/it]/home/andy/miniconda3/envs/gpu2/lib/python3.12/site-packages/statsmodels/base/model.py:607: ConvergenceWarning: Maximum Likelihood optimization failed to converge. Check mle_retvals\n",
      "  warnings.warn(\"Maximum Likelihood optimization failed to \"\n",
      " 57%|█████▋    | 17/30 [01:11<00:55,  4.27s/it]/home/andy/miniconda3/envs/gpu2/lib/python3.12/site-packages/statsmodels/base/model.py:607: ConvergenceWarning: Maximum Likelihood optimization failed to converge. Check mle_retvals\n",
      "  warnings.warn(\"Maximum Likelihood optimization failed to \"\n",
      " 60%|██████    | 18/30 [01:16<00:53,  4.49s/it]/home/andy/miniconda3/envs/gpu2/lib/python3.12/site-packages/statsmodels/base/model.py:607: ConvergenceWarning: Maximum Likelihood optimization failed to converge. Check mle_retvals\n",
      "  warnings.warn(\"Maximum Likelihood optimization failed to \"\n",
      " 63%|██████▎   | 19/30 [01:20<00:49,  4.48s/it]/home/andy/miniconda3/envs/gpu2/lib/python3.12/site-packages/statsmodels/base/model.py:607: ConvergenceWarning: Maximum Likelihood optimization failed to converge. Check mle_retvals\n",
      "  warnings.warn(\"Maximum Likelihood optimization failed to \"\n",
      " 67%|██████▋   | 20/30 [01:26<00:48,  4.82s/it]/home/andy/miniconda3/envs/gpu2/lib/python3.12/site-packages/statsmodels/base/model.py:607: ConvergenceWarning: Maximum Likelihood optimization failed to converge. Check mle_retvals\n",
      "  warnings.warn(\"Maximum Likelihood optimization failed to \"\n",
      " 70%|███████   | 21/30 [01:31<00:42,  4.75s/it]/home/andy/miniconda3/envs/gpu2/lib/python3.12/site-packages/statsmodels/base/model.py:607: ConvergenceWarning: Maximum Likelihood optimization failed to converge. Check mle_retvals\n",
      "  warnings.warn(\"Maximum Likelihood optimization failed to \"\n",
      " 73%|███████▎  | 22/30 [01:35<00:36,  4.61s/it]/home/andy/miniconda3/envs/gpu2/lib/python3.12/site-packages/statsmodels/base/model.py:607: ConvergenceWarning: Maximum Likelihood optimization failed to converge. Check mle_retvals\n",
      "  warnings.warn(\"Maximum Likelihood optimization failed to \"\n",
      " 77%|███████▋  | 23/30 [01:39<00:31,  4.48s/it]/home/andy/miniconda3/envs/gpu2/lib/python3.12/site-packages/statsmodels/base/model.py:607: ConvergenceWarning: Maximum Likelihood optimization failed to converge. Check mle_retvals\n",
      "  warnings.warn(\"Maximum Likelihood optimization failed to \"\n",
      " 80%|████████  | 24/30 [01:43<00:26,  4.33s/it]/home/andy/miniconda3/envs/gpu2/lib/python3.12/site-packages/statsmodels/base/model.py:607: ConvergenceWarning: Maximum Likelihood optimization failed to converge. Check mle_retvals\n",
      "  warnings.warn(\"Maximum Likelihood optimization failed to \"\n",
      " 83%|████████▎ | 25/30 [01:47<00:21,  4.29s/it]/home/andy/miniconda3/envs/gpu2/lib/python3.12/site-packages/statsmodels/base/model.py:607: ConvergenceWarning: Maximum Likelihood optimization failed to converge. Check mle_retvals\n",
      "  warnings.warn(\"Maximum Likelihood optimization failed to \"\n",
      " 87%|████████▋ | 26/30 [01:51<00:16,  4.22s/it]/home/andy/miniconda3/envs/gpu2/lib/python3.12/site-packages/statsmodels/base/model.py:607: ConvergenceWarning: Maximum Likelihood optimization failed to converge. Check mle_retvals\n",
      "  warnings.warn(\"Maximum Likelihood optimization failed to \"\n",
      " 90%|█████████ | 27/30 [01:55<00:12,  4.16s/it]/home/andy/miniconda3/envs/gpu2/lib/python3.12/site-packages/statsmodels/base/model.py:607: ConvergenceWarning: Maximum Likelihood optimization failed to converge. Check mle_retvals\n",
      "  warnings.warn(\"Maximum Likelihood optimization failed to \"\n",
      " 93%|█████████▎| 28/30 [02:00<00:08,  4.34s/it]/home/andy/miniconda3/envs/gpu2/lib/python3.12/site-packages/statsmodels/base/model.py:607: ConvergenceWarning: Maximum Likelihood optimization failed to converge. Check mle_retvals\n",
      "  warnings.warn(\"Maximum Likelihood optimization failed to \"\n",
      " 97%|█████████▋| 29/30 [02:05<00:04,  4.35s/it]/home/andy/miniconda3/envs/gpu2/lib/python3.12/site-packages/statsmodels/base/model.py:607: ConvergenceWarning: Maximum Likelihood optimization failed to converge. Check mle_retvals\n",
      "  warnings.warn(\"Maximum Likelihood optimization failed to \"\n",
      "100%|██████████| 30/30 [02:09<00:00,  4.31s/it]\n"
     ]
    },
    {
     "name": "stdout",
     "output_type": "stream",
     "text": [
      "Order (4, 0, 2), MAE: 9239.524305146728\n"
     ]
    },
    {
     "name": "stderr",
     "output_type": "stream",
     "text": [
      "  0%|          | 0/30 [00:00<?, ?it/s]/home/andy/miniconda3/envs/gpu2/lib/python3.12/site-packages/statsmodels/base/model.py:607: ConvergenceWarning: Maximum Likelihood optimization failed to converge. Check mle_retvals\n",
      "  warnings.warn(\"Maximum Likelihood optimization failed to \"\n",
      "  3%|▎         | 1/30 [00:04<02:13,  4.60s/it]/home/andy/miniconda3/envs/gpu2/lib/python3.12/site-packages/statsmodels/base/model.py:607: ConvergenceWarning: Maximum Likelihood optimization failed to converge. Check mle_retvals\n",
      "  warnings.warn(\"Maximum Likelihood optimization failed to \"\n",
      "  7%|▋         | 2/30 [00:09<02:10,  4.68s/it]/home/andy/miniconda3/envs/gpu2/lib/python3.12/site-packages/statsmodels/base/model.py:607: ConvergenceWarning: Maximum Likelihood optimization failed to converge. Check mle_retvals\n",
      "  warnings.warn(\"Maximum Likelihood optimization failed to \"\n",
      " 10%|█         | 3/30 [00:14<02:07,  4.71s/it]/home/andy/miniconda3/envs/gpu2/lib/python3.12/site-packages/statsmodels/base/model.py:607: ConvergenceWarning: Maximum Likelihood optimization failed to converge. Check mle_retvals\n",
      "  warnings.warn(\"Maximum Likelihood optimization failed to \"\n",
      " 13%|█▎        | 4/30 [00:19<02:06,  4.88s/it]/home/andy/miniconda3/envs/gpu2/lib/python3.12/site-packages/statsmodels/base/model.py:607: ConvergenceWarning: Maximum Likelihood optimization failed to converge. Check mle_retvals\n",
      "  warnings.warn(\"Maximum Likelihood optimization failed to \"\n",
      " 17%|█▋        | 5/30 [00:23<01:59,  4.80s/it]/home/andy/miniconda3/envs/gpu2/lib/python3.12/site-packages/statsmodels/base/model.py:607: ConvergenceWarning: Maximum Likelihood optimization failed to converge. Check mle_retvals\n",
      "  warnings.warn(\"Maximum Likelihood optimization failed to \"\n",
      " 20%|██        | 6/30 [00:28<01:52,  4.70s/it]/home/andy/miniconda3/envs/gpu2/lib/python3.12/site-packages/statsmodels/base/model.py:607: ConvergenceWarning: Maximum Likelihood optimization failed to converge. Check mle_retvals\n",
      "  warnings.warn(\"Maximum Likelihood optimization failed to \"\n",
      " 23%|██▎       | 7/30 [00:33<01:51,  4.84s/it]/home/andy/miniconda3/envs/gpu2/lib/python3.12/site-packages/statsmodels/base/model.py:607: ConvergenceWarning: Maximum Likelihood optimization failed to converge. Check mle_retvals\n",
      "  warnings.warn(\"Maximum Likelihood optimization failed to \"\n",
      " 27%|██▋       | 8/30 [00:38<01:45,  4.78s/it]/home/andy/miniconda3/envs/gpu2/lib/python3.12/site-packages/statsmodels/base/model.py:607: ConvergenceWarning: Maximum Likelihood optimization failed to converge. Check mle_retvals\n",
      "  warnings.warn(\"Maximum Likelihood optimization failed to \"\n",
      " 30%|███       | 9/30 [00:42<01:40,  4.77s/it]/home/andy/miniconda3/envs/gpu2/lib/python3.12/site-packages/statsmodels/base/model.py:607: ConvergenceWarning: Maximum Likelihood optimization failed to converge. Check mle_retvals\n",
      "  warnings.warn(\"Maximum Likelihood optimization failed to \"\n",
      " 33%|███▎      | 10/30 [00:47<01:35,  4.76s/it]/home/andy/miniconda3/envs/gpu2/lib/python3.12/site-packages/statsmodels/base/model.py:607: ConvergenceWarning: Maximum Likelihood optimization failed to converge. Check mle_retvals\n",
      "  warnings.warn(\"Maximum Likelihood optimization failed to \"\n",
      " 37%|███▋      | 11/30 [00:52<01:31,  4.82s/it]/home/andy/miniconda3/envs/gpu2/lib/python3.12/site-packages/statsmodels/base/model.py:607: ConvergenceWarning: Maximum Likelihood optimization failed to converge. Check mle_retvals\n",
      "  warnings.warn(\"Maximum Likelihood optimization failed to \"\n",
      " 40%|████      | 12/30 [00:57<01:26,  4.81s/it]/home/andy/miniconda3/envs/gpu2/lib/python3.12/site-packages/statsmodels/base/model.py:607: ConvergenceWarning: Maximum Likelihood optimization failed to converge. Check mle_retvals\n",
      "  warnings.warn(\"Maximum Likelihood optimization failed to \"\n",
      " 43%|████▎     | 13/30 [01:02<01:21,  4.80s/it]/home/andy/miniconda3/envs/gpu2/lib/python3.12/site-packages/statsmodels/base/model.py:607: ConvergenceWarning: Maximum Likelihood optimization failed to converge. Check mle_retvals\n",
      "  warnings.warn(\"Maximum Likelihood optimization failed to \"\n",
      " 47%|████▋     | 14/30 [01:07<01:17,  4.82s/it]/home/andy/miniconda3/envs/gpu2/lib/python3.12/site-packages/statsmodels/base/model.py:607: ConvergenceWarning: Maximum Likelihood optimization failed to converge. Check mle_retvals\n",
      "  warnings.warn(\"Maximum Likelihood optimization failed to \"\n",
      " 50%|█████     | 15/30 [01:11<01:12,  4.80s/it]/home/andy/miniconda3/envs/gpu2/lib/python3.12/site-packages/statsmodels/base/model.py:607: ConvergenceWarning: Maximum Likelihood optimization failed to converge. Check mle_retvals\n",
      "  warnings.warn(\"Maximum Likelihood optimization failed to \"\n",
      " 53%|█████▎    | 16/30 [01:16<01:07,  4.80s/it]/home/andy/miniconda3/envs/gpu2/lib/python3.12/site-packages/statsmodels/base/model.py:607: ConvergenceWarning: Maximum Likelihood optimization failed to converge. Check mle_retvals\n",
      "  warnings.warn(\"Maximum Likelihood optimization failed to \"\n",
      " 57%|█████▋    | 17/30 [01:21<01:03,  4.87s/it]/home/andy/miniconda3/envs/gpu2/lib/python3.12/site-packages/statsmodels/base/model.py:607: ConvergenceWarning: Maximum Likelihood optimization failed to converge. Check mle_retvals\n",
      "  warnings.warn(\"Maximum Likelihood optimization failed to \"\n",
      " 60%|██████    | 18/30 [01:27<01:00,  5.06s/it]/home/andy/miniconda3/envs/gpu2/lib/python3.12/site-packages/statsmodels/base/model.py:607: ConvergenceWarning: Maximum Likelihood optimization failed to converge. Check mle_retvals\n",
      "  warnings.warn(\"Maximum Likelihood optimization failed to \"\n",
      " 63%|██████▎   | 19/30 [01:32<00:56,  5.13s/it]/home/andy/miniconda3/envs/gpu2/lib/python3.12/site-packages/statsmodels/base/model.py:607: ConvergenceWarning: Maximum Likelihood optimization failed to converge. Check mle_retvals\n",
      "  warnings.warn(\"Maximum Likelihood optimization failed to \"\n",
      " 67%|██████▋   | 20/30 [01:37<00:50,  5.02s/it]/home/andy/miniconda3/envs/gpu2/lib/python3.12/site-packages/statsmodels/base/model.py:607: ConvergenceWarning: Maximum Likelihood optimization failed to converge. Check mle_retvals\n",
      "  warnings.warn(\"Maximum Likelihood optimization failed to \"\n",
      " 70%|███████   | 21/30 [01:41<00:44,  4.90s/it]/home/andy/miniconda3/envs/gpu2/lib/python3.12/site-packages/statsmodels/base/model.py:607: ConvergenceWarning: Maximum Likelihood optimization failed to converge. Check mle_retvals\n",
      "  warnings.warn(\"Maximum Likelihood optimization failed to \"\n",
      " 73%|███████▎  | 22/30 [01:46<00:39,  4.92s/it]/home/andy/miniconda3/envs/gpu2/lib/python3.12/site-packages/statsmodels/base/model.py:607: ConvergenceWarning: Maximum Likelihood optimization failed to converge. Check mle_retvals\n",
      "  warnings.warn(\"Maximum Likelihood optimization failed to \"\n",
      " 77%|███████▋  | 23/30 [01:52<00:35,  5.01s/it]/home/andy/miniconda3/envs/gpu2/lib/python3.12/site-packages/statsmodels/base/model.py:607: ConvergenceWarning: Maximum Likelihood optimization failed to converge. Check mle_retvals\n",
      "  warnings.warn(\"Maximum Likelihood optimization failed to \"\n",
      " 80%|████████  | 24/30 [01:56<00:29,  5.00s/it]/home/andy/miniconda3/envs/gpu2/lib/python3.12/site-packages/statsmodels/base/model.py:607: ConvergenceWarning: Maximum Likelihood optimization failed to converge. Check mle_retvals\n",
      "  warnings.warn(\"Maximum Likelihood optimization failed to \"\n",
      " 83%|████████▎ | 25/30 [02:01<00:24,  4.91s/it]/home/andy/miniconda3/envs/gpu2/lib/python3.12/site-packages/statsmodels/base/model.py:607: ConvergenceWarning: Maximum Likelihood optimization failed to converge. Check mle_retvals\n",
      "  warnings.warn(\"Maximum Likelihood optimization failed to \"\n",
      " 87%|████████▋ | 26/30 [02:06<00:19,  4.92s/it]/home/andy/miniconda3/envs/gpu2/lib/python3.12/site-packages/statsmodels/base/model.py:607: ConvergenceWarning: Maximum Likelihood optimization failed to converge. Check mle_retvals\n",
      "  warnings.warn(\"Maximum Likelihood optimization failed to \"\n",
      " 90%|█████████ | 27/30 [02:11<00:14,  4.81s/it]/home/andy/miniconda3/envs/gpu2/lib/python3.12/site-packages/statsmodels/base/model.py:607: ConvergenceWarning: Maximum Likelihood optimization failed to converge. Check mle_retvals\n",
      "  warnings.warn(\"Maximum Likelihood optimization failed to \"\n",
      " 93%|█████████▎| 28/30 [02:15<00:09,  4.73s/it]/home/andy/miniconda3/envs/gpu2/lib/python3.12/site-packages/statsmodels/base/model.py:607: ConvergenceWarning: Maximum Likelihood optimization failed to converge. Check mle_retvals\n",
      "  warnings.warn(\"Maximum Likelihood optimization failed to \"\n",
      " 97%|█████████▋| 29/30 [02:20<00:04,  4.67s/it]/home/andy/miniconda3/envs/gpu2/lib/python3.12/site-packages/statsmodels/base/model.py:607: ConvergenceWarning: Maximum Likelihood optimization failed to converge. Check mle_retvals\n",
      "  warnings.warn(\"Maximum Likelihood optimization failed to \"\n",
      "100%|██████████| 30/30 [02:24<00:00,  4.82s/it]\n"
     ]
    },
    {
     "name": "stdout",
     "output_type": "stream",
     "text": [
      "Order (4, 0, 3), MAE: 8985.341204112943\n"
     ]
    },
    {
     "name": "stderr",
     "output_type": "stream",
     "text": [
      "  0%|          | 0/30 [00:00<?, ?it/s]/home/andy/miniconda3/envs/gpu2/lib/python3.12/site-packages/statsmodels/base/model.py:607: ConvergenceWarning: Maximum Likelihood optimization failed to converge. Check mle_retvals\n",
      "  warnings.warn(\"Maximum Likelihood optimization failed to \"\n",
      "  3%|▎         | 1/30 [00:05<02:38,  5.46s/it]/home/andy/miniconda3/envs/gpu2/lib/python3.12/site-packages/statsmodels/base/model.py:607: ConvergenceWarning: Maximum Likelihood optimization failed to converge. Check mle_retvals\n",
      "  warnings.warn(\"Maximum Likelihood optimization failed to \"\n",
      "  7%|▋         | 2/30 [00:11<02:44,  5.86s/it]/home/andy/miniconda3/envs/gpu2/lib/python3.12/site-packages/statsmodels/base/model.py:607: ConvergenceWarning: Maximum Likelihood optimization failed to converge. Check mle_retvals\n",
      "  warnings.warn(\"Maximum Likelihood optimization failed to \"\n",
      " 10%|█         | 3/30 [00:16<02:31,  5.60s/it]/home/andy/miniconda3/envs/gpu2/lib/python3.12/site-packages/statsmodels/base/model.py:607: ConvergenceWarning: Maximum Likelihood optimization failed to converge. Check mle_retvals\n",
      "  warnings.warn(\"Maximum Likelihood optimization failed to \"\n",
      " 13%|█▎        | 4/30 [00:22<02:25,  5.60s/it]/home/andy/miniconda3/envs/gpu2/lib/python3.12/site-packages/statsmodels/base/model.py:607: ConvergenceWarning: Maximum Likelihood optimization failed to converge. Check mle_retvals\n",
      "  warnings.warn(\"Maximum Likelihood optimization failed to \"\n",
      " 17%|█▋        | 5/30 [00:27<02:17,  5.51s/it]/home/andy/miniconda3/envs/gpu2/lib/python3.12/site-packages/statsmodels/base/model.py:607: ConvergenceWarning: Maximum Likelihood optimization failed to converge. Check mle_retvals\n",
      "  warnings.warn(\"Maximum Likelihood optimization failed to \"\n",
      " 20%|██        | 6/30 [00:32<02:09,  5.39s/it]/home/andy/miniconda3/envs/gpu2/lib/python3.12/site-packages/statsmodels/base/model.py:607: ConvergenceWarning: Maximum Likelihood optimization failed to converge. Check mle_retvals\n",
      "  warnings.warn(\"Maximum Likelihood optimization failed to \"\n",
      " 23%|██▎       | 7/30 [00:38<02:01,  5.29s/it]/home/andy/miniconda3/envs/gpu2/lib/python3.12/site-packages/statsmodels/base/model.py:607: ConvergenceWarning: Maximum Likelihood optimization failed to converge. Check mle_retvals\n",
      "  warnings.warn(\"Maximum Likelihood optimization failed to \"\n",
      " 27%|██▋       | 8/30 [00:43<01:54,  5.23s/it]/home/andy/miniconda3/envs/gpu2/lib/python3.12/site-packages/statsmodels/base/model.py:607: ConvergenceWarning: Maximum Likelihood optimization failed to converge. Check mle_retvals\n",
      "  warnings.warn(\"Maximum Likelihood optimization failed to \"\n",
      " 30%|███       | 9/30 [00:48<01:48,  5.18s/it]/home/andy/miniconda3/envs/gpu2/lib/python3.12/site-packages/statsmodels/base/model.py:607: ConvergenceWarning: Maximum Likelihood optimization failed to converge. Check mle_retvals\n",
      "  warnings.warn(\"Maximum Likelihood optimization failed to \"\n",
      " 33%|███▎      | 10/30 [00:53<01:44,  5.21s/it]/home/andy/miniconda3/envs/gpu2/lib/python3.12/site-packages/statsmodels/base/model.py:607: ConvergenceWarning: Maximum Likelihood optimization failed to converge. Check mle_retvals\n",
      "  warnings.warn(\"Maximum Likelihood optimization failed to \"\n",
      " 37%|███▋      | 11/30 [00:58<01:39,  5.25s/it]/home/andy/miniconda3/envs/gpu2/lib/python3.12/site-packages/statsmodels/base/model.py:607: ConvergenceWarning: Maximum Likelihood optimization failed to converge. Check mle_retvals\n",
      "  warnings.warn(\"Maximum Likelihood optimization failed to \"\n",
      " 40%|████      | 12/30 [01:04<01:36,  5.34s/it]/home/andy/miniconda3/envs/gpu2/lib/python3.12/site-packages/statsmodels/base/model.py:607: ConvergenceWarning: Maximum Likelihood optimization failed to converge. Check mle_retvals\n",
      "  warnings.warn(\"Maximum Likelihood optimization failed to \"\n",
      " 43%|████▎     | 13/30 [01:10<01:34,  5.59s/it]/home/andy/miniconda3/envs/gpu2/lib/python3.12/site-packages/statsmodels/base/model.py:607: ConvergenceWarning: Maximum Likelihood optimization failed to converge. Check mle_retvals\n",
      "  warnings.warn(\"Maximum Likelihood optimization failed to \"\n",
      " 47%|████▋     | 14/30 [01:16<01:29,  5.60s/it]/home/andy/miniconda3/envs/gpu2/lib/python3.12/site-packages/statsmodels/base/model.py:607: ConvergenceWarning: Maximum Likelihood optimization failed to converge. Check mle_retvals\n",
      "  warnings.warn(\"Maximum Likelihood optimization failed to \"\n",
      " 50%|█████     | 15/30 [01:21<01:23,  5.57s/it]/home/andy/miniconda3/envs/gpu2/lib/python3.12/site-packages/statsmodels/base/model.py:607: ConvergenceWarning: Maximum Likelihood optimization failed to converge. Check mle_retvals\n",
      "  warnings.warn(\"Maximum Likelihood optimization failed to \"\n",
      " 53%|█████▎    | 16/30 [01:26<01:15,  5.41s/it]/home/andy/miniconda3/envs/gpu2/lib/python3.12/site-packages/statsmodels/base/model.py:607: ConvergenceWarning: Maximum Likelihood optimization failed to converge. Check mle_retvals\n",
      "  warnings.warn(\"Maximum Likelihood optimization failed to \"\n",
      " 57%|█████▋    | 17/30 [01:31<01:08,  5.29s/it]/home/andy/miniconda3/envs/gpu2/lib/python3.12/site-packages/statsmodels/base/model.py:607: ConvergenceWarning: Maximum Likelihood optimization failed to converge. Check mle_retvals\n",
      "  warnings.warn(\"Maximum Likelihood optimization failed to \"\n",
      " 60%|██████    | 18/30 [01:37<01:03,  5.31s/it]/home/andy/miniconda3/envs/gpu2/lib/python3.12/site-packages/statsmodels/base/model.py:607: ConvergenceWarning: Maximum Likelihood optimization failed to converge. Check mle_retvals\n",
      "  warnings.warn(\"Maximum Likelihood optimization failed to \"\n",
      " 63%|██████▎   | 19/30 [01:42<00:59,  5.44s/it]/home/andy/miniconda3/envs/gpu2/lib/python3.12/site-packages/statsmodels/base/model.py:607: ConvergenceWarning: Maximum Likelihood optimization failed to converge. Check mle_retvals\n",
      "  warnings.warn(\"Maximum Likelihood optimization failed to \"\n",
      " 67%|██████▋   | 20/30 [01:47<00:53,  5.33s/it]/home/andy/miniconda3/envs/gpu2/lib/python3.12/site-packages/statsmodels/base/model.py:607: ConvergenceWarning: Maximum Likelihood optimization failed to converge. Check mle_retvals\n",
      "  warnings.warn(\"Maximum Likelihood optimization failed to \"\n",
      " 70%|███████   | 21/30 [01:52<00:46,  5.19s/it]/home/andy/miniconda3/envs/gpu2/lib/python3.12/site-packages/statsmodels/base/model.py:607: ConvergenceWarning: Maximum Likelihood optimization failed to converge. Check mle_retvals\n",
      "  warnings.warn(\"Maximum Likelihood optimization failed to \"\n",
      " 73%|███████▎  | 22/30 [01:58<00:42,  5.27s/it]/home/andy/miniconda3/envs/gpu2/lib/python3.12/site-packages/statsmodels/base/model.py:607: ConvergenceWarning: Maximum Likelihood optimization failed to converge. Check mle_retvals\n",
      "  warnings.warn(\"Maximum Likelihood optimization failed to \"\n",
      " 77%|███████▋  | 23/30 [02:03<00:36,  5.15s/it]/home/andy/miniconda3/envs/gpu2/lib/python3.12/site-packages/statsmodels/base/model.py:607: ConvergenceWarning: Maximum Likelihood optimization failed to converge. Check mle_retvals\n",
      "  warnings.warn(\"Maximum Likelihood optimization failed to \"\n",
      " 80%|████████  | 24/30 [02:08<00:31,  5.18s/it]/home/andy/miniconda3/envs/gpu2/lib/python3.12/site-packages/statsmodels/base/model.py:607: ConvergenceWarning: Maximum Likelihood optimization failed to converge. Check mle_retvals\n",
      "  warnings.warn(\"Maximum Likelihood optimization failed to \"\n",
      " 83%|████████▎ | 25/30 [02:13<00:26,  5.29s/it]/home/andy/miniconda3/envs/gpu2/lib/python3.12/site-packages/statsmodels/base/model.py:607: ConvergenceWarning: Maximum Likelihood optimization failed to converge. Check mle_retvals\n",
      "  warnings.warn(\"Maximum Likelihood optimization failed to \"\n",
      " 87%|████████▋ | 26/30 [02:19<00:21,  5.36s/it]/home/andy/miniconda3/envs/gpu2/lib/python3.12/site-packages/statsmodels/base/model.py:607: ConvergenceWarning: Maximum Likelihood optimization failed to converge. Check mle_retvals\n",
      "  warnings.warn(\"Maximum Likelihood optimization failed to \"\n",
      " 90%|█████████ | 27/30 [02:24<00:16,  5.34s/it]/home/andy/miniconda3/envs/gpu2/lib/python3.12/site-packages/statsmodels/base/model.py:607: ConvergenceWarning: Maximum Likelihood optimization failed to converge. Check mle_retvals\n",
      "  warnings.warn(\"Maximum Likelihood optimization failed to \"\n",
      " 93%|█████████▎| 28/30 [02:29<00:10,  5.29s/it]/home/andy/miniconda3/envs/gpu2/lib/python3.12/site-packages/statsmodels/base/model.py:607: ConvergenceWarning: Maximum Likelihood optimization failed to converge. Check mle_retvals\n",
      "  warnings.warn(\"Maximum Likelihood optimization failed to \"\n",
      " 97%|█████████▋| 29/30 [02:35<00:05,  5.31s/it]/home/andy/miniconda3/envs/gpu2/lib/python3.12/site-packages/statsmodels/base/model.py:607: ConvergenceWarning: Maximum Likelihood optimization failed to converge. Check mle_retvals\n",
      "  warnings.warn(\"Maximum Likelihood optimization failed to \"\n",
      "100%|██████████| 30/30 [02:40<00:00,  5.36s/it]\n"
     ]
    },
    {
     "name": "stdout",
     "output_type": "stream",
     "text": [
      "Order (4, 0, 4), MAE: 8767.161605731748\n"
     ]
    },
    {
     "name": "stderr",
     "output_type": "stream",
     "text": [
      "  0%|          | 0/30 [00:00<?, ?it/s]/home/andy/miniconda3/envs/gpu2/lib/python3.12/site-packages/statsmodels/base/model.py:607: ConvergenceWarning: Maximum Likelihood optimization failed to converge. Check mle_retvals\n",
      "  warnings.warn(\"Maximum Likelihood optimization failed to \"\n",
      "  3%|▎         | 1/30 [00:05<02:51,  5.92s/it]/home/andy/miniconda3/envs/gpu2/lib/python3.12/site-packages/statsmodels/base/model.py:607: ConvergenceWarning: Maximum Likelihood optimization failed to converge. Check mle_retvals\n",
      "  warnings.warn(\"Maximum Likelihood optimization failed to \"\n",
      "  7%|▋         | 2/30 [00:12<02:53,  6.21s/it]/home/andy/miniconda3/envs/gpu2/lib/python3.12/site-packages/statsmodels/base/model.py:607: ConvergenceWarning: Maximum Likelihood optimization failed to converge. Check mle_retvals\n",
      "  warnings.warn(\"Maximum Likelihood optimization failed to \"\n",
      " 10%|█         | 3/30 [00:19<02:58,  6.61s/it]/home/andy/miniconda3/envs/gpu2/lib/python3.12/site-packages/statsmodels/base/model.py:607: ConvergenceWarning: Maximum Likelihood optimization failed to converge. Check mle_retvals\n",
      "  warnings.warn(\"Maximum Likelihood optimization failed to \"\n",
      " 13%|█▎        | 4/30 [00:25<02:48,  6.47s/it]/home/andy/miniconda3/envs/gpu2/lib/python3.12/site-packages/statsmodels/base/model.py:607: ConvergenceWarning: Maximum Likelihood optimization failed to converge. Check mle_retvals\n",
      "  warnings.warn(\"Maximum Likelihood optimization failed to \"\n",
      " 17%|█▋        | 5/30 [00:32<02:42,  6.48s/it]/home/andy/miniconda3/envs/gpu2/lib/python3.12/site-packages/statsmodels/base/model.py:607: ConvergenceWarning: Maximum Likelihood optimization failed to converge. Check mle_retvals\n",
      "  warnings.warn(\"Maximum Likelihood optimization failed to \"\n",
      " 20%|██        | 6/30 [00:38<02:36,  6.53s/it]/home/andy/miniconda3/envs/gpu2/lib/python3.12/site-packages/statsmodels/base/model.py:607: ConvergenceWarning: Maximum Likelihood optimization failed to converge. Check mle_retvals\n",
      "  warnings.warn(\"Maximum Likelihood optimization failed to \"\n",
      " 23%|██▎       | 7/30 [00:44<02:27,  6.40s/it]/home/andy/miniconda3/envs/gpu2/lib/python3.12/site-packages/statsmodels/base/model.py:607: ConvergenceWarning: Maximum Likelihood optimization failed to converge. Check mle_retvals\n",
      "  warnings.warn(\"Maximum Likelihood optimization failed to \"\n",
      " 27%|██▋       | 8/30 [00:51<02:19,  6.34s/it]/home/andy/miniconda3/envs/gpu2/lib/python3.12/site-packages/statsmodels/base/model.py:607: ConvergenceWarning: Maximum Likelihood optimization failed to converge. Check mle_retvals\n",
      "  warnings.warn(\"Maximum Likelihood optimization failed to \"\n",
      " 30%|███       | 9/30 [00:57<02:16,  6.50s/it]/home/andy/miniconda3/envs/gpu2/lib/python3.12/site-packages/statsmodels/base/model.py:607: ConvergenceWarning: Maximum Likelihood optimization failed to converge. Check mle_retvals\n",
      "  warnings.warn(\"Maximum Likelihood optimization failed to \"\n",
      " 33%|███▎      | 10/30 [01:04<02:11,  6.57s/it]/home/andy/miniconda3/envs/gpu2/lib/python3.12/site-packages/statsmodels/base/model.py:607: ConvergenceWarning: Maximum Likelihood optimization failed to converge. Check mle_retvals\n",
      "  warnings.warn(\"Maximum Likelihood optimization failed to \"\n",
      " 37%|███▋      | 11/30 [01:11<02:05,  6.61s/it]/home/andy/miniconda3/envs/gpu2/lib/python3.12/site-packages/statsmodels/base/model.py:607: ConvergenceWarning: Maximum Likelihood optimization failed to converge. Check mle_retvals\n",
      "  warnings.warn(\"Maximum Likelihood optimization failed to \"\n",
      " 40%|████      | 12/30 [01:18<02:01,  6.78s/it]/home/andy/miniconda3/envs/gpu2/lib/python3.12/site-packages/statsmodels/base/model.py:607: ConvergenceWarning: Maximum Likelihood optimization failed to converge. Check mle_retvals\n",
      "  warnings.warn(\"Maximum Likelihood optimization failed to \"\n",
      " 43%|████▎     | 13/30 [01:25<01:55,  6.82s/it]/home/andy/miniconda3/envs/gpu2/lib/python3.12/site-packages/statsmodels/base/model.py:607: ConvergenceWarning: Maximum Likelihood optimization failed to converge. Check mle_retvals\n",
      "  warnings.warn(\"Maximum Likelihood optimization failed to \"\n",
      " 47%|████▋     | 14/30 [01:32<01:48,  6.78s/it]/home/andy/miniconda3/envs/gpu2/lib/python3.12/site-packages/statsmodels/base/model.py:607: ConvergenceWarning: Maximum Likelihood optimization failed to converge. Check mle_retvals\n",
      "  warnings.warn(\"Maximum Likelihood optimization failed to \"\n",
      " 50%|█████     | 15/30 [01:39<01:43,  6.92s/it]/home/andy/miniconda3/envs/gpu2/lib/python3.12/site-packages/statsmodels/base/model.py:607: ConvergenceWarning: Maximum Likelihood optimization failed to converge. Check mle_retvals\n",
      "  warnings.warn(\"Maximum Likelihood optimization failed to \"\n",
      " 53%|█████▎    | 16/30 [01:46<01:39,  7.11s/it]/home/andy/miniconda3/envs/gpu2/lib/python3.12/site-packages/statsmodels/base/model.py:607: ConvergenceWarning: Maximum Likelihood optimization failed to converge. Check mle_retvals\n",
      "  warnings.warn(\"Maximum Likelihood optimization failed to \"\n",
      " 57%|█████▋    | 17/30 [01:53<01:30,  6.96s/it]/home/andy/miniconda3/envs/gpu2/lib/python3.12/site-packages/statsmodels/base/model.py:607: ConvergenceWarning: Maximum Likelihood optimization failed to converge. Check mle_retvals\n",
      "  warnings.warn(\"Maximum Likelihood optimization failed to \"\n",
      " 60%|██████    | 18/30 [02:00<01:23,  6.95s/it]/home/andy/miniconda3/envs/gpu2/lib/python3.12/site-packages/statsmodels/base/model.py:607: ConvergenceWarning: Maximum Likelihood optimization failed to converge. Check mle_retvals\n",
      "  warnings.warn(\"Maximum Likelihood optimization failed to \"\n",
      " 63%|██████▎   | 19/30 [02:07<01:17,  7.01s/it]/home/andy/miniconda3/envs/gpu2/lib/python3.12/site-packages/statsmodels/base/model.py:607: ConvergenceWarning: Maximum Likelihood optimization failed to converge. Check mle_retvals\n",
      "  warnings.warn(\"Maximum Likelihood optimization failed to \"\n",
      " 67%|██████▋   | 20/30 [02:14<01:09,  6.95s/it]/home/andy/miniconda3/envs/gpu2/lib/python3.12/site-packages/statsmodels/base/model.py:607: ConvergenceWarning: Maximum Likelihood optimization failed to converge. Check mle_retvals\n",
      "  warnings.warn(\"Maximum Likelihood optimization failed to \"\n",
      " 70%|███████   | 21/30 [02:21<01:03,  7.03s/it]/home/andy/miniconda3/envs/gpu2/lib/python3.12/site-packages/statsmodels/base/model.py:607: ConvergenceWarning: Maximum Likelihood optimization failed to converge. Check mle_retvals\n",
      "  warnings.warn(\"Maximum Likelihood optimization failed to \"\n",
      " 73%|███████▎  | 22/30 [02:28<00:55,  6.92s/it]/home/andy/miniconda3/envs/gpu2/lib/python3.12/site-packages/statsmodels/base/model.py:607: ConvergenceWarning: Maximum Likelihood optimization failed to converge. Check mle_retvals\n",
      "  warnings.warn(\"Maximum Likelihood optimization failed to \"\n",
      " 77%|███████▋  | 23/30 [02:35<00:48,  6.94s/it]/home/andy/miniconda3/envs/gpu2/lib/python3.12/site-packages/statsmodels/base/model.py:607: ConvergenceWarning: Maximum Likelihood optimization failed to converge. Check mle_retvals\n",
      "  warnings.warn(\"Maximum Likelihood optimization failed to \"\n",
      " 80%|████████  | 24/30 [02:42<00:41,  6.88s/it]/home/andy/miniconda3/envs/gpu2/lib/python3.12/site-packages/statsmodels/base/model.py:607: ConvergenceWarning: Maximum Likelihood optimization failed to converge. Check mle_retvals\n",
      "  warnings.warn(\"Maximum Likelihood optimization failed to \"\n",
      " 83%|████████▎ | 25/30 [02:49<00:35,  7.02s/it]/home/andy/miniconda3/envs/gpu2/lib/python3.12/site-packages/statsmodels/base/model.py:607: ConvergenceWarning: Maximum Likelihood optimization failed to converge. Check mle_retvals\n",
      "  warnings.warn(\"Maximum Likelihood optimization failed to \"\n",
      " 87%|████████▋ | 26/30 [02:55<00:27,  6.87s/it]/home/andy/miniconda3/envs/gpu2/lib/python3.12/site-packages/statsmodels/base/model.py:607: ConvergenceWarning: Maximum Likelihood optimization failed to converge. Check mle_retvals\n",
      "  warnings.warn(\"Maximum Likelihood optimization failed to \"\n",
      " 90%|█████████ | 27/30 [03:02<00:20,  6.86s/it]/home/andy/miniconda3/envs/gpu2/lib/python3.12/site-packages/statsmodels/base/model.py:607: ConvergenceWarning: Maximum Likelihood optimization failed to converge. Check mle_retvals\n",
      "  warnings.warn(\"Maximum Likelihood optimization failed to \"\n",
      " 93%|█████████▎| 28/30 [03:09<00:13,  6.84s/it]/home/andy/miniconda3/envs/gpu2/lib/python3.12/site-packages/statsmodels/base/model.py:607: ConvergenceWarning: Maximum Likelihood optimization failed to converge. Check mle_retvals\n",
      "  warnings.warn(\"Maximum Likelihood optimization failed to \"\n",
      " 97%|█████████▋| 29/30 [03:16<00:06,  6.73s/it]/home/andy/miniconda3/envs/gpu2/lib/python3.12/site-packages/statsmodels/base/model.py:607: ConvergenceWarning: Maximum Likelihood optimization failed to converge. Check mle_retvals\n",
      "  warnings.warn(\"Maximum Likelihood optimization failed to \"\n",
      "100%|██████████| 30/30 [03:22<00:00,  6.75s/it]\n"
     ]
    },
    {
     "name": "stdout",
     "output_type": "stream",
     "text": [
      "Order (4, 0, 5), MAE: 8815.00643086544\n"
     ]
    },
    {
     "name": "stderr",
     "output_type": "stream",
     "text": [
      "100%|██████████| 30/30 [00:11<00:00,  2.68it/s]\n"
     ]
    },
    {
     "name": "stdout",
     "output_type": "stream",
     "text": [
      "Order (5, 0, 0), MAE: 8482.58507352798\n"
     ]
    },
    {
     "name": "stderr",
     "output_type": "stream",
     "text": [
      "100%|██████████| 30/30 [01:34<00:00,  3.16s/it]\n"
     ]
    },
    {
     "name": "stdout",
     "output_type": "stream",
     "text": [
      "Order (5, 0, 1), MAE: 8650.375368059797\n"
     ]
    },
    {
     "name": "stderr",
     "output_type": "stream",
     "text": [
      "  0%|          | 0/30 [00:00<?, ?it/s]/home/andy/miniconda3/envs/gpu2/lib/python3.12/site-packages/statsmodels/base/model.py:607: ConvergenceWarning: Maximum Likelihood optimization failed to converge. Check mle_retvals\n",
      "  warnings.warn(\"Maximum Likelihood optimization failed to \"\n",
      "  3%|▎         | 1/30 [00:05<02:34,  5.32s/it]/home/andy/miniconda3/envs/gpu2/lib/python3.12/site-packages/statsmodels/base/model.py:607: ConvergenceWarning: Maximum Likelihood optimization failed to converge. Check mle_retvals\n",
      "  warnings.warn(\"Maximum Likelihood optimization failed to \"\n",
      "  7%|▋         | 2/30 [00:11<02:35,  5.57s/it]/home/andy/miniconda3/envs/gpu2/lib/python3.12/site-packages/statsmodels/base/model.py:607: ConvergenceWarning: Maximum Likelihood optimization failed to converge. Check mle_retvals\n",
      "  warnings.warn(\"Maximum Likelihood optimization failed to \"\n",
      " 10%|█         | 3/30 [00:15<02:22,  5.28s/it]/home/andy/miniconda3/envs/gpu2/lib/python3.12/site-packages/statsmodels/base/model.py:607: ConvergenceWarning: Maximum Likelihood optimization failed to converge. Check mle_retvals\n",
      "  warnings.warn(\"Maximum Likelihood optimization failed to \"\n",
      " 13%|█▎        | 4/30 [00:21<02:19,  5.35s/it]/home/andy/miniconda3/envs/gpu2/lib/python3.12/site-packages/statsmodels/base/model.py:607: ConvergenceWarning: Maximum Likelihood optimization failed to converge. Check mle_retvals\n",
      "  warnings.warn(\"Maximum Likelihood optimization failed to \"\n",
      " 17%|█▋        | 5/30 [00:26<02:12,  5.29s/it]/home/andy/miniconda3/envs/gpu2/lib/python3.12/site-packages/statsmodels/base/model.py:607: ConvergenceWarning: Maximum Likelihood optimization failed to converge. Check mle_retvals\n",
      "  warnings.warn(\"Maximum Likelihood optimization failed to \"\n",
      " 20%|██        | 6/30 [00:32<02:09,  5.41s/it]/home/andy/miniconda3/envs/gpu2/lib/python3.12/site-packages/statsmodels/base/model.py:607: ConvergenceWarning: Maximum Likelihood optimization failed to converge. Check mle_retvals\n",
      "  warnings.warn(\"Maximum Likelihood optimization failed to \"\n",
      " 23%|██▎       | 7/30 [00:37<02:02,  5.34s/it]/home/andy/miniconda3/envs/gpu2/lib/python3.12/site-packages/statsmodels/base/model.py:607: ConvergenceWarning: Maximum Likelihood optimization failed to converge. Check mle_retvals\n",
      "  warnings.warn(\"Maximum Likelihood optimization failed to \"\n",
      " 27%|██▋       | 8/30 [00:42<01:57,  5.36s/it]/home/andy/miniconda3/envs/gpu2/lib/python3.12/site-packages/statsmodels/base/model.py:607: ConvergenceWarning: Maximum Likelihood optimization failed to converge. Check mle_retvals\n",
      "  warnings.warn(\"Maximum Likelihood optimization failed to \"\n",
      " 30%|███       | 9/30 [00:48<01:51,  5.29s/it]/home/andy/miniconda3/envs/gpu2/lib/python3.12/site-packages/statsmodels/base/model.py:607: ConvergenceWarning: Maximum Likelihood optimization failed to converge. Check mle_retvals\n",
      "  warnings.warn(\"Maximum Likelihood optimization failed to \"\n",
      " 33%|███▎      | 10/30 [00:53<01:48,  5.44s/it]/home/andy/miniconda3/envs/gpu2/lib/python3.12/site-packages/statsmodels/base/model.py:607: ConvergenceWarning: Maximum Likelihood optimization failed to converge. Check mle_retvals\n",
      "  warnings.warn(\"Maximum Likelihood optimization failed to \"\n",
      " 37%|███▋      | 11/30 [00:59<01:44,  5.49s/it]/home/andy/miniconda3/envs/gpu2/lib/python3.12/site-packages/statsmodels/base/model.py:607: ConvergenceWarning: Maximum Likelihood optimization failed to converge. Check mle_retvals\n",
      "  warnings.warn(\"Maximum Likelihood optimization failed to \"\n",
      " 40%|████      | 12/30 [01:04<01:39,  5.52s/it]/home/andy/miniconda3/envs/gpu2/lib/python3.12/site-packages/statsmodels/base/model.py:607: ConvergenceWarning: Maximum Likelihood optimization failed to converge. Check mle_retvals\n",
      "  warnings.warn(\"Maximum Likelihood optimization failed to \"\n",
      " 43%|████▎     | 13/30 [01:09<01:30,  5.30s/it]/home/andy/miniconda3/envs/gpu2/lib/python3.12/site-packages/statsmodels/base/model.py:607: ConvergenceWarning: Maximum Likelihood optimization failed to converge. Check mle_retvals\n",
      "  warnings.warn(\"Maximum Likelihood optimization failed to \"\n",
      " 47%|████▋     | 14/30 [01:14<01:23,  5.23s/it]/home/andy/miniconda3/envs/gpu2/lib/python3.12/site-packages/statsmodels/base/model.py:607: ConvergenceWarning: Maximum Likelihood optimization failed to converge. Check mle_retvals\n",
      "  warnings.warn(\"Maximum Likelihood optimization failed to \"\n",
      " 50%|█████     | 15/30 [01:19<01:17,  5.17s/it]/home/andy/miniconda3/envs/gpu2/lib/python3.12/site-packages/statsmodels/base/model.py:607: ConvergenceWarning: Maximum Likelihood optimization failed to converge. Check mle_retvals\n",
      "  warnings.warn(\"Maximum Likelihood optimization failed to \"\n",
      " 53%|█████▎    | 16/30 [01:24<01:10,  5.07s/it]/home/andy/miniconda3/envs/gpu2/lib/python3.12/site-packages/statsmodels/base/model.py:607: ConvergenceWarning: Maximum Likelihood optimization failed to converge. Check mle_retvals\n",
      "  warnings.warn(\"Maximum Likelihood optimization failed to \"\n",
      " 57%|█████▋    | 17/30 [01:30<01:07,  5.19s/it]/home/andy/miniconda3/envs/gpu2/lib/python3.12/site-packages/statsmodels/base/model.py:607: ConvergenceWarning: Maximum Likelihood optimization failed to converge. Check mle_retvals\n",
      "  warnings.warn(\"Maximum Likelihood optimization failed to \"\n",
      " 60%|██████    | 18/30 [01:35<01:02,  5.22s/it]/home/andy/miniconda3/envs/gpu2/lib/python3.12/site-packages/statsmodels/base/model.py:607: ConvergenceWarning: Maximum Likelihood optimization failed to converge. Check mle_retvals\n",
      "  warnings.warn(\"Maximum Likelihood optimization failed to \"\n",
      " 63%|██████▎   | 19/30 [01:40<00:56,  5.16s/it]/home/andy/miniconda3/envs/gpu2/lib/python3.12/site-packages/statsmodels/base/model.py:607: ConvergenceWarning: Maximum Likelihood optimization failed to converge. Check mle_retvals\n",
      "  warnings.warn(\"Maximum Likelihood optimization failed to \"\n",
      " 67%|██████▋   | 20/30 [01:45<00:51,  5.18s/it]/home/andy/miniconda3/envs/gpu2/lib/python3.12/site-packages/statsmodels/base/model.py:607: ConvergenceWarning: Maximum Likelihood optimization failed to converge. Check mle_retvals\n",
      "  warnings.warn(\"Maximum Likelihood optimization failed to \"\n",
      " 70%|███████   | 21/30 [01:50<00:46,  5.20s/it]/home/andy/miniconda3/envs/gpu2/lib/python3.12/site-packages/statsmodels/base/model.py:607: ConvergenceWarning: Maximum Likelihood optimization failed to converge. Check mle_retvals\n",
      "  warnings.warn(\"Maximum Likelihood optimization failed to \"\n",
      " 73%|███████▎  | 22/30 [01:56<00:42,  5.35s/it]/home/andy/miniconda3/envs/gpu2/lib/python3.12/site-packages/statsmodels/base/model.py:607: ConvergenceWarning: Maximum Likelihood optimization failed to converge. Check mle_retvals\n",
      "  warnings.warn(\"Maximum Likelihood optimization failed to \"\n",
      " 77%|███████▋  | 23/30 [02:02<00:38,  5.49s/it]/home/andy/miniconda3/envs/gpu2/lib/python3.12/site-packages/statsmodels/base/model.py:607: ConvergenceWarning: Maximum Likelihood optimization failed to converge. Check mle_retvals\n",
      "  warnings.warn(\"Maximum Likelihood optimization failed to \"\n",
      " 80%|████████  | 24/30 [02:07<00:32,  5.48s/it]/home/andy/miniconda3/envs/gpu2/lib/python3.12/site-packages/statsmodels/base/model.py:607: ConvergenceWarning: Maximum Likelihood optimization failed to converge. Check mle_retvals\n",
      "  warnings.warn(\"Maximum Likelihood optimization failed to \"\n",
      " 83%|████████▎ | 25/30 [02:13<00:26,  5.38s/it]/home/andy/miniconda3/envs/gpu2/lib/python3.12/site-packages/statsmodels/base/model.py:607: ConvergenceWarning: Maximum Likelihood optimization failed to converge. Check mle_retvals\n",
      "  warnings.warn(\"Maximum Likelihood optimization failed to \"\n",
      " 87%|████████▋ | 26/30 [02:18<00:21,  5.27s/it]/home/andy/miniconda3/envs/gpu2/lib/python3.12/site-packages/statsmodels/base/model.py:607: ConvergenceWarning: Maximum Likelihood optimization failed to converge. Check mle_retvals\n",
      "  warnings.warn(\"Maximum Likelihood optimization failed to \"\n",
      " 90%|█████████ | 27/30 [02:23<00:15,  5.29s/it]/home/andy/miniconda3/envs/gpu2/lib/python3.12/site-packages/statsmodels/base/model.py:607: ConvergenceWarning: Maximum Likelihood optimization failed to converge. Check mle_retvals\n",
      "  warnings.warn(\"Maximum Likelihood optimization failed to \"\n",
      " 93%|█████████▎| 28/30 [02:29<00:10,  5.38s/it]/home/andy/miniconda3/envs/gpu2/lib/python3.12/site-packages/statsmodels/base/model.py:607: ConvergenceWarning: Maximum Likelihood optimization failed to converge. Check mle_retvals\n",
      "  warnings.warn(\"Maximum Likelihood optimization failed to \"\n",
      " 97%|█████████▋| 29/30 [02:35<00:05,  5.62s/it]/home/andy/miniconda3/envs/gpu2/lib/python3.12/site-packages/statsmodels/base/model.py:607: ConvergenceWarning: Maximum Likelihood optimization failed to converge. Check mle_retvals\n",
      "  warnings.warn(\"Maximum Likelihood optimization failed to \"\n",
      "100%|██████████| 30/30 [02:40<00:00,  5.35s/it]\n"
     ]
    },
    {
     "name": "stdout",
     "output_type": "stream",
     "text": [
      "Order (5, 0, 2), MAE: 8573.232510263762\n"
     ]
    },
    {
     "name": "stderr",
     "output_type": "stream",
     "text": [
      "  0%|          | 0/30 [00:00<?, ?it/s]/home/andy/miniconda3/envs/gpu2/lib/python3.12/site-packages/statsmodels/base/model.py:607: ConvergenceWarning: Maximum Likelihood optimization failed to converge. Check mle_retvals\n",
      "  warnings.warn(\"Maximum Likelihood optimization failed to \"\n",
      "  3%|▎         | 1/30 [00:05<02:37,  5.42s/it]/home/andy/miniconda3/envs/gpu2/lib/python3.12/site-packages/statsmodels/base/model.py:607: ConvergenceWarning: Maximum Likelihood optimization failed to converge. Check mle_retvals\n",
      "  warnings.warn(\"Maximum Likelihood optimization failed to \"\n",
      "  7%|▋         | 2/30 [00:10<02:32,  5.44s/it]/home/andy/miniconda3/envs/gpu2/lib/python3.12/site-packages/statsmodels/base/model.py:607: ConvergenceWarning: Maximum Likelihood optimization failed to converge. Check mle_retvals\n",
      "  warnings.warn(\"Maximum Likelihood optimization failed to \"\n",
      " 10%|█         | 3/30 [00:16<02:23,  5.32s/it]/home/andy/miniconda3/envs/gpu2/lib/python3.12/site-packages/statsmodels/base/model.py:607: ConvergenceWarning: Maximum Likelihood optimization failed to converge. Check mle_retvals\n",
      "  warnings.warn(\"Maximum Likelihood optimization failed to \"\n",
      " 13%|█▎        | 4/30 [00:21<02:18,  5.31s/it]/home/andy/miniconda3/envs/gpu2/lib/python3.12/site-packages/statsmodels/base/model.py:607: ConvergenceWarning: Maximum Likelihood optimization failed to converge. Check mle_retvals\n",
      "  warnings.warn(\"Maximum Likelihood optimization failed to \"\n",
      " 17%|█▋        | 5/30 [00:26<02:12,  5.31s/it]/home/andy/miniconda3/envs/gpu2/lib/python3.12/site-packages/statsmodels/base/model.py:607: ConvergenceWarning: Maximum Likelihood optimization failed to converge. Check mle_retvals\n",
      "  warnings.warn(\"Maximum Likelihood optimization failed to \"\n",
      " 20%|██        | 6/30 [00:32<02:07,  5.33s/it]/home/andy/miniconda3/envs/gpu2/lib/python3.12/site-packages/statsmodels/base/model.py:607: ConvergenceWarning: Maximum Likelihood optimization failed to converge. Check mle_retvals\n",
      "  warnings.warn(\"Maximum Likelihood optimization failed to \"\n",
      " 23%|██▎       | 7/30 [00:37<02:02,  5.32s/it]/home/andy/miniconda3/envs/gpu2/lib/python3.12/site-packages/statsmodels/base/model.py:607: ConvergenceWarning: Maximum Likelihood optimization failed to converge. Check mle_retvals\n",
      "  warnings.warn(\"Maximum Likelihood optimization failed to \"\n",
      " 27%|██▋       | 8/30 [00:42<01:54,  5.19s/it]/home/andy/miniconda3/envs/gpu2/lib/python3.12/site-packages/statsmodels/base/model.py:607: ConvergenceWarning: Maximum Likelihood optimization failed to converge. Check mle_retvals\n",
      "  warnings.warn(\"Maximum Likelihood optimization failed to \"\n",
      " 30%|███       | 9/30 [00:46<01:46,  5.05s/it]/home/andy/miniconda3/envs/gpu2/lib/python3.12/site-packages/statsmodels/base/model.py:607: ConvergenceWarning: Maximum Likelihood optimization failed to converge. Check mle_retvals\n",
      "  warnings.warn(\"Maximum Likelihood optimization failed to \"\n",
      " 33%|███▎      | 10/30 [00:51<01:40,  5.01s/it]/home/andy/miniconda3/envs/gpu2/lib/python3.12/site-packages/statsmodels/base/model.py:607: ConvergenceWarning: Maximum Likelihood optimization failed to converge. Check mle_retvals\n",
      "  warnings.warn(\"Maximum Likelihood optimization failed to \"\n",
      " 37%|███▋      | 11/30 [00:56<01:33,  4.91s/it]/home/andy/miniconda3/envs/gpu2/lib/python3.12/site-packages/statsmodels/base/model.py:607: ConvergenceWarning: Maximum Likelihood optimization failed to converge. Check mle_retvals\n",
      "  warnings.warn(\"Maximum Likelihood optimization failed to \"\n",
      " 40%|████      | 12/30 [01:01<01:28,  4.92s/it]/home/andy/miniconda3/envs/gpu2/lib/python3.12/site-packages/statsmodels/base/model.py:607: ConvergenceWarning: Maximum Likelihood optimization failed to converge. Check mle_retvals\n",
      "  warnings.warn(\"Maximum Likelihood optimization failed to \"\n",
      " 43%|████▎     | 13/30 [01:06<01:26,  5.06s/it]/home/andy/miniconda3/envs/gpu2/lib/python3.12/site-packages/statsmodels/base/model.py:607: ConvergenceWarning: Maximum Likelihood optimization failed to converge. Check mle_retvals\n",
      "  warnings.warn(\"Maximum Likelihood optimization failed to \"\n",
      " 47%|████▋     | 14/30 [01:12<01:22,  5.15s/it]/home/andy/miniconda3/envs/gpu2/lib/python3.12/site-packages/statsmodels/base/model.py:607: ConvergenceWarning: Maximum Likelihood optimization failed to converge. Check mle_retvals\n",
      "  warnings.warn(\"Maximum Likelihood optimization failed to \"\n",
      " 50%|█████     | 15/30 [01:17<01:17,  5.17s/it]/home/andy/miniconda3/envs/gpu2/lib/python3.12/site-packages/statsmodels/base/model.py:607: ConvergenceWarning: Maximum Likelihood optimization failed to converge. Check mle_retvals\n",
      "  warnings.warn(\"Maximum Likelihood optimization failed to \"\n",
      " 53%|█████▎    | 16/30 [01:22<01:12,  5.16s/it]/home/andy/miniconda3/envs/gpu2/lib/python3.12/site-packages/statsmodels/base/model.py:607: ConvergenceWarning: Maximum Likelihood optimization failed to converge. Check mle_retvals\n",
      "  warnings.warn(\"Maximum Likelihood optimization failed to \"\n",
      " 57%|█████▋    | 17/30 [01:28<01:08,  5.26s/it]/home/andy/miniconda3/envs/gpu2/lib/python3.12/site-packages/statsmodels/base/model.py:607: ConvergenceWarning: Maximum Likelihood optimization failed to converge. Check mle_retvals\n",
      "  warnings.warn(\"Maximum Likelihood optimization failed to \"\n",
      " 60%|██████    | 18/30 [01:33<01:03,  5.25s/it]/home/andy/miniconda3/envs/gpu2/lib/python3.12/site-packages/statsmodels/base/model.py:607: ConvergenceWarning: Maximum Likelihood optimization failed to converge. Check mle_retvals\n",
      "  warnings.warn(\"Maximum Likelihood optimization failed to \"\n",
      " 63%|██████▎   | 19/30 [01:39<00:59,  5.41s/it]/home/andy/miniconda3/envs/gpu2/lib/python3.12/site-packages/statsmodels/base/model.py:607: ConvergenceWarning: Maximum Likelihood optimization failed to converge. Check mle_retvals\n",
      "  warnings.warn(\"Maximum Likelihood optimization failed to \"\n",
      " 67%|██████▋   | 20/30 [01:44<00:53,  5.31s/it]/home/andy/miniconda3/envs/gpu2/lib/python3.12/site-packages/statsmodels/base/model.py:607: ConvergenceWarning: Maximum Likelihood optimization failed to converge. Check mle_retvals\n",
      "  warnings.warn(\"Maximum Likelihood optimization failed to \"\n",
      " 70%|███████   | 21/30 [01:49<00:47,  5.31s/it]/home/andy/miniconda3/envs/gpu2/lib/python3.12/site-packages/statsmodels/base/model.py:607: ConvergenceWarning: Maximum Likelihood optimization failed to converge. Check mle_retvals\n",
      "  warnings.warn(\"Maximum Likelihood optimization failed to \"\n",
      " 73%|███████▎  | 22/30 [01:55<00:43,  5.40s/it]/home/andy/miniconda3/envs/gpu2/lib/python3.12/site-packages/statsmodels/base/model.py:607: ConvergenceWarning: Maximum Likelihood optimization failed to converge. Check mle_retvals\n",
      "  warnings.warn(\"Maximum Likelihood optimization failed to \"\n",
      " 77%|███████▋  | 23/30 [02:00<00:37,  5.42s/it]/home/andy/miniconda3/envs/gpu2/lib/python3.12/site-packages/statsmodels/base/model.py:607: ConvergenceWarning: Maximum Likelihood optimization failed to converge. Check mle_retvals\n",
      "  warnings.warn(\"Maximum Likelihood optimization failed to \"\n",
      " 80%|████████  | 24/30 [02:05<00:31,  5.33s/it]/home/andy/miniconda3/envs/gpu2/lib/python3.12/site-packages/statsmodels/base/model.py:607: ConvergenceWarning: Maximum Likelihood optimization failed to converge. Check mle_retvals\n",
      "  warnings.warn(\"Maximum Likelihood optimization failed to \"\n",
      " 83%|████████▎ | 25/30 [02:10<00:26,  5.24s/it]/home/andy/miniconda3/envs/gpu2/lib/python3.12/site-packages/statsmodels/base/model.py:607: ConvergenceWarning: Maximum Likelihood optimization failed to converge. Check mle_retvals\n",
      "  warnings.warn(\"Maximum Likelihood optimization failed to \"\n",
      " 87%|████████▋ | 26/30 [02:15<00:20,  5.19s/it]/home/andy/miniconda3/envs/gpu2/lib/python3.12/site-packages/statsmodels/base/model.py:607: ConvergenceWarning: Maximum Likelihood optimization failed to converge. Check mle_retvals\n",
      "  warnings.warn(\"Maximum Likelihood optimization failed to \"\n",
      " 90%|█████████ | 27/30 [02:20<00:15,  5.13s/it]/home/andy/miniconda3/envs/gpu2/lib/python3.12/site-packages/statsmodels/base/model.py:607: ConvergenceWarning: Maximum Likelihood optimization failed to converge. Check mle_retvals\n",
      "  warnings.warn(\"Maximum Likelihood optimization failed to \"\n",
      " 93%|█████████▎| 28/30 [02:25<00:10,  5.12s/it]/home/andy/miniconda3/envs/gpu2/lib/python3.12/site-packages/statsmodels/base/model.py:607: ConvergenceWarning: Maximum Likelihood optimization failed to converge. Check mle_retvals\n",
      "  warnings.warn(\"Maximum Likelihood optimization failed to \"\n",
      " 97%|█████████▋| 29/30 [02:31<00:05,  5.13s/it]/home/andy/miniconda3/envs/gpu2/lib/python3.12/site-packages/statsmodels/base/model.py:607: ConvergenceWarning: Maximum Likelihood optimization failed to converge. Check mle_retvals\n",
      "  warnings.warn(\"Maximum Likelihood optimization failed to \"\n",
      "100%|██████████| 30/30 [02:36<00:00,  5.21s/it]\n"
     ]
    },
    {
     "name": "stdout",
     "output_type": "stream",
     "text": [
      "Order (5, 0, 3), MAE: 8521.561617246982\n"
     ]
    },
    {
     "name": "stderr",
     "output_type": "stream",
     "text": [
      "  0%|          | 0/30 [00:00<?, ?it/s]/home/andy/miniconda3/envs/gpu2/lib/python3.12/site-packages/statsmodels/base/model.py:607: ConvergenceWarning: Maximum Likelihood optimization failed to converge. Check mle_retvals\n",
      "  warnings.warn(\"Maximum Likelihood optimization failed to \"\n",
      "  3%|▎         | 1/30 [00:05<02:48,  5.80s/it]/home/andy/miniconda3/envs/gpu2/lib/python3.12/site-packages/statsmodels/base/model.py:607: ConvergenceWarning: Maximum Likelihood optimization failed to converge. Check mle_retvals\n",
      "  warnings.warn(\"Maximum Likelihood optimization failed to \"\n",
      "  7%|▋         | 2/30 [00:11<02:38,  5.68s/it]/home/andy/miniconda3/envs/gpu2/lib/python3.12/site-packages/statsmodels/base/model.py:607: ConvergenceWarning: Maximum Likelihood optimization failed to converge. Check mle_retvals\n",
      "  warnings.warn(\"Maximum Likelihood optimization failed to \"\n",
      " 10%|█         | 3/30 [00:16<02:32,  5.63s/it]/home/andy/miniconda3/envs/gpu2/lib/python3.12/site-packages/statsmodels/base/model.py:607: ConvergenceWarning: Maximum Likelihood optimization failed to converge. Check mle_retvals\n",
      "  warnings.warn(\"Maximum Likelihood optimization failed to \"\n",
      " 13%|█▎        | 4/30 [00:22<02:29,  5.77s/it]/home/andy/miniconda3/envs/gpu2/lib/python3.12/site-packages/statsmodels/base/model.py:607: ConvergenceWarning: Maximum Likelihood optimization failed to converge. Check mle_retvals\n",
      "  warnings.warn(\"Maximum Likelihood optimization failed to \"\n",
      " 17%|█▋        | 5/30 [00:28<02:22,  5.69s/it]/home/andy/miniconda3/envs/gpu2/lib/python3.12/site-packages/statsmodels/base/model.py:607: ConvergenceWarning: Maximum Likelihood optimization failed to converge. Check mle_retvals\n",
      "  warnings.warn(\"Maximum Likelihood optimization failed to \"\n",
      " 20%|██        | 6/30 [00:34<02:17,  5.71s/it]/home/andy/miniconda3/envs/gpu2/lib/python3.12/site-packages/statsmodels/base/model.py:607: ConvergenceWarning: Maximum Likelihood optimization failed to converge. Check mle_retvals\n",
      "  warnings.warn(\"Maximum Likelihood optimization failed to \"\n",
      " 23%|██▎       | 7/30 [00:40<02:16,  5.92s/it]/home/andy/miniconda3/envs/gpu2/lib/python3.12/site-packages/statsmodels/base/model.py:607: ConvergenceWarning: Maximum Likelihood optimization failed to converge. Check mle_retvals\n",
      "  warnings.warn(\"Maximum Likelihood optimization failed to \"\n",
      " 27%|██▋       | 8/30 [00:46<02:12,  6.02s/it]/home/andy/miniconda3/envs/gpu2/lib/python3.12/site-packages/statsmodels/base/model.py:607: ConvergenceWarning: Maximum Likelihood optimization failed to converge. Check mle_retvals\n",
      "  warnings.warn(\"Maximum Likelihood optimization failed to \"\n",
      " 30%|███       | 9/30 [00:52<02:06,  6.01s/it]/home/andy/miniconda3/envs/gpu2/lib/python3.12/site-packages/statsmodels/base/model.py:607: ConvergenceWarning: Maximum Likelihood optimization failed to converge. Check mle_retvals\n",
      "  warnings.warn(\"Maximum Likelihood optimization failed to \"\n",
      " 33%|███▎      | 10/30 [00:59<02:01,  6.06s/it]/home/andy/miniconda3/envs/gpu2/lib/python3.12/site-packages/statsmodels/base/model.py:607: ConvergenceWarning: Maximum Likelihood optimization failed to converge. Check mle_retvals\n",
      "  warnings.warn(\"Maximum Likelihood optimization failed to \"\n",
      " 37%|███▋      | 11/30 [01:05<01:56,  6.11s/it]/home/andy/miniconda3/envs/gpu2/lib/python3.12/site-packages/statsmodels/base/model.py:607: ConvergenceWarning: Maximum Likelihood optimization failed to converge. Check mle_retvals\n",
      "  warnings.warn(\"Maximum Likelihood optimization failed to \"\n",
      " 40%|████      | 12/30 [01:11<01:48,  6.03s/it]/home/andy/miniconda3/envs/gpu2/lib/python3.12/site-packages/statsmodels/base/model.py:607: ConvergenceWarning: Maximum Likelihood optimization failed to converge. Check mle_retvals\n",
      "  warnings.warn(\"Maximum Likelihood optimization failed to \"\n",
      " 43%|████▎     | 13/30 [01:17<01:44,  6.15s/it]/home/andy/miniconda3/envs/gpu2/lib/python3.12/site-packages/statsmodels/base/model.py:607: ConvergenceWarning: Maximum Likelihood optimization failed to converge. Check mle_retvals\n",
      "  warnings.warn(\"Maximum Likelihood optimization failed to \"\n",
      " 47%|████▋     | 14/30 [01:23<01:36,  6.01s/it]/home/andy/miniconda3/envs/gpu2/lib/python3.12/site-packages/statsmodels/base/model.py:607: ConvergenceWarning: Maximum Likelihood optimization failed to converge. Check mle_retvals\n",
      "  warnings.warn(\"Maximum Likelihood optimization failed to \"\n",
      " 50%|█████     | 15/30 [01:28<01:28,  5.88s/it]/home/andy/miniconda3/envs/gpu2/lib/python3.12/site-packages/statsmodels/base/model.py:607: ConvergenceWarning: Maximum Likelihood optimization failed to converge. Check mle_retvals\n",
      "  warnings.warn(\"Maximum Likelihood optimization failed to \"\n",
      " 53%|█████▎    | 16/30 [01:34<01:21,  5.82s/it]/home/andy/miniconda3/envs/gpu2/lib/python3.12/site-packages/statsmodels/base/model.py:607: ConvergenceWarning: Maximum Likelihood optimization failed to converge. Check mle_retvals\n",
      "  warnings.warn(\"Maximum Likelihood optimization failed to \"\n",
      " 57%|█████▋    | 17/30 [01:40<01:16,  5.86s/it]/home/andy/miniconda3/envs/gpu2/lib/python3.12/site-packages/statsmodels/base/model.py:607: ConvergenceWarning: Maximum Likelihood optimization failed to converge. Check mle_retvals\n",
      "  warnings.warn(\"Maximum Likelihood optimization failed to \"\n",
      " 60%|██████    | 18/30 [01:46<01:10,  5.84s/it]/home/andy/miniconda3/envs/gpu2/lib/python3.12/site-packages/statsmodels/base/model.py:607: ConvergenceWarning: Maximum Likelihood optimization failed to converge. Check mle_retvals\n",
      "  warnings.warn(\"Maximum Likelihood optimization failed to \"\n",
      " 63%|██████▎   | 19/30 [01:52<01:05,  5.91s/it]/home/andy/miniconda3/envs/gpu2/lib/python3.12/site-packages/statsmodels/base/model.py:607: ConvergenceWarning: Maximum Likelihood optimization failed to converge. Check mle_retvals\n",
      "  warnings.warn(\"Maximum Likelihood optimization failed to \"\n",
      " 67%|██████▋   | 20/30 [01:58<00:59,  5.90s/it]/home/andy/miniconda3/envs/gpu2/lib/python3.12/site-packages/statsmodels/base/model.py:607: ConvergenceWarning: Maximum Likelihood optimization failed to converge. Check mle_retvals\n",
      "  warnings.warn(\"Maximum Likelihood optimization failed to \"\n",
      " 70%|███████   | 21/30 [02:04<00:53,  5.90s/it]/home/andy/miniconda3/envs/gpu2/lib/python3.12/site-packages/statsmodels/base/model.py:607: ConvergenceWarning: Maximum Likelihood optimization failed to converge. Check mle_retvals\n",
      "  warnings.warn(\"Maximum Likelihood optimization failed to \"\n",
      " 73%|███████▎  | 22/30 [02:09<00:46,  5.86s/it]/home/andy/miniconda3/envs/gpu2/lib/python3.12/site-packages/statsmodels/base/model.py:607: ConvergenceWarning: Maximum Likelihood optimization failed to converge. Check mle_retvals\n",
      "  warnings.warn(\"Maximum Likelihood optimization failed to \"\n",
      " 77%|███████▋  | 23/30 [02:15<00:41,  5.91s/it]/home/andy/miniconda3/envs/gpu2/lib/python3.12/site-packages/statsmodels/base/model.py:607: ConvergenceWarning: Maximum Likelihood optimization failed to converge. Check mle_retvals\n",
      "  warnings.warn(\"Maximum Likelihood optimization failed to \"\n",
      " 80%|████████  | 24/30 [02:21<00:35,  5.95s/it]/home/andy/miniconda3/envs/gpu2/lib/python3.12/site-packages/statsmodels/base/model.py:607: ConvergenceWarning: Maximum Likelihood optimization failed to converge. Check mle_retvals\n",
      "  warnings.warn(\"Maximum Likelihood optimization failed to \"\n",
      " 83%|████████▎ | 25/30 [02:27<00:29,  5.88s/it]/home/andy/miniconda3/envs/gpu2/lib/python3.12/site-packages/statsmodels/base/model.py:607: ConvergenceWarning: Maximum Likelihood optimization failed to converge. Check mle_retvals\n",
      "  warnings.warn(\"Maximum Likelihood optimization failed to \"\n",
      " 87%|████████▋ | 26/30 [02:33<00:23,  5.87s/it]/home/andy/miniconda3/envs/gpu2/lib/python3.12/site-packages/statsmodels/base/model.py:607: ConvergenceWarning: Maximum Likelihood optimization failed to converge. Check mle_retvals\n",
      "  warnings.warn(\"Maximum Likelihood optimization failed to \"\n",
      " 90%|█████████ | 27/30 [02:39<00:17,  5.81s/it]/home/andy/miniconda3/envs/gpu2/lib/python3.12/site-packages/statsmodels/base/model.py:607: ConvergenceWarning: Maximum Likelihood optimization failed to converge. Check mle_retvals\n",
      "  warnings.warn(\"Maximum Likelihood optimization failed to \"\n",
      " 93%|█████████▎| 28/30 [02:44<00:11,  5.79s/it]/home/andy/miniconda3/envs/gpu2/lib/python3.12/site-packages/statsmodels/base/model.py:607: ConvergenceWarning: Maximum Likelihood optimization failed to converge. Check mle_retvals\n",
      "  warnings.warn(\"Maximum Likelihood optimization failed to \"\n",
      " 97%|█████████▋| 29/30 [02:50<00:05,  5.78s/it]/home/andy/miniconda3/envs/gpu2/lib/python3.12/site-packages/statsmodels/base/model.py:607: ConvergenceWarning: Maximum Likelihood optimization failed to converge. Check mle_retvals\n",
      "  warnings.warn(\"Maximum Likelihood optimization failed to \"\n",
      "100%|██████████| 30/30 [02:56<00:00,  5.88s/it]\n"
     ]
    },
    {
     "name": "stdout",
     "output_type": "stream",
     "text": [
      "Order (5, 0, 4), MAE: 9538.338866654516\n"
     ]
    },
    {
     "name": "stderr",
     "output_type": "stream",
     "text": [
      "  0%|          | 0/30 [00:00<?, ?it/s]/home/andy/miniconda3/envs/gpu2/lib/python3.12/site-packages/statsmodels/base/model.py:607: ConvergenceWarning: Maximum Likelihood optimization failed to converge. Check mle_retvals\n",
      "  warnings.warn(\"Maximum Likelihood optimization failed to \"\n",
      "  3%|▎         | 1/30 [00:06<03:09,  6.54s/it]/home/andy/miniconda3/envs/gpu2/lib/python3.12/site-packages/statsmodels/base/model.py:607: ConvergenceWarning: Maximum Likelihood optimization failed to converge. Check mle_retvals\n",
      "  warnings.warn(\"Maximum Likelihood optimization failed to \"\n",
      "  7%|▋         | 2/30 [00:12<02:56,  6.29s/it]/home/andy/miniconda3/envs/gpu2/lib/python3.12/site-packages/statsmodels/base/model.py:607: ConvergenceWarning: Maximum Likelihood optimization failed to converge. Check mle_retvals\n",
      "  warnings.warn(\"Maximum Likelihood optimization failed to \"\n",
      " 10%|█         | 3/30 [00:18<02:45,  6.13s/it]/home/andy/miniconda3/envs/gpu2/lib/python3.12/site-packages/statsmodels/base/model.py:607: ConvergenceWarning: Maximum Likelihood optimization failed to converge. Check mle_retvals\n",
      "  warnings.warn(\"Maximum Likelihood optimization failed to \"\n",
      " 13%|█▎        | 4/30 [00:25<02:45,  6.35s/it]/home/andy/miniconda3/envs/gpu2/lib/python3.12/site-packages/statsmodels/base/model.py:607: ConvergenceWarning: Maximum Likelihood optimization failed to converge. Check mle_retvals\n",
      "  warnings.warn(\"Maximum Likelihood optimization failed to \"\n",
      " 17%|█▋        | 5/30 [00:31<02:37,  6.28s/it]/home/andy/miniconda3/envs/gpu2/lib/python3.12/site-packages/statsmodels/base/model.py:607: ConvergenceWarning: Maximum Likelihood optimization failed to converge. Check mle_retvals\n",
      "  warnings.warn(\"Maximum Likelihood optimization failed to \"\n",
      " 20%|██        | 6/30 [00:38<02:35,  6.49s/it]/home/andy/miniconda3/envs/gpu2/lib/python3.12/site-packages/statsmodels/base/model.py:607: ConvergenceWarning: Maximum Likelihood optimization failed to converge. Check mle_retvals\n",
      "  warnings.warn(\"Maximum Likelihood optimization failed to \"\n",
      " 23%|██▎       | 7/30 [00:44<02:29,  6.51s/it]/home/andy/miniconda3/envs/gpu2/lib/python3.12/site-packages/statsmodels/base/model.py:607: ConvergenceWarning: Maximum Likelihood optimization failed to converge. Check mle_retvals\n",
      "  warnings.warn(\"Maximum Likelihood optimization failed to \"\n",
      " 27%|██▋       | 8/30 [00:51<02:25,  6.63s/it]/home/andy/miniconda3/envs/gpu2/lib/python3.12/site-packages/statsmodels/base/model.py:607: ConvergenceWarning: Maximum Likelihood optimization failed to converge. Check mle_retvals\n",
      "  warnings.warn(\"Maximum Likelihood optimization failed to \"\n",
      " 30%|███       | 9/30 [00:58<02:18,  6.60s/it]/home/andy/miniconda3/envs/gpu2/lib/python3.12/site-packages/statsmodels/base/model.py:607: ConvergenceWarning: Maximum Likelihood optimization failed to converge. Check mle_retvals\n",
      "  warnings.warn(\"Maximum Likelihood optimization failed to \"\n",
      " 33%|███▎      | 10/30 [01:05<02:13,  6.67s/it]/home/andy/miniconda3/envs/gpu2/lib/python3.12/site-packages/statsmodels/base/model.py:607: ConvergenceWarning: Maximum Likelihood optimization failed to converge. Check mle_retvals\n",
      "  warnings.warn(\"Maximum Likelihood optimization failed to \"\n",
      " 37%|███▋      | 11/30 [01:11<02:05,  6.58s/it]/home/andy/miniconda3/envs/gpu2/lib/python3.12/site-packages/statsmodels/base/model.py:607: ConvergenceWarning: Maximum Likelihood optimization failed to converge. Check mle_retvals\n",
      "  warnings.warn(\"Maximum Likelihood optimization failed to \"\n",
      " 40%|████      | 12/30 [01:18<02:02,  6.80s/it]/home/andy/miniconda3/envs/gpu2/lib/python3.12/site-packages/statsmodels/base/model.py:607: ConvergenceWarning: Maximum Likelihood optimization failed to converge. Check mle_retvals\n",
      "  warnings.warn(\"Maximum Likelihood optimization failed to \"\n",
      " 43%|████▎     | 13/30 [01:25<01:56,  6.85s/it]/home/andy/miniconda3/envs/gpu2/lib/python3.12/site-packages/statsmodels/base/model.py:607: ConvergenceWarning: Maximum Likelihood optimization failed to converge. Check mle_retvals\n",
      "  warnings.warn(\"Maximum Likelihood optimization failed to \"\n",
      " 47%|████▋     | 14/30 [01:32<01:48,  6.80s/it]/home/andy/miniconda3/envs/gpu2/lib/python3.12/site-packages/statsmodels/base/model.py:607: ConvergenceWarning: Maximum Likelihood optimization failed to converge. Check mle_retvals\n",
      "  warnings.warn(\"Maximum Likelihood optimization failed to \"\n",
      " 50%|█████     | 15/30 [01:38<01:40,  6.70s/it]/home/andy/miniconda3/envs/gpu2/lib/python3.12/site-packages/statsmodels/base/model.py:607: ConvergenceWarning: Maximum Likelihood optimization failed to converge. Check mle_retvals\n",
      "  warnings.warn(\"Maximum Likelihood optimization failed to \"\n",
      " 53%|█████▎    | 16/30 [01:45<01:34,  6.76s/it]/home/andy/miniconda3/envs/gpu2/lib/python3.12/site-packages/statsmodels/base/model.py:607: ConvergenceWarning: Maximum Likelihood optimization failed to converge. Check mle_retvals\n",
      "  warnings.warn(\"Maximum Likelihood optimization failed to \"\n",
      " 57%|█████▋    | 17/30 [01:52<01:27,  6.76s/it]/home/andy/miniconda3/envs/gpu2/lib/python3.12/site-packages/statsmodels/base/model.py:607: ConvergenceWarning: Maximum Likelihood optimization failed to converge. Check mle_retvals\n",
      "  warnings.warn(\"Maximum Likelihood optimization failed to \"\n",
      " 60%|██████    | 18/30 [01:58<01:19,  6.62s/it]/home/andy/miniconda3/envs/gpu2/lib/python3.12/site-packages/statsmodels/base/model.py:607: ConvergenceWarning: Maximum Likelihood optimization failed to converge. Check mle_retvals\n",
      "  warnings.warn(\"Maximum Likelihood optimization failed to \"\n",
      " 63%|██████▎   | 19/30 [02:05<01:12,  6.57s/it]/home/andy/miniconda3/envs/gpu2/lib/python3.12/site-packages/statsmodels/base/model.py:607: ConvergenceWarning: Maximum Likelihood optimization failed to converge. Check mle_retvals\n",
      "  warnings.warn(\"Maximum Likelihood optimization failed to \"\n",
      " 67%|██████▋   | 20/30 [02:11<01:05,  6.56s/it]/home/andy/miniconda3/envs/gpu2/lib/python3.12/site-packages/statsmodels/base/model.py:607: ConvergenceWarning: Maximum Likelihood optimization failed to converge. Check mle_retvals\n",
      "  warnings.warn(\"Maximum Likelihood optimization failed to \"\n",
      " 70%|███████   | 21/30 [02:18<00:58,  6.50s/it]/home/andy/miniconda3/envs/gpu2/lib/python3.12/site-packages/statsmodels/base/model.py:607: ConvergenceWarning: Maximum Likelihood optimization failed to converge. Check mle_retvals\n",
      "  warnings.warn(\"Maximum Likelihood optimization failed to \"\n",
      " 73%|███████▎  | 22/30 [02:25<00:52,  6.59s/it]/home/andy/miniconda3/envs/gpu2/lib/python3.12/site-packages/statsmodels/base/model.py:607: ConvergenceWarning: Maximum Likelihood optimization failed to converge. Check mle_retvals\n",
      "  warnings.warn(\"Maximum Likelihood optimization failed to \"\n",
      " 77%|███████▋  | 23/30 [02:31<00:45,  6.54s/it]/home/andy/miniconda3/envs/gpu2/lib/python3.12/site-packages/statsmodels/base/model.py:607: ConvergenceWarning: Maximum Likelihood optimization failed to converge. Check mle_retvals\n",
      "  warnings.warn(\"Maximum Likelihood optimization failed to \"\n",
      " 80%|████████  | 24/30 [02:37<00:38,  6.41s/it]/home/andy/miniconda3/envs/gpu2/lib/python3.12/site-packages/statsmodels/base/model.py:607: ConvergenceWarning: Maximum Likelihood optimization failed to converge. Check mle_retvals\n",
      "  warnings.warn(\"Maximum Likelihood optimization failed to \"\n",
      " 83%|████████▎ | 25/30 [02:44<00:32,  6.42s/it]/home/andy/miniconda3/envs/gpu2/lib/python3.12/site-packages/statsmodels/base/model.py:607: ConvergenceWarning: Maximum Likelihood optimization failed to converge. Check mle_retvals\n",
      "  warnings.warn(\"Maximum Likelihood optimization failed to \"\n",
      " 87%|████████▋ | 26/30 [02:50<00:26,  6.57s/it]/home/andy/miniconda3/envs/gpu2/lib/python3.12/site-packages/statsmodels/base/model.py:607: ConvergenceWarning: Maximum Likelihood optimization failed to converge. Check mle_retvals\n",
      "  warnings.warn(\"Maximum Likelihood optimization failed to \"\n",
      " 90%|█████████ | 27/30 [02:57<00:19,  6.60s/it]/home/andy/miniconda3/envs/gpu2/lib/python3.12/site-packages/statsmodels/base/model.py:607: ConvergenceWarning: Maximum Likelihood optimization failed to converge. Check mle_retvals\n",
      "  warnings.warn(\"Maximum Likelihood optimization failed to \"\n",
      " 93%|█████████▎| 28/30 [03:04<00:13,  6.64s/it]/home/andy/miniconda3/envs/gpu2/lib/python3.12/site-packages/statsmodels/base/model.py:607: ConvergenceWarning: Maximum Likelihood optimization failed to converge. Check mle_retvals\n",
      "  warnings.warn(\"Maximum Likelihood optimization failed to \"\n",
      " 97%|█████████▋| 29/30 [03:10<00:06,  6.52s/it]/home/andy/miniconda3/envs/gpu2/lib/python3.12/site-packages/statsmodels/base/model.py:607: ConvergenceWarning: Maximum Likelihood optimization failed to converge. Check mle_retvals\n",
      "  warnings.warn(\"Maximum Likelihood optimization failed to \"\n",
      "100%|██████████| 30/30 [03:17<00:00,  6.59s/it]"
     ]
    },
    {
     "name": "stdout",
     "output_type": "stream",
     "text": [
      "Order (5, 0, 5), MAE: 9030.204243280994\n",
      "\n",
      "Best Order: (5, 0, 0), Lowest MAE: 8482.58507352798, Execution Time: 2654.1316702099866\n"
     ]
    },
    {
     "name": "stderr",
     "output_type": "stream",
     "text": [
      "\n"
     ]
    }
   ],
   "source": [
    "from itertools import product\n",
    "\n",
    "# Define ranges for p, d, q\n",
    "p_range = range(0, 6)\n",
    "d_range = range(0, 1)\n",
    "q_range = range(0, 6)\n",
    "\n",
    "# Initialize a dictionary to store the results\n",
    "results = {}\n",
    "start = timeit.default_timer()\n",
    "# Iterate over all combinations of p, d, q\n",
    "for p, d, q in product(p_range, d_range, q_range):\n",
    "    order = (p, d, q)\n",
    "    # Evaluate the ARIMA model for the current (p, d, q) order\n",
    "    try:\n",
    "        mae = evaluate_arima_model(X, order)\n",
    "        # Store the result in the dictionary\n",
    "        results[order] = mae\n",
    "        print(f\"Order {order}, MAE: {mae}\")\n",
    "    except:\n",
    "        print(f\"Error trying to converge Order {order}\")\n",
    "\n",
    "# Find the (p, d, q) combination with the lowest RMSE\n",
    "best_order = min(results, key=results.get)\n",
    "best_mae = results[best_order]\n",
    "exec_time = timeit.default_timer() - start\n",
    "# Print the best (p, d, q) combination and the corresponding RMSE\n",
    "print(f\"\\nBest Order: {best_order}, Lowest MAE: {best_mae}, Execution Time: {exec_time}\")"
   ]
  },
  {
   "cell_type": "markdown",
   "metadata": {},
   "source": [
    "### 2. LSTM"
   ]
  },
  {
   "cell_type": "code",
   "execution_count": 16,
   "metadata": {},
   "outputs": [
    {
     "name": "stdout",
     "output_type": "stream",
     "text": [
      "GPU (CUDA) is available: True\n",
      "Number of available GPUs: 1\n"
     ]
    }
   ],
   "source": [
    "import torch\n",
    "import torch.nn as nn\n",
    "pytorch_gpu_available = torch.cuda.is_available()\n",
    "print(f\"GPU (CUDA) is available: {pytorch_gpu_available}\")\n",
    "if pytorch_gpu_available:\n",
    "    print(f\"Number of available GPUs: {torch.cuda.device_count()}\")\n"
   ]
  },
  {
   "cell_type": "code",
   "execution_count": 17,
   "metadata": {},
   "outputs": [],
   "source": [
    "from torch.utils.data import Dataset, DataLoader"
   ]
  },
  {
   "cell_type": "code",
   "execution_count": 80,
   "metadata": {},
   "outputs": [
    {
     "data": {
      "text/html": [
       "<div>\n",
       "<style scoped>\n",
       "    .dataframe tbody tr th:only-of-type {\n",
       "        vertical-align: middle;\n",
       "    }\n",
       "\n",
       "    .dataframe tbody tr th {\n",
       "        vertical-align: top;\n",
       "    }\n",
       "\n",
       "    .dataframe thead th {\n",
       "        text-align: right;\n",
       "    }\n",
       "</style>\n",
       "<table border=\"1\" class=\"dataframe\">\n",
       "  <thead>\n",
       "    <tr style=\"text-align: right;\">\n",
       "      <th></th>\n",
       "      <th>Time</th>\n",
       "      <th>PJMW_MW</th>\n",
       "    </tr>\n",
       "  </thead>\n",
       "  <tbody>\n",
       "    <tr>\n",
       "      <th>0</th>\n",
       "      <td>1017619200</td>\n",
       "      <td>121237.0</td>\n",
       "    </tr>\n",
       "    <tr>\n",
       "      <th>1</th>\n",
       "      <td>1017705600</td>\n",
       "      <td>127450.0</td>\n",
       "    </tr>\n",
       "    <tr>\n",
       "      <th>2</th>\n",
       "      <td>1017792000</td>\n",
       "      <td>127822.0</td>\n",
       "    </tr>\n",
       "    <tr>\n",
       "      <th>3</th>\n",
       "      <td>1017878400</td>\n",
       "      <td>136099.0</td>\n",
       "    </tr>\n",
       "    <tr>\n",
       "      <th>4</th>\n",
       "      <td>1017964800</td>\n",
       "      <td>136467.0</td>\n",
       "    </tr>\n",
       "  </tbody>\n",
       "</table>\n",
       "</div>"
      ],
      "text/plain": [
       "         Time   PJMW_MW\n",
       "0  1017619200  121237.0\n",
       "1  1017705600  127450.0\n",
       "2  1017792000  127822.0\n",
       "3  1017878400  136099.0\n",
       "4  1017964800  136467.0"
      ]
     },
     "execution_count": 80,
     "metadata": {},
     "output_type": "execute_result"
    }
   ],
   "source": [
    "# convert dates into epoch seconds\n",
    "df_daily['Time'] = (df_daily.index - pd.Timestamp(\"1970-01-01\")) // pd.Timedelta('1s')\n",
    "normalized_data = df_daily[['Time', 'PJMW_MW']]\n",
    "normalized_data.reset_index(inplace=True, drop=True)\n",
    "normalized_data.head()"
   ]
  },
  {
   "cell_type": "markdown",
   "metadata": {},
   "source": [
    "Normalize the data<br>\n",
    "Training data is 0-80%<br>\n",
    "Validation Data is 80-90%<br>\n",
    "Test Data is last 10%"
   ]
  },
  {
   "cell_type": "code",
   "execution_count": null,
   "metadata": {},
   "outputs": [],
   "source": [
    "cutoff_train = int(len(df_daily) * 0.8)\n",
    "cutoff_val = int(len(df_daily) * 0.9)\n",
    "\n",
    "# Normalize data based on the training set\n",
    "mean = normalized_data['PJMW_MW'][:cutoff_train].mean(axis=0)\n",
    "std = normalized_data['PJMW_MW'][:cutoff_train].std(axis=0)\n",
    "normalized_data['PJMW_MW'] = (normalized_data['PJMW_MW'] - mean) / std\n",
    "normalized_data = normalized_data.to_numpy()\n"
   ]
  },
  {
   "cell_type": "code",
   "execution_count": 85,
   "metadata": {},
   "outputs": [],
   "source": [
    "from torch.utils.data import Dataset\n",
    "\n",
    "class PJMWBDataset(Dataset):\n",
    "    def __init__(self, data, lookback, delay, min_index, max_index, step):\n",
    "        self.data = data\n",
    "        self.lookback = lookback\n",
    "        self.delay = delay\n",
    "        self.min_index = min_index\n",
    "        self.max_index = max_index if max_index is not None else len(data) - delay - 1\n",
    "        self.step = step\n",
    "\n",
    "    def __len__(self):\n",
    "        return self.max_index - self.min_index - self.lookback + 1\n",
    "\n",
    "    def __getitem__(self, index):\n",
    "        i = self.min_index + index + self.lookback\n",
    "        indices = range(i - self.lookback, i, self.step)\n",
    "        samples = self.data[indices]\n",
    "        target = self.data[i + self.delay][-1]  # last column column (index -1) is the target variable\n",
    "\n",
    "        return torch.tensor(samples, dtype=torch.float32), torch.tensor(target, dtype=torch.float32)\n",
    "\n",
    "\n"
   ]
  },
  {
   "cell_type": "markdown",
   "metadata": {},
   "source": [
    "Look back 120 days, 1 data point per day, predict the next 30th day"
   ]
  },
  {
   "cell_type": "code",
   "execution_count": null,
   "metadata": {},
   "outputs": [],
   "source": [
    "NUM_WORKERS = 1\n",
    "\n",
    "lookback = 120 # 120 days\n",
    "step = 1\n",
    "delay = 30 * 2 # predict next 30 days\n",
    "batch_size = 120\n",
    "\n",
    "train_dataset = PJMWBDataset(normalized_data, lookback, delay, 0, cutoff_train, step)\n",
    "val_dataset = PJMWBDataset(normalized_data, lookback, delay, cutoff_train + 1, cutoff_val, step)\n",
    "test_dataset = PJMWBDataset(normalized_data, lookback, delay, cutoff_val + 1, None, step)\n",
    "\n",
    "train_loader = DataLoader(train_dataset, batch_size=batch_size, shuffle=True, num_workers=NUM_WORKERS)\n",
    "val_loader = DataLoader(val_dataset, batch_size=batch_size, shuffle=False, num_workers=NUM_WORKERS)\n",
    "test_loader = DataLoader(test_dataset, batch_size=batch_size, shuffle=False, num_workers=NUM_WORKERS)\n",
    "\n"
   ]
  },
  {
   "cell_type": "code",
   "execution_count": 22,
   "metadata": {},
   "outputs": [],
   "source": [
    "# import numpy as np\n",
    "\n",
    "# def generator(data, lookback, delay, min_index, max_index, shuffle=False, batch_size=128, step=6):\n",
    "#     # print(f'DATA SHAPE={data.shape}')\n",
    "#     # Set default max_index if not provided\n",
    "#     if max_index is None:\n",
    "#         max_index = len(data) - delay - 1\n",
    "\n",
    "#     # Start index for data sampling\n",
    "#     i = min_index + lookback\n",
    "\n",
    "#     # Infinite loop to generate samples indefinitely\n",
    "#     while True:\n",
    "#         # Shuffle data if required; otherwise, generate sequential batches\n",
    "#         if shuffle:\n",
    "#             rows = np.random.randint(min_index + lookback, max_index, size=batch_size)\n",
    "#             # print(f'ROWS SHAPE={rows.shape}')\n",
    "#         else:\n",
    "#             if i + batch_size >= max_index:\n",
    "#                 i = min_index + lookback  # Reset index if it goes beyond the max index\n",
    "#             rows = np.arange(i, min(i + batch_size, max_index))\n",
    "#             # print(f'ROWS SHAPE={rows.shape}')\n",
    "#             i += len(rows)\n",
    "\n",
    "#         # Initialize numpy arrays to store samples and targets\n",
    "#         # samples = np.zeros((len(rows), lookback // step, data.shape[-1]))\n",
    "#         samples = np.zeros((len(rows), lookback // step))\n",
    "#         targets = np.zeros((len(rows),))\n",
    "\n",
    "#         # Populate samples and targets arrays\n",
    "#         for j, row in enumerate(rows):\n",
    "#             indices = range(rows[j] - lookback, rows[j], step)  # Select indices for sample\n",
    "#             # indices = range(rows[j], step)  # Select indices for sample\n",
    "#             samples[j] = data[indices]  # Assign the sliced data to samples\n",
    "#             targets[j] = data[rows[j] + delay]  # Set the corresponding target\n",
    "\n",
    "#         # Yield a batch of samples and targets\n",
    "#         print(f'SAMPLES {samples.shape} TARGETS {targets.shape}')\n",
    "#         yield samples, targets\n"
   ]
  },
  {
   "cell_type": "code",
   "execution_count": 23,
   "metadata": {},
   "outputs": [],
   "source": [
    "# lookback = 30 * 6 # 3 months\n",
    "# step = 1\n",
    "# delay = 30\n",
    "# batch_size = lookback // step #Each of the batch will have inputs = lookback/step (240 hours in this example) +  delay/step (24 hours)\n",
    "\n",
    "# train_cutoff = int(len(X) * 0.7)\n",
    "# val_cutoff = int(len(X) * 0.8)\n",
    "# test_cutoff = int(len(X) * 0.9)\n",
    "\n",
    "# train_gen = generator(X,\n",
    "#     lookback=lookback,\n",
    "#     delay=delay,\n",
    "#     min_index=0,\n",
    "#     max_index=train_cutoff,\n",
    "#     shuffle=True,\n",
    "#     step=step,\n",
    "#     batch_size=batch_size)\n",
    "\n",
    "# val_gen = generator(X,\n",
    "#     lookback=lookback, \n",
    "#     delay=delay,\n",
    "#     min_index=train_cutoff +1,\n",
    "#     max_index=val_cutoff,\n",
    "#     shuffle=False,\n",
    "#     step=step,\n",
    "#     batch_size=batch_size)\n",
    "\n",
    "# test_gen = generator(X,\n",
    "#     lookback=lookback,\n",
    "#     delay=delay,\n",
    "#     min_index=val_cutoff + 1,\n",
    "#     max_index=None,\n",
    "#     step=step,\n",
    "#     batch_size=batch_size)\n",
    "\n",
    "# val_steps = (test_cutoff - val_cutoff + 1 - lookback)  #How many steps to draw from val_gen in order to see the entire\n",
    "#                                           #validation set ---\n",
    "#                                          #This is normally a problem in keras so let's manually set this to just 1000\n",
    "# test_steps = (len(X) - test_cutoff - lookback)  #How many steps to draw from test_gen in order to see the\n",
    "#                                           #entire test set\n",
    "\n",
    "# print(f'TEST STEPS {test_steps}')\n",
    "# print(f'VAL STEPS {val_steps}')"
   ]
  },
  {
   "cell_type": "markdown",
   "metadata": {},
   "source": [
    "Baseline - Naive Model"
   ]
  },
  {
   "cell_type": "code",
   "execution_count": 94,
   "metadata": {},
   "outputs": [
    {
     "name": "stdout",
     "output_type": "stream",
     "text": [
      "Naive method MAE on validation set: 1.3588061332702637\n"
     ]
    }
   ],
   "source": [
    "def evaluate_naive_method(loader):\n",
    "    maes = []\n",
    "    for samples, targets in loader:\n",
    "        preds = samples[:, -1 , 1]  # last time step's temperature as prediction\n",
    "        # print(f'SAMPLES {samples.shape} PREDS {preds.shape} TARGETS {targets.shape}')\n",
    "        mae = torch.mean(torch.abs(preds - targets))\n",
    "        maes.append(mae.item())\n",
    "    return np.mean(maes)\n",
    "\n",
    "# Evaluate\n",
    "naive_mae = evaluate_naive_method(val_loader)\n",
    "print(f\"Naive method MAE on validation set: {naive_mae}\")"
   ]
  },
  {
   "cell_type": "markdown",
   "metadata": {},
   "source": [
    "Feed Forward Neural Net"
   ]
  },
  {
   "cell_type": "code",
   "execution_count": 119,
   "metadata": {},
   "outputs": [
    {
     "name": "stdout",
     "output_type": "stream",
     "text": [
      "Net(\n",
      "  (flatten): Flatten(start_dim=1, end_dim=-1)\n",
      "  (fc1): Linear(in_features=240, out_features=32, bias=True)\n",
      "  (relu): ReLU()\n",
      "  (fc2): Linear(in_features=32, out_features=1, bias=True)\n",
      ")\n"
     ]
    }
   ],
   "source": [
    "import torch\n",
    "import torch.nn as nn\n",
    "import torch.optim as optim\n",
    "from torch.utils.data import DataLoader\n",
    "\n",
    "class Net(nn.Module):\n",
    "    def __init__(self, input_shape):\n",
    "        super(Net, self).__init__()\n",
    "        self.flatten = nn.Flatten()\n",
    "        self.fc1 = nn.Linear(input_shape[0] * input_shape[1], 32)\n",
    "        self.relu = nn.ReLU()\n",
    "        self.fc2 = nn.Linear(32, 1)\n",
    "\n",
    "    def forward(self, x):\n",
    "        x = self.flatten(x)\n",
    "        x = self.fc1(x)\n",
    "        x = self.relu(x)\n",
    "        x = self.fc2(x)\n",
    "        return x\n",
    "\n",
    "# Determine input shape based on your data structure\n",
    "input_shape = (lookback // step, normalized_data.shape[-1])\n",
    "model = Net(input_shape)\n",
    "\n",
    "# Print model architecture\n",
    "print(model)"
   ]
  },
  {
   "cell_type": "code",
   "execution_count": 120,
   "metadata": {},
   "outputs": [
    {
     "data": {
      "text/plain": [
       "==========================================================================================\n",
       "Layer (type:depth-idx)                   Output Shape              Param #\n",
       "==========================================================================================\n",
       "Net                                      [1, 1]                    --\n",
       "├─Flatten: 1-1                           [1, 240]                  --\n",
       "├─Linear: 1-2                            [1, 32]                   7,712\n",
       "├─ReLU: 1-3                              [1, 32]                   --\n",
       "├─Linear: 1-4                            [1, 1]                    33\n",
       "==========================================================================================\n",
       "Total params: 7,745\n",
       "Trainable params: 7,745\n",
       "Non-trainable params: 0\n",
       "Total mult-adds (Units.MEGABYTES): 0.01\n",
       "==========================================================================================\n",
       "Input size (MB): 0.00\n",
       "Forward/backward pass size (MB): 0.00\n",
       "Params size (MB): 0.03\n",
       "Estimated Total Size (MB): 0.03\n",
       "=========================================================================================="
      ]
     },
     "execution_count": 120,
     "metadata": {},
     "output_type": "execute_result"
    }
   ],
   "source": [
    "from torchinfo import summary\n",
    "device = torch.device(\"cuda\" if torch.cuda.is_available() else \"cpu\")\n",
    "summary(model, input_size=(1, input_shape[0], input_shape[1]), device=device)"
   ]
  },
  {
   "cell_type": "code",
   "execution_count": 121,
   "metadata": {},
   "outputs": [
    {
     "name": "stdout",
     "output_type": "stream",
     "text": [
      "cuda\n",
      "Epoch 1/20, Train Loss: 263706552.5459, Val Loss: 0.8499\n",
      "Epoch 2/20, Train Loss: 0.8099, Val Loss: 0.8495\n",
      "Epoch 3/20, Train Loss: 0.8097, Val Loss: 0.8499\n",
      "Epoch 4/20, Train Loss: 0.8101, Val Loss: 0.8501\n",
      "Epoch 5/20, Train Loss: 0.8098, Val Loss: 0.8496\n",
      "Epoch 6/20, Train Loss: 0.8091, Val Loss: 0.8501\n",
      "Epoch 7/20, Train Loss: 0.8099, Val Loss: 0.8501\n",
      "Epoch 8/20, Train Loss: 0.8089, Val Loss: 0.8506\n",
      "Epoch 9/20, Train Loss: 0.8098, Val Loss: 0.8502\n",
      "Epoch 10/20, Train Loss: 0.8096, Val Loss: 0.8508\n",
      "Epoch 11/20, Train Loss: 0.8090, Val Loss: 0.8493\n",
      "Epoch 12/20, Train Loss: 0.8096, Val Loss: 0.8498\n",
      "Epoch 13/20, Train Loss: 0.8098, Val Loss: 0.8501\n",
      "Epoch 14/20, Train Loss: 0.8097, Val Loss: 0.8510\n",
      "Epoch 15/20, Train Loss: 0.8097, Val Loss: 0.8516\n",
      "Epoch 16/20, Train Loss: 0.8095, Val Loss: 0.8514\n",
      "Epoch 17/20, Train Loss: 0.8096, Val Loss: 0.8495\n",
      "Epoch 18/20, Train Loss: 0.8101, Val Loss: 0.8500\n",
      "Epoch 19/20, Train Loss: 0.8093, Val Loss: 0.8517\n",
      "Epoch 20/20, Train Loss: 0.8093, Val Loss: 0.8500\n"
     ]
    }
   ],
   "source": [
    "# Transfer to GPU if available\n",
    "device = torch.device(\"cuda\" if torch.cuda.is_available() else \"cpu\")\n",
    "model = model.to(device)\n",
    "print(device)\n",
    "\n",
    "# Loss and optimizer\n",
    "criterion = nn.L1Loss()  # MAE in PyTorch\n",
    "optimizer = optim.RMSprop(model.parameters())\n",
    "\n",
    "# We'll use these lists to store loss history\n",
    "train_losses = []\n",
    "val_losses = []\n",
    "\n",
    "# Training loop\n",
    "def train_model(model, train_loader, val_loader, epochs):\n",
    "\n",
    "    for epoch in range(epochs):\n",
    "        model.train()\n",
    "        train_loss = 0.0\n",
    "        for inputs, targets in train_loader:\n",
    "            optimizer.zero_grad()\n",
    "            outputs = model(inputs.to(device))\n",
    "            loss = criterion(outputs, targets.to(device))  # Ensure target matches output shape\n",
    "            loss.backward()\n",
    "            optimizer.step()\n",
    "            train_loss += loss.item()\n",
    "\n",
    "        # Average loss for this epoch\n",
    "        train_loss /= len(train_loader)\n",
    "        train_losses.append(train_loss)  # Store the average loss for plotting\n",
    "\n",
    "        # Validation\n",
    "        model.eval()\n",
    "        val_loss = 0.0\n",
    "        with torch.no_grad():\n",
    "            for inputs, targets in val_loader:\n",
    "                outputs = model(inputs.to(device))\n",
    "                loss = criterion(outputs, targets.to(device))\n",
    "                val_loss += loss.item()\n",
    "\n",
    "        # Average validation loss for this epoch\n",
    "        val_loss /= len(val_loader)\n",
    "        val_losses.append(val_loss)  # Store the average validation loss for plotting\n",
    "\n",
    "        # Print statistics\n",
    "        print(f'Epoch {epoch+1}/{epochs}, Train Loss: {train_loss:.4f}, Val Loss: {val_loss:.4f}')\n",
    "\n",
    "# Train the model\n",
    "train_model(model, train_loader, val_loader, epochs=20)"
   ]
  },
  {
   "cell_type": "code",
   "execution_count": 122,
   "metadata": {},
   "outputs": [
    {
     "data": {
      "image/png": "[encoded data removed]",
      "text/plain": [
       "<Figure size 640x480 with 1 Axes>"
      ]
     },
     "metadata": {},
     "output_type": "display_data"
    }
   ],
   "source": [
    "import matplotlib.pyplot as plt\n",
    "\n",
    "max_loss_threshold = 2\n",
    "\n",
    "# Clip the losses to this threshold\n",
    "clipped_train_losses = np.clip(train_losses, None, max_loss_threshold)\n",
    "clipped_val_losses = np.clip(val_losses, None, max_loss_threshold)\n",
    "\n",
    "# Plotting the loss curves\n",
    "epochs = range(1, len(train_losses) + 1)\n",
    "\n",
    "plt.figure()\n",
    "\n",
    "plt.plot(epochs, clipped_train_losses, 'r', label='Training loss')\n",
    "plt.plot(epochs, clipped_val_losses, 'b', label='Validation loss')\n",
    "plt.title('Training and validation loss')\n",
    "plt.xlabel('Epoch')\n",
    "plt.ylabel('Loss')\n",
    "plt.legend()\n",
    "\n",
    "plt.show()"
   ]
  },
  {
   "cell_type": "markdown",
   "metadata": {},
   "source": [
    "LSTM"
   ]
  },
  {
   "cell_type": "code",
   "execution_count": 107,
   "metadata": {},
   "outputs": [
    {
     "name": "stdout",
     "output_type": "stream",
     "text": [
      "LSTMModel(\n",
      "  (lstm): LSTM(2, 32, batch_first=True)\n",
      "  (dense): Linear(in_features=32, out_features=1, bias=True)\n",
      ")\n",
      "Total parameters: 4641\n"
     ]
    }
   ],
   "source": [
    "class LSTMModel(nn.Module):\n",
    "    def __init__(self, input_size):\n",
    "        super(LSTMModel, self).__init__()\n",
    "        # LSTM Layer:\n",
    "        # - 32 units, as in the Keras model\n",
    "        # - input_size is the number of features\n",
    "        self.lstm = nn.LSTM(input_size, 32, batch_first=True)\n",
    "        # Dense Layer:\n",
    "        # - 32 (from LSTM) to 1 output (since we're predicting one value)\n",
    "        self.dense = nn.Linear(32, 1)\n",
    "\n",
    "    def forward(self, x):\n",
    "        # LSTM expects input of shape (batch_size, sequence_length, features)\n",
    "        lstm_out, _ = self.lstm(x)\n",
    "        # We only care about the last output of LSTM for prediction\n",
    "        # Assuming variable length sequences, we take the last output from each batch\n",
    "        if x.dim() == 3:  # (batch, seq, feature)\n",
    "            lstm_out = lstm_out[:, -1, :]  # Take last time step\n",
    "        else:  # If not batched\n",
    "            lstm_out = lstm_out[-1, :]  # Take last time step\n",
    "\n",
    "        # Pass through dense layer\n",
    "        output = self.dense(lstm_out)\n",
    "        return output\n",
    "\n",
    "# Define the model with the right input size\n",
    "input_size = 2  # Number of features in your data\n",
    "model = LSTMModel(input_size)\n",
    "\n",
    "# Print model summary\n",
    "print(model)\n",
    "\n",
    "# If you want to see the number of parameters:\n",
    "total_params = sum(p.numel() for p in model.parameters())\n",
    "print(f\"Total parameters: {total_params}\")"
   ]
  },
  {
   "cell_type": "code",
   "execution_count": 109,
   "metadata": {},
   "outputs": [
    {
     "name": "stdout",
     "output_type": "stream",
     "text": [
      "cuda\n",
      "Epoch 1/20, Train Loss: 0.8146, Val Loss: 0.8490\n",
      "Epoch 2/20, Train Loss: 0.8113, Val Loss: 0.8523\n",
      "Epoch 3/20, Train Loss: 0.8102, Val Loss: 0.8481\n",
      "Epoch 4/20, Train Loss: 0.8119, Val Loss: 0.8486\n",
      "Epoch 5/20, Train Loss: 0.8116, Val Loss: 0.8709\n",
      "Epoch 6/20, Train Loss: 0.8112, Val Loss: 0.8482\n",
      "Epoch 7/20, Train Loss: 0.8102, Val Loss: 0.8482\n",
      "Epoch 8/20, Train Loss: 0.8109, Val Loss: 0.8529\n",
      "Epoch 9/20, Train Loss: 0.8106, Val Loss: 0.8510\n",
      "Epoch 10/20, Train Loss: 0.8118, Val Loss: 0.8522\n",
      "Epoch 11/20, Train Loss: 0.8114, Val Loss: 0.8492\n",
      "Epoch 12/20, Train Loss: 0.8100, Val Loss: 0.8489\n",
      "Epoch 13/20, Train Loss: 0.8108, Val Loss: 0.8555\n",
      "Epoch 14/20, Train Loss: 0.8120, Val Loss: 0.8484\n",
      "Epoch 15/20, Train Loss: 0.8113, Val Loss: 0.8481\n",
      "Epoch 16/20, Train Loss: 0.8108, Val Loss: 0.8548\n",
      "Epoch 17/20, Train Loss: 0.8110, Val Loss: 0.8511\n",
      "Epoch 18/20, Train Loss: 0.8093, Val Loss: 0.8527\n",
      "Epoch 19/20, Train Loss: 0.8108, Val Loss: 0.8550\n",
      "Epoch 20/20, Train Loss: 0.8115, Val Loss: 0.8533\n"
     ]
    }
   ],
   "source": [
    "# Transfer to GPU if available\n",
    "device = torch.device(\"cuda\" if torch.cuda.is_available() else \"cpu\")\n",
    "model = model.to(device)\n",
    "print(device)\n",
    "\n",
    "# Loss and optimizer\n",
    "criterion = nn.L1Loss()  # MAE in PyTorch\n",
    "optimizer = optim.RMSprop(model.parameters())\n",
    "\n",
    "# We'll use these lists to store loss history\n",
    "train_losses = []\n",
    "val_losses = []\n",
    "\n",
    "# Training loop\n",
    "def train_model(model, train_loader, val_loader, epochs):\n",
    "\n",
    "    for epoch in range(epochs):\n",
    "        model.train()\n",
    "        train_loss = 0.0\n",
    "        for inputs, targets in train_loader:\n",
    "            optimizer.zero_grad()\n",
    "            outputs = model(inputs.to(device))\n",
    "            loss = criterion(outputs, targets.unsqueeze(1).to(device))  # Ensure target matches output shape\n",
    "            loss.backward()\n",
    "            optimizer.step()\n",
    "            train_loss += loss.item()\n",
    "\n",
    "        # Average loss for this epoch\n",
    "        train_loss /= len(train_loader)\n",
    "        train_losses.append(train_loss)  # Store the average loss for plotting\n",
    "\n",
    "        # Validation\n",
    "        model.eval()\n",
    "        val_loss = 0.0\n",
    "        with torch.no_grad():\n",
    "            for inputs, targets in val_loader:\n",
    "                outputs = model(inputs.to(device))\n",
    "                loss = criterion(outputs, targets.unsqueeze(1).to(device))\n",
    "                val_loss += loss.item()\n",
    "\n",
    "        # Average validation loss for this epoch\n",
    "        val_loss /= len(val_loader)\n",
    "        val_losses.append(val_loss)  # Store the average validation loss for plotting\n",
    "\n",
    "        # Print statistics\n",
    "        print(f'Epoch {epoch+1}/{epochs}, Train Loss: {train_loss:.4f}, Val Loss: {val_loss:.4f}')\n",
    "\n",
    "# Train the model\n",
    "train_model(model, train_loader, val_loader, epochs=20)"
   ]
  },
  {
   "cell_type": "code",
   "execution_count": 110,
   "metadata": {},
   "outputs": [
    {
     "data": {
      "image/png": "[encoded data removed]",
      "text/plain": [
       "<Figure size 640x480 with 1 Axes>"
      ]
     },
     "metadata": {},
     "output_type": "display_data"
    }
   ],
   "source": [
    "import matplotlib.pyplot as plt\n",
    "\n",
    "max_loss_threshold = 2\n",
    "\n",
    "# Clip the losses to this threshold\n",
    "clipped_train_losses = np.clip(train_losses, None, max_loss_threshold)\n",
    "clipped_val_losses = np.clip(val_losses, None, max_loss_threshold)\n",
    "\n",
    "# Plotting the loss curves\n",
    "epochs = range(1, len(train_losses) + 1)\n",
    "\n",
    "plt.figure()\n",
    "\n",
    "plt.plot(epochs, clipped_train_losses, 'r', label='Training loss')\n",
    "plt.plot(epochs, clipped_val_losses, 'b', label='Validation loss')\n",
    "plt.title('Training and validation loss')\n",
    "plt.xlabel('Epoch')\n",
    "plt.ylabel('Loss')\n",
    "plt.legend()\n",
    "\n",
    "plt.show()"
   ]
  },
  {
   "cell_type": "markdown",
   "metadata": {},
   "source": [
    "### 3. GRU"
   ]
  },
  {
   "cell_type": "code",
   "execution_count": 111,
   "metadata": {},
   "outputs": [
    {
     "name": "stdout",
     "output_type": "stream",
     "text": [
      "GRUModel(\n",
      "  (gru): GRU(2, 32, batch_first=True)\n",
      "  (dense): Linear(in_features=32, out_features=1, bias=True)\n",
      ")\n",
      "Total parameters: 3489\n"
     ]
    }
   ],
   "source": [
    "\n",
    "class GRUModel(nn.Module):\n",
    "    def __init__(self, input_size):\n",
    "        super(GRUModel, self).__init__()\n",
    "        self.gru = nn.GRU(input_size, 32, batch_first=True)\n",
    "        self.dense = nn.Linear(32, 1)\n",
    "\n",
    "    def forward(self, x):\n",
    "        # GRU expects input of shape (batch_size, sequence_length, features)\n",
    "        gru_out, _ = self.gru(x)\n",
    "        # We only care about the last output of GRU for prediction\n",
    "        # Assuming variable length sequences, we take the last output from each batch\n",
    "        if x.dim() == 3:  # (batch, seq, feature)\n",
    "            gru_out = gru_out[:, -1, :]  # Take last time step\n",
    "        else:  # If not batched\n",
    "            gru_out = gru_out[-1, :]  # Take last time step\n",
    "\n",
    "        output = self.dense(gru_out)\n",
    "        return output\n",
    "\n",
    "# Define the model with the right input size\n",
    "input_size = 2\n",
    "model = GRUModel(input_size)\n",
    "\n",
    "# Print model summary\n",
    "print(model)\n",
    "\n",
    "total_params = sum(p.numel() for p in model.parameters())\n",
    "print(f\"Total parameters: {total_params}\")"
   ]
  },
  {
   "cell_type": "code",
   "execution_count": 112,
   "metadata": {},
   "outputs": [
    {
     "name": "stdout",
     "output_type": "stream",
     "text": [
      "cuda\n",
      "Epoch 1/20, Train Loss: 0.8285, Val Loss: 0.8482\n",
      "Epoch 2/20, Train Loss: 0.8168, Val Loss: 0.8494\n",
      "Epoch 3/20, Train Loss: 0.8153, Val Loss: 0.8491\n",
      "Epoch 4/20, Train Loss: 0.8099, Val Loss: 0.8557\n",
      "Epoch 5/20, Train Loss: 0.8135, Val Loss: 0.8550\n",
      "Epoch 6/20, Train Loss: 0.8117, Val Loss: 0.8511\n",
      "Epoch 7/20, Train Loss: 0.8136, Val Loss: 0.8520\n",
      "Epoch 8/20, Train Loss: 0.8163, Val Loss: 0.8485\n",
      "Epoch 9/20, Train Loss: 0.8120, Val Loss: 0.8501\n",
      "Epoch 10/20, Train Loss: 0.8137, Val Loss: 0.8517\n",
      "Epoch 11/20, Train Loss: 0.8122, Val Loss: 0.8511\n",
      "Epoch 12/20, Train Loss: 0.8131, Val Loss: 0.8485\n",
      "Epoch 13/20, Train Loss: 0.8139, Val Loss: 0.8484\n",
      "Epoch 14/20, Train Loss: 0.8122, Val Loss: 0.8526\n",
      "Epoch 15/20, Train Loss: 0.8113, Val Loss: 0.8522\n",
      "Epoch 16/20, Train Loss: 0.8139, Val Loss: 0.8494\n",
      "Epoch 17/20, Train Loss: 0.8103, Val Loss: 0.8686\n",
      "Epoch 18/20, Train Loss: 0.8145, Val Loss: 0.8629\n",
      "Epoch 19/20, Train Loss: 0.8138, Val Loss: 0.8557\n",
      "Epoch 20/20, Train Loss: 0.8129, Val Loss: 0.8769\n"
     ]
    }
   ],
   "source": [
    "# Transfer to GPU if available\n",
    "device = torch.device(\"cuda\" if torch.cuda.is_available() else \"cpu\")\n",
    "model = model.to(device)\n",
    "print(device)\n",
    "\n",
    "# Loss and optimizer\n",
    "criterion = nn.L1Loss()  # MAE in PyTorch\n",
    "optimizer = optim.RMSprop(model.parameters())\n",
    "\n",
    "# We'll use these lists to store loss history\n",
    "train_losses = []\n",
    "val_losses = []\n",
    "\n",
    "# Training loop\n",
    "def train_model(model, train_loader, val_loader, epochs):\n",
    "\n",
    "    for epoch in range(epochs):\n",
    "        model.train()\n",
    "        train_loss = 0.0\n",
    "        for inputs, targets in train_loader:\n",
    "            optimizer.zero_grad()\n",
    "            outputs = model(inputs.to(device))\n",
    "            loss = criterion(outputs, targets.unsqueeze(1).to(device))  # Ensure target matches output shape\n",
    "            loss.backward()\n",
    "            optimizer.step()\n",
    "            train_loss += loss.item()\n",
    "\n",
    "        # Average loss for this epoch\n",
    "        train_loss /= len(train_loader)\n",
    "        train_losses.append(train_loss)  # Store the average loss for plotting\n",
    "\n",
    "        # Validation\n",
    "        model.eval()\n",
    "        val_loss = 0.0\n",
    "        with torch.no_grad():\n",
    "            for inputs, targets in val_loader:\n",
    "                outputs = model(inputs.to(device))\n",
    "                loss = criterion(outputs, targets.unsqueeze(1).to(device))\n",
    "                val_loss += loss.item()\n",
    "\n",
    "        # Average validation loss for this epoch\n",
    "        val_loss /= len(val_loader)\n",
    "        val_losses.append(val_loss)  # Store the average validation loss for plotting\n",
    "\n",
    "        # Print statistics\n",
    "        print(f'Epoch {epoch+1}/{epochs}, Train Loss: {train_loss:.4f}, Val Loss: {val_loss:.4f}')\n",
    "\n",
    "# Train the model\n",
    "train_model(model, train_loader, val_loader, epochs=20)"
   ]
  },
  {
   "cell_type": "code",
   "execution_count": 113,
   "metadata": {},
   "outputs": [
    {
     "data": {
      "image/png": "[encoded data removed]",
      "text/plain": [
       "<Figure size 640x480 with 1 Axes>"
      ]
     },
     "metadata": {},
     "output_type": "display_data"
    }
   ],
   "source": [
    "import matplotlib.pyplot as plt\n",
    "\n",
    "max_loss_threshold = 2\n",
    "\n",
    "# Clip the losses to this threshold\n",
    "clipped_train_losses = np.clip(train_losses, None, max_loss_threshold)\n",
    "clipped_val_losses = np.clip(val_losses, None, max_loss_threshold)\n",
    "\n",
    "# Plotting the loss curves\n",
    "epochs = range(1, len(train_losses) + 1)\n",
    "\n",
    "plt.figure()\n",
    "\n",
    "plt.plot(epochs, clipped_train_losses, 'r', label='Training loss')\n",
    "plt.plot(epochs, clipped_val_losses, 'b', label='Validation loss')\n",
    "plt.title('Training and validation loss')\n",
    "plt.xlabel('Epoch')\n",
    "plt.ylabel('Loss')\n",
    "plt.legend()\n",
    "\n",
    "plt.show()"
   ]
  },
  {
   "cell_type": "markdown",
   "metadata": {},
   "source": [
    "Stack Recurrent Layers"
   ]
  },
  {
   "cell_type": "code",
   "execution_count": 114,
   "metadata": {},
   "outputs": [
    {
     "name": "stdout",
     "output_type": "stream",
     "text": [
      "GRUModel(\n",
      "  (gru1): GRU(2, 16, batch_first=True, dropout=0.1)\n",
      "  (gru1_dropout): Dropout(p=0.2, inplace=False)\n",
      "  (gru2): GRU(16, 32, batch_first=True, dropout=0.1)\n",
      "  (gru2_dropout): Dropout(p=0.2, inplace=False)\n",
      "  (dense): Linear(in_features=32, out_features=1, bias=True)\n",
      "  (relu): ReLU()\n",
      ")\n",
      "Total parameters: 5793\n"
     ]
    }
   ],
   "source": [
    "class GRUModel(nn.Module):\n",
    "    def __init__(self, input_size):\n",
    "        super(GRUModel, self).__init__()\n",
    "        # First GRU Layer:\n",
    "        self.gru1 = nn.GRU(input_size, 16, dropout=0.1, bidirectional=False, batch_first=True)\n",
    "        # Here, we manually set recurrent_dropout using a custom wrapper\n",
    "        self.gru1_dropout = nn.Dropout(0.2)\n",
    "\n",
    "        # Second GRU Layer:\n",
    "        self.gru2 = nn.GRU(16, 32, dropout=0.1, bidirectional=False, batch_first=True)\n",
    "        self.gru2_dropout = nn.Dropout(0.2)\n",
    "\n",
    "        # Dense Layer:\n",
    "        self.dense = nn.Linear(32, 1)\n",
    "\n",
    "        # Activation for the second GRU layer\n",
    "        self.relu = nn.ReLU()\n",
    "\n",
    "    def forward(self, x):\n",
    "        # First GRU layer with recurrent dropout\n",
    "        gru1_out, _ = self.gru1(x)\n",
    "        gru1_out = self.gru1_dropout(gru1_out)\n",
    "\n",
    "        # Second GRU layer\n",
    "        gru2_out, _ = self.gru2(gru1_out)\n",
    "        gru2_out = self.gru2_dropout(gru2_out)\n",
    "        gru2_out = self.relu(gru2_out)\n",
    "\n",
    "        # We take the last output of the sequence for prediction\n",
    "        if x.dim() == 3:  # (batch, seq, feature)\n",
    "            gru2_out = gru2_out[:, -1, :]  # Take last time step\n",
    "        else:  # If not batched\n",
    "            gru2_out = gru2_out[-1, :]  # Take last time step\n",
    "\n",
    "        # Dense layer\n",
    "        output = self.dense(gru2_out)\n",
    "        return output\n",
    "\n",
    "# Define the model with the right input size\n",
    "input_size = 2  # Number of features in your data\n",
    "model = GRUModel(input_size)\n",
    "\n",
    "# Print model summary\n",
    "print(model)\n",
    "\n",
    "# If you want to see the number of parameters:\n",
    "total_params = sum(p.numel() for p in model.parameters())\n",
    "print(f\"Total parameters: {total_params}\")"
   ]
  },
  {
   "cell_type": "code",
   "execution_count": 115,
   "metadata": {},
   "outputs": [
    {
     "name": "stdout",
     "output_type": "stream",
     "text": [
      "cuda\n",
      "Epoch 1/20, Train Loss: 0.8437, Val Loss: 0.8522\n",
      "Epoch 2/20, Train Loss: 0.8163, Val Loss: 0.8552\n",
      "Epoch 3/20, Train Loss: 0.8138, Val Loss: 0.8483\n",
      "Epoch 4/20, Train Loss: 0.8135, Val Loss: 0.8486\n",
      "Epoch 5/20, Train Loss: 0.8128, Val Loss: 0.8543\n",
      "Epoch 6/20, Train Loss: 0.8113, Val Loss: 0.8491\n",
      "Epoch 7/20, Train Loss: 0.8108, Val Loss: 0.8521\n",
      "Epoch 8/20, Train Loss: 0.8102, Val Loss: 0.8495\n",
      "Epoch 9/20, Train Loss: 0.8120, Val Loss: 0.8488\n",
      "Epoch 10/20, Train Loss: 0.8090, Val Loss: 0.8510\n",
      "Epoch 11/20, Train Loss: 0.8110, Val Loss: 0.8499\n",
      "Epoch 12/20, Train Loss: 0.8104, Val Loss: 0.8529\n",
      "Epoch 13/20, Train Loss: 0.8115, Val Loss: 0.8521\n",
      "Epoch 14/20, Train Loss: 0.8106, Val Loss: 0.8491\n",
      "Epoch 15/20, Train Loss: 0.8101, Val Loss: 0.8489\n",
      "Epoch 16/20, Train Loss: 0.8092, Val Loss: 0.8501\n",
      "Epoch 17/20, Train Loss: 0.8097, Val Loss: 0.8498\n",
      "Epoch 18/20, Train Loss: 0.8100, Val Loss: 0.8496\n",
      "Epoch 19/20, Train Loss: 0.8090, Val Loss: 0.8495\n",
      "Epoch 20/20, Train Loss: 0.8099, Val Loss: 0.8491\n"
     ]
    }
   ],
   "source": [
    "# Transfer to GPU if available\n",
    "device = torch.device(\"cuda\" if torch.cuda.is_available() else \"cpu\")\n",
    "model = model.to(device)\n",
    "print(device)\n",
    "\n",
    "# Loss and optimizer\n",
    "criterion = nn.L1Loss()  # MAE in PyTorch\n",
    "optimizer = optim.RMSprop(model.parameters())\n",
    "\n",
    "# We'll use these lists to store loss history\n",
    "train_losses = []\n",
    "val_losses = []\n",
    "\n",
    "# Training loop\n",
    "def train_model(model, train_loader, val_loader, epochs):\n",
    "\n",
    "    for epoch in range(epochs):\n",
    "        model.train()\n",
    "        train_loss = 0.0\n",
    "        for inputs, targets in train_loader:\n",
    "            optimizer.zero_grad()\n",
    "            outputs = model(inputs.to(device))\n",
    "            loss = criterion(outputs, targets.unsqueeze(1).to(device))  # Ensure target matches output shape\n",
    "            loss.backward()\n",
    "            optimizer.step()\n",
    "            train_loss += loss.item()\n",
    "\n",
    "        # Average loss for this epoch\n",
    "        train_loss /= len(train_loader)\n",
    "        train_losses.append(train_loss)  # Store the average loss for plotting\n",
    "\n",
    "        # Validation\n",
    "        model.eval()\n",
    "        val_loss = 0.0\n",
    "        with torch.no_grad():\n",
    "            for inputs, targets in val_loader:\n",
    "                outputs = model(inputs.to(device))\n",
    "                loss = criterion(outputs, targets.unsqueeze(1).to(device))\n",
    "                val_loss += loss.item()\n",
    "\n",
    "        # Average validation loss for this epoch\n",
    "        val_loss /= len(val_loader)\n",
    "        val_losses.append(val_loss)  # Store the average validation loss for plotting\n",
    "\n",
    "        # Print statistics\n",
    "        print(f'Epoch {epoch+1}/{epochs}, Train Loss: {train_loss:.4f}, Val Loss: {val_loss:.4f}')\n",
    "\n",
    "# Train the model\n",
    "train_model(model, train_loader, val_loader, epochs=20)"
   ]
  },
  {
   "cell_type": "code",
   "execution_count": 116,
   "metadata": {},
   "outputs": [
    {
     "data": {
      "image/png": "[encoded data removed]",
      "text/plain": [
       "<Figure size 640x480 with 1 Axes>"
      ]
     },
     "metadata": {},
     "output_type": "display_data"
    }
   ],
   "source": [
    "max_loss_threshold = 2\n",
    "\n",
    "# Clip the losses to this threshold\n",
    "clipped_train_losses = np.clip(train_losses, None, max_loss_threshold)\n",
    "clipped_val_losses = np.clip(val_losses, None, max_loss_threshold)\n",
    "\n",
    "# Plotting the loss curves\n",
    "epochs = range(1, len(train_losses) + 1)\n",
    "\n",
    "plt.figure()\n",
    "\n",
    "plt.plot(epochs, clipped_train_losses, 'r', label='Training loss')\n",
    "plt.plot(epochs, clipped_val_losses, 'b', label='Validation loss')\n",
    "plt.title('Training and validation loss')\n",
    "plt.xlabel('Epoch')\n",
    "plt.ylabel('Loss')\n",
    "plt.legend()\n",
    "\n",
    "plt.show()"
   ]
  }
 ],
 "metadata": {
  "kernelspec": {
   "display_name": "gpu2",
   "language": "python",
   "name": "python3"
  },
  "language_info": {
   "codemirror_mode": {
    "name": "ipython",
    "version": 3
   },
   "file_extension": ".py",
   "mimetype": "text/x-python",
   "name": "python",
   "nbconvert_exporter": "python",
   "pygments_lexer": "ipython3",
   "version": "3.12.8"
  }
 },
 "nbformat": 4,
 "nbformat_minor": 2
}
